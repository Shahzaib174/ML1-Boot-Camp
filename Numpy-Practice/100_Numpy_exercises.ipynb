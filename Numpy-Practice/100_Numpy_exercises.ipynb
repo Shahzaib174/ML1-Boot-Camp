{
 "cells": [
  {
   "cell_type": "markdown",
   "id": "6293cc50",
   "metadata": {},
   "source": [
    "# 100 numpy exercises\n",
    "\n",
    "This is a collection of exercises that have been collected in the numpy mailing list, on stack overflow\n",
    "and in the numpy documentation. The goal of this collection is to offer a quick reference for both old\n",
    "and new users but also to provide a set of exercises for those who teach."
   ]
  },
  {
   "cell_type": "markdown",
   "id": "a167c052",
   "metadata": {},
   "source": [
    "File automatically generated. See the documentation to update questions/answers/hints programmatically."
   ]
  },
  {
   "cell_type": "markdown",
   "id": "3c1222ff",
   "metadata": {},
   "source": [
    "#### 1. Import the numpy package under the name `np` "
   ]
  },
  {
   "cell_type": "code",
   "execution_count": 1,
   "id": "f52e6a0b",
   "metadata": {},
   "outputs": [],
   "source": [
    "import numpy as np"
   ]
  },
  {
   "cell_type": "markdown",
   "id": "9d9f4753",
   "metadata": {},
   "source": [
    "#### 2. Print the numpy version and the configuration"
   ]
  },
  {
   "cell_type": "code",
   "execution_count": 5,
   "id": "b7fa5fa1",
   "metadata": {},
   "outputs": [
    {
     "name": "stdout",
     "output_type": "stream",
     "text": [
      "1.26.4\n",
      "Build Dependencies:\n",
      "  blas:\n",
      "    detection method: pkgconfig\n",
      "    found: true\n",
      "    include directory: C:/Users/shahz/anaconda3/Library/include\n",
      "    lib directory: C:/Users/shahz/anaconda3/Library/lib\n",
      "    name: mkl-sdl\n",
      "    openblas configuration: unknown\n",
      "    pc file directory: C:\\b\\abs_c1ywpu18ar\\croot\\numpy_and_numpy_base_1708638681471\\_h_env\\Library\\lib\\pkgconfig\n",
      "    version: '2023.1'\n",
      "  lapack:\n",
      "    detection method: internal\n",
      "    found: true\n",
      "    include directory: unknown\n",
      "    lib directory: unknown\n",
      "    name: dep1583119523984\n",
      "    openblas configuration: unknown\n",
      "    pc file directory: unknown\n",
      "    version: 1.26.4\n",
      "Compilers:\n",
      "  c:\n",
      "    commands: cl.exe\n",
      "    linker: link\n",
      "    name: msvc\n",
      "    version: 19.29.30154\n",
      "  c++:\n",
      "    commands: cl.exe\n",
      "    linker: link\n",
      "    name: msvc\n",
      "    version: 19.29.30154\n",
      "  cython:\n",
      "    commands: cython\n",
      "    linker: cython\n",
      "    name: cython\n",
      "    version: 3.0.8\n",
      "Machine Information:\n",
      "  build:\n",
      "    cpu: x86_64\n",
      "    endian: little\n",
      "    family: x86_64\n",
      "    system: windows\n",
      "  host:\n",
      "    cpu: x86_64\n",
      "    endian: little\n",
      "    family: x86_64\n",
      "    system: windows\n",
      "Python Information:\n",
      "  path: C:\\b\\abs_c1ywpu18ar\\croot\\numpy_and_numpy_base_1708638681471\\_h_env\\python.exe\n",
      "  version: '3.12'\n",
      "SIMD Extensions:\n",
      "  baseline:\n",
      "  - SSE\n",
      "  - SSE2\n",
      "  - SSE3\n",
      "  found:\n",
      "  - SSSE3\n",
      "  - SSE41\n",
      "  - POPCNT\n",
      "  - SSE42\n",
      "  - AVX\n",
      "  - F16C\n",
      "  not found:\n",
      "  - FMA3\n",
      "  - AVX2\n",
      "  - AVX512F\n",
      "  - AVX512CD\n",
      "  - AVX512_SKX\n",
      "  - AVX512_CLX\n",
      "  - AVX512_CNL\n",
      "  - AVX512_ICL\n",
      "\n",
      "None\n"
     ]
    }
   ],
   "source": [
    "print(np.__version__)\n",
    "print(np.show_config())"
   ]
  },
  {
   "cell_type": "markdown",
   "id": "3e4c23c6",
   "metadata": {},
   "source": [
    "#### 3. Create a null vector of size 10"
   ]
  },
  {
   "cell_type": "code",
   "execution_count": 9,
   "id": "083c5c46",
   "metadata": {},
   "outputs": [
    {
     "name": "stdout",
     "output_type": "stream",
     "text": [
      "[0. 0. 0. 0. 0. 0. 0. 0. 0. 0.]\n"
     ]
    }
   ],
   "source": [
    "import numpy as np\n",
    "x = np.zeros(10)\n",
    "print(x)"
   ]
  },
  {
   "cell_type": "markdown",
   "id": "c38bbe82",
   "metadata": {},
   "source": [
    "#### 4. How to find the memory size of any array "
   ]
  },
  {
   "cell_type": "code",
   "execution_count": 46,
   "id": "02b04021",
   "metadata": {},
   "outputs": [
    {
     "name": "stdout",
     "output_type": "stream",
     "text": [
      "800 bytes\n"
     ]
    }
   ],
   "source": [
    "\n",
    "import numpy as np\n",
    "\n",
    "Z = np.zeros((10,10))\n",
    "print(\"%d bytes\" % (Z.size * Z.itemsize))\n"
   ]
  },
  {
   "cell_type": "markdown",
   "id": "67f893d4",
   "metadata": {},
   "source": [
    "#### 5. How to get the documentation of the numpy add function from the command line?"
   ]
  },
  {
   "cell_type": "code",
   "execution_count": 13,
   "id": "40e6b70d",
   "metadata": {},
   "outputs": [
    {
     "name": "stdout",
     "output_type": "stream",
     "text": [
      "add(x1, x2, /, out=None, *, where=True, casting='same_kind', order='K', dtype=None, subok=True[, signature, extobj])\n",
      "\n",
      "Add arguments element-wise.\n",
      "\n",
      "Parameters\n",
      "----------\n",
      "x1, x2 : array_like\n",
      "    The arrays to be added.\n",
      "    If ``x1.shape != x2.shape``, they must be broadcastable to a common\n",
      "    shape (which becomes the shape of the output).\n",
      "out : ndarray, None, or tuple of ndarray and None, optional\n",
      "    A location into which the result is stored. If provided, it must have\n",
      "    a shape that the inputs broadcast to. If not provided or None,\n",
      "    a freshly-allocated array is returned. A tuple (possible only as a\n",
      "    keyword argument) must have length equal to the number of outputs.\n",
      "where : array_like, optional\n",
      "    This condition is broadcast over the input. At locations where the\n",
      "    condition is True, the `out` array will be set to the ufunc result.\n",
      "    Elsewhere, the `out` array will retain its original value.\n",
      "    Note that if an uninitialized `out` array is created via the default\n",
      "    ``out=None``, locations within it where the condition is False will\n",
      "    remain uninitialized.\n",
      "**kwargs\n",
      "    For other keyword-only arguments, see the\n",
      "    :ref:`ufunc docs <ufuncs.kwargs>`.\n",
      "\n",
      "Returns\n",
      "-------\n",
      "add : ndarray or scalar\n",
      "    The sum of `x1` and `x2`, element-wise.\n",
      "    This is a scalar if both `x1` and `x2` are scalars.\n",
      "\n",
      "Notes\n",
      "-----\n",
      "Equivalent to `x1` + `x2` in terms of array broadcasting.\n",
      "\n",
      "Examples\n",
      "--------\n",
      ">>> np.add(1.0, 4.0)\n",
      "5.0\n",
      ">>> x1 = np.arange(9.0).reshape((3, 3))\n",
      ">>> x2 = np.arange(3.0)\n",
      ">>> np.add(x1, x2)\n",
      "array([[  0.,   2.,   4.],\n",
      "       [  3.,   5.,   7.],\n",
      "       [  6.,   8.,  10.]])\n",
      "\n",
      "The ``+`` operator can be used as a shorthand for ``np.add`` on ndarrays.\n",
      "\n",
      ">>> x1 = np.arange(9.0).reshape((3, 3))\n",
      ">>> x2 = np.arange(3.0)\n",
      ">>> x1 + x2\n",
      "array([[ 0.,  2.,  4.],\n",
      "       [ 3.,  5.,  7.],\n",
      "       [ 6.,  8., 10.]])\n"
     ]
    }
   ],
   "source": [
    "import numpy as np\n",
    "\n",
    "np.info(np.add)"
   ]
  },
  {
   "cell_type": "markdown",
   "id": "e0c739c6",
   "metadata": {},
   "source": [
    "#### 6. Create a null vector of size 10 but the fifth value which is 1"
   ]
  },
  {
   "cell_type": "code",
   "execution_count": 17,
   "id": "bcceacf7",
   "metadata": {},
   "outputs": [
    {
     "name": "stdout",
     "output_type": "stream",
     "text": [
      "[0. 0. 0. 0. 1. 0. 0. 0. 0. 0.]\n"
     ]
    }
   ],
   "source": [
    "x=np.zeros(10)\n",
    "x[4]=1\n",
    "print(x)"
   ]
  },
  {
   "cell_type": "markdown",
   "id": "fbebedab",
   "metadata": {},
   "source": [
    "#### 7. Create a vector with values ranging from 10 to 49"
   ]
  },
  {
   "cell_type": "code",
   "execution_count": 26,
   "id": "3d117d54",
   "metadata": {},
   "outputs": [
    {
     "name": "stdout",
     "output_type": "stream",
     "text": [
      "[15 16 17 18 19 20 21 22 23 24 25 26 27 28 29 30 31 32 33 34 35 36 37 38\n",
      " 39 40 41 42 43 44 45 46 47 48]\n"
     ]
    }
   ],
   "source": [
    "import numpy as np\n",
    "\n",
    "v = np.arange(15, 49)\n",
    "\n",
    "print(v)"
   ]
  },
  {
   "cell_type": "markdown",
   "id": "ad0bff02",
   "metadata": {},
   "source": [
    "#### 8. Reverse a vector (first element becomes last)"
   ]
  },
  {
   "cell_type": "code",
   "execution_count": 28,
   "id": "22d23470",
   "metadata": {},
   "outputs": [
    {
     "name": "stdout",
     "output_type": "stream",
     "text": [
      "[25 14  8  5  2]\n"
     ]
    }
   ],
   "source": [
    "import numpy as np\n",
    "arr = np.array([2, 5, 8, 14, 25])\n",
    "print(arr[::-1])"
   ]
  },
  {
   "cell_type": "markdown",
   "id": "9f59d7e1",
   "metadata": {},
   "source": [
    "#### 9. Create a 3x3 matrix with values ranging from 0 to 8"
   ]
  },
  {
   "cell_type": "code",
   "execution_count": 30,
   "id": "7449e82d",
   "metadata": {},
   "outputs": [
    {
     "name": "stdout",
     "output_type": "stream",
     "text": [
      "[[ 2  3  4]\n",
      " [ 5  6  7]\n",
      " [ 8  9 10]]\n"
     ]
    }
   ],
   "source": [
    "import numpy as np\n",
    "print(np.arange(2, 11).reshape(3, 3))\n"
   ]
  },
  {
   "cell_type": "markdown",
   "id": "f374c4cf",
   "metadata": {},
   "source": [
    "#### 10. Find indices of non-zero elements from [1,2,0,0,4,0] "
   ]
  },
  {
   "cell_type": "code",
   "execution_count": 32,
   "id": "1a84bed8",
   "metadata": {},
   "outputs": [
    {
     "name": "stdout",
     "output_type": "stream",
     "text": [
      "(array([0, 1, 4], dtype=int64),)\n"
     ]
    }
   ],
   "source": [
    "import numpy as np\n",
    "\n",
    "arr = np.array([1, 2, 0, 0, 4, 0])\n",
    "indices = np.nonzero(arr)\n",
    "print(indices)\n"
   ]
  },
  {
   "cell_type": "markdown",
   "id": "9c4707f5",
   "metadata": {},
   "source": [
    "#### 11. Create a 3x3 identity matrix"
   ]
  },
  {
   "cell_type": "code",
   "execution_count": 34,
   "id": "29dc1fd3",
   "metadata": {},
   "outputs": [
    {
     "name": "stdout",
     "output_type": "stream",
     "text": [
      "[[1. 0. 0.]\n",
      " [0. 1. 0.]\n",
      " [0. 0. 1.]]\n"
     ]
    }
   ],
   "source": [
    "import numpy as np\n",
    "\n",
    "identity_matrix = np.eye(3)\n",
    "print(identity_matrix)"
   ]
  },
  {
   "cell_type": "markdown",
   "id": "3bac294a",
   "metadata": {},
   "source": [
    "#### 12. Create a 3x3x3 array with random values"
   ]
  },
  {
   "cell_type": "code",
   "execution_count": 36,
   "id": "eadfae67",
   "metadata": {},
   "outputs": [
    {
     "name": "stdout",
     "output_type": "stream",
     "text": [
      "[[[0.13082876 0.85459718 0.23684149]\n",
      "  [0.62570677 0.93923702 0.57913449]\n",
      "  [0.82761189 0.47080564 0.86754623]]\n",
      "\n",
      " [[0.92623465 0.49485775 0.26872422]\n",
      "  [0.65030811 0.04975724 0.03283801]\n",
      "  [0.11519802 0.7915753  0.79961515]]\n",
      "\n",
      " [[0.03514747 0.9107927  0.91692015]\n",
      "  [0.21069182 0.10509977 0.85738848]\n",
      "  [0.42905302 0.62692713 0.04565635]]]\n"
     ]
    }
   ],
   "source": [
    "import numpy as np\n",
    "\n",
    "random_array = np.random.random((3, 3, 3))\n",
    "\n",
    "print(random_array)\n"
   ]
  },
  {
   "cell_type": "markdown",
   "id": "466c2989",
   "metadata": {},
   "source": [
    "#### 13. Create a 10x10 array with random values and find the minimum and maximum values"
   ]
  },
  {
   "cell_type": "code",
   "execution_count": 44,
   "id": "9a74dbfc",
   "metadata": {},
   "outputs": [
    {
     "name": "stdout",
     "output_type": "stream",
     "text": [
      "0.003002219014836327 0.9969706595429274\n"
     ]
    }
   ],
   "source": [
    "import numpy as np\n",
    "Z = np.random.random((10,10))\n",
    "Zmin, Zmax = Z.min(), Z.max()\n",
    "print(Zmin, Zmax)\n"
   ]
  },
  {
   "cell_type": "markdown",
   "id": "53a8edb2",
   "metadata": {},
   "source": [
    "#### 14. Create a random vector of size 30 and find the mean value"
   ]
  },
  {
   "cell_type": "code",
   "execution_count": 42,
   "id": "6691530b",
   "metadata": {},
   "outputs": [
    {
     "name": "stdout",
     "output_type": "stream",
     "text": [
      "0.5519836414564107\n"
     ]
    }
   ],
   "source": [
    "import numpy as np\n",
    "Z = np.random.random(30)\n",
    "m = Z.mean()\n",
    "print(m)\n"
   ]
  },
  {
   "cell_type": "markdown",
   "id": "cbaad31c",
   "metadata": {},
   "source": [
    "#### 15. Create a 2d array with 1 on the border and 0 inside"
   ]
  },
  {
   "cell_type": "code",
   "execution_count": 52,
   "id": "ad8308e3",
   "metadata": {},
   "outputs": [
    {
     "name": "stdout",
     "output_type": "stream",
     "text": [
      "[[1. 1. 1. 1. 1.]\n",
      " [1. 0. 0. 0. 1.]\n",
      " [1. 0. 0. 0. 1.]\n",
      " [1. 0. 0. 0. 1.]\n",
      " [1. 1. 1. 1. 1.]]\n"
     ]
    }
   ],
   "source": [
    "import numpy as np\n",
    "rows = 5\n",
    "cols = 5\n",
    "\n",
    "array = np.zeros((rows, cols))\n",
    "\n",
    "array[0, :] = 1  \n",
    "array[-1, :] = 1  \n",
    "array[:, 0] = 1  \n",
    "array[:, -1] = 1 \n",
    "\n",
    "print(array)\n"
   ]
  },
  {
   "cell_type": "markdown",
   "id": "c5ecc267",
   "metadata": {},
   "source": [
    "#### 16. How to add a border (filled with 0's) around an existing array?"
   ]
  },
  {
   "cell_type": "code",
   "execution_count": 58,
   "id": "9d5c78c4",
   "metadata": {},
   "outputs": [
    {
     "name": "stdout",
     "output_type": "stream",
     "text": [
      "[[0. 0. 0. 0. 0. 0. 0.]\n",
      " [0. 1. 1. 1. 1. 1. 0.]\n",
      " [0. 1. 1. 1. 1. 1. 0.]\n",
      " [0. 1. 1. 1. 1. 1. 0.]\n",
      " [0. 1. 1. 1. 1. 1. 0.]\n",
      " [0. 1. 1. 1. 1. 1. 0.]\n",
      " [0. 0. 0. 0. 0. 0. 0.]]\n"
     ]
    }
   ],
   "source": [
    "import numpy as np\n",
    "rows = 5\n",
    "cols = 5\n",
    "\n",
    "array = np.zeros((rows, cols))\n",
    "Z[:, [0, -1]] = 0\n",
    "Z[[0, -1], :] = 0\n",
    "print(Z)"
   ]
  },
  {
   "cell_type": "markdown",
   "id": "ef909b72",
   "metadata": {},
   "source": [
    "#### 17. What is the result of the following expression?\n",
    "```python\n",
    "0 * np.nan\n",
    "np.nan == np.nan\n",
    "np.inf > np.nan\n",
    "np.nan - np.nan\n",
    "np.nan in set([np.nan])\n",
    "0.3 == 3 * 0.1\n",
    "```"
   ]
  },
  {
   "cell_type": "code",
   "execution_count": 60,
   "id": "3b4985f2",
   "metadata": {},
   "outputs": [
    {
     "name": "stdout",
     "output_type": "stream",
     "text": [
      "nan\n",
      "False\n",
      "False\n",
      "nan\n",
      "True\n",
      "False\n"
     ]
    }
   ],
   "source": [
    "print(0 * np.nan)\n",
    "print(np.nan == np.nan)\n",
    "print(np.inf > np.nan)\n",
    "print(np.nan - np.nan)\n",
    "print(np.nan in set([np.nan]))\n",
    "print(0.3 == 3 * 0.1)"
   ]
  },
  {
   "cell_type": "markdown",
   "id": "502738ac",
   "metadata": {},
   "source": [
    "#### 18. Create a 5x5 matrix with values 1,2,3,4 just below the diagonal"
   ]
  },
  {
   "cell_type": "code",
   "execution_count": 62,
   "id": "faed6e2b",
   "metadata": {},
   "outputs": [
    {
     "name": "stdout",
     "output_type": "stream",
     "text": [
      "[[0 0 0 0 0]\n",
      " [1 0 0 0 0]\n",
      " [0 2 0 0 0]\n",
      " [0 0 3 0 0]\n",
      " [0 0 0 4 0]]\n"
     ]
    }
   ],
   "source": [
    "import numpy as np\n",
    "\n",
    "Z = np.diag([1, 2, 3, 4], k=-1)\n",
    "print(Z)"
   ]
  },
  {
   "cell_type": "markdown",
   "id": "a65da660",
   "metadata": {},
   "source": [
    "#### 19. Create a 8x8 matrix and fill it with a checkerboard pattern"
   ]
  },
  {
   "cell_type": "code",
   "execution_count": 64,
   "id": "ed150400",
   "metadata": {},
   "outputs": [
    {
     "name": "stdout",
     "output_type": "stream",
     "text": [
      "[[0 1 0 1 0 1 0 1]\n",
      " [1 0 1 0 1 0 1 0]\n",
      " [0 1 0 1 0 1 0 1]\n",
      " [1 0 1 0 1 0 1 0]\n",
      " [0 1 0 1 0 1 0 1]\n",
      " [1 0 1 0 1 0 1 0]\n",
      " [0 1 0 1 0 1 0 1]\n",
      " [1 0 1 0 1 0 1 0]]\n"
     ]
    }
   ],
   "source": [
    "Z = np.zeros((8,8),dtype=int)\n",
    "Z[1::2,::2] = 1\n",
    "Z[::2,1::2] = 1\n",
    "print(Z)"
   ]
  },
  {
   "cell_type": "markdown",
   "id": "9f7f9c49",
   "metadata": {},
   "source": [
    "#### 20. Consider a (6,7,8) shape array, what is the index (x,y,z) of the 100th element? "
   ]
  },
  {
   "cell_type": "code",
   "execution_count": 68,
   "id": "3782b5a9",
   "metadata": {},
   "outputs": [
    {
     "name": "stdout",
     "output_type": "stream",
     "text": [
      "(1, 5, 3)\n"
     ]
    }
   ],
   "source": [
    "print(np.unravel_index(99,(6,7,8)))"
   ]
  },
  {
   "cell_type": "markdown",
   "id": "66bfda35",
   "metadata": {},
   "source": [
    "#### 21. Create a checkerboard 8x8 matrix using the tile function"
   ]
  },
  {
   "cell_type": "code",
   "execution_count": 70,
   "id": "4c07477c",
   "metadata": {},
   "outputs": [
    {
     "name": "stdout",
     "output_type": "stream",
     "text": [
      "[[0 1 0 1 0 1 0 1]\n",
      " [1 0 1 0 1 0 1 0]\n",
      " [0 1 0 1 0 1 0 1]\n",
      " [1 0 1 0 1 0 1 0]\n",
      " [0 1 0 1 0 1 0 1]\n",
      " [1 0 1 0 1 0 1 0]\n",
      " [0 1 0 1 0 1 0 1]\n",
      " [1 0 1 0 1 0 1 0]]\n"
     ]
    }
   ],
   "source": [
    "Z = np.tile( np.array([[0,1],[1,0]]), (4,4))\n",
    "print(Z)"
   ]
  },
  {
   "cell_type": "markdown",
   "id": "d5bcfc08",
   "metadata": {},
   "source": [
    "#### 22. Normalize a 5x5 random matrix"
   ]
  },
  {
   "cell_type": "code",
   "execution_count": 72,
   "id": "cea6c993",
   "metadata": {},
   "outputs": [
    {
     "name": "stdout",
     "output_type": "stream",
     "text": [
      "[[ 0.60854804 -0.14200213  1.5283713  -1.21644048 -0.26531252]\n",
      " [ 1.4629652  -1.50685664  0.87917047 -0.8958756  -0.88798003]\n",
      " [ 1.52770079 -0.55551853 -0.27853437  1.25128864  0.71429584]\n",
      " [-0.37197107 -0.41201649  0.63188973 -1.47354889 -1.23059517]\n",
      " [-0.28573015  1.44926068 -0.68584426  1.10086178 -0.94612618]]\n"
     ]
    }
   ],
   "source": [
    "Z = np.random.random((5,5))\n",
    "Z = (Z - np.mean (Z)) / (np.std (Z))\n",
    "print(Z)"
   ]
  },
  {
   "cell_type": "markdown",
   "id": "f9a0911e",
   "metadata": {},
   "source": [
    "#### 23. Create a custom dtype that describes a color as four unsigned bytes (RGBA)"
   ]
  },
  {
   "cell_type": "code",
   "execution_count": 76,
   "id": "d165044b",
   "metadata": {},
   "outputs": [
    {
     "name": "stdout",
     "output_type": "stream",
     "text": [
      "[('r', 'u1'), ('g', 'u1'), ('b', 'u1'), ('a', 'u1')]\n"
     ]
    }
   ],
   "source": [
    "color = np.dtype([(\"r\", np.ubyte),\n",
    "                  (\"g\", np.ubyte),\n",
    "                  (\"b\", np.ubyte),\n",
    "                  (\"a\", np.ubyte)])\n",
    "print(color)"
   ]
  },
  {
   "cell_type": "code",
   "execution_count": null,
   "id": "750a3e68",
   "metadata": {},
   "outputs": [],
   "source": []
  },
  {
   "cell_type": "markdown",
   "id": "654805b1",
   "metadata": {},
   "source": [
    "#### 24. Multiply a 5x3 matrix by a 3x2 matrix (real matrix product)"
   ]
  },
  {
   "cell_type": "code",
   "execution_count": 78,
   "id": "6a42619f",
   "metadata": {},
   "outputs": [
    {
     "name": "stdout",
     "output_type": "stream",
     "text": [
      "[[3. 3.]\n",
      " [3. 3.]\n",
      " [3. 3.]\n",
      " [3. 3.]\n",
      " [3. 3.]]\n"
     ]
    }
   ],
   "source": [
    "Z = np.dot(np.ones((5,3)), np.ones((3,2)))\n",
    "print(Z)"
   ]
  },
  {
   "cell_type": "markdown",
   "id": "994c25df",
   "metadata": {},
   "source": [
    "#### 25. Given a 1D array, negate all elements which are between 3 and 8, in place."
   ]
  },
  {
   "cell_type": "code",
   "execution_count": 82,
   "id": "e4b39c03",
   "metadata": {},
   "outputs": [
    {
     "name": "stdout",
     "output_type": "stream",
     "text": [
      "[ 0  1  2  3 -4 -5 -6 -7  8  9 10]\n"
     ]
    }
   ],
   "source": [
    "Z = np.arange(11)\n",
    "Z[(3 < Z) & (Z < 8)] *= -1\n",
    "print(Z)"
   ]
  },
  {
   "cell_type": "markdown",
   "id": "b7d15d1a",
   "metadata": {},
   "source": [
    "#### 26. What is the output of the following script?\n",
    "```python\n",
    "# Author: Jake VanderPlas\n",
    "\n",
    "print(sum(range(5),-1))\n",
    "from numpy import *\n",
    "print(sum(range(5),-1))\n",
    "```"
   ]
  },
  {
   "cell_type": "code",
   "execution_count": 84,
   "id": "4c95bc3f",
   "metadata": {},
   "outputs": [
    {
     "name": "stdout",
     "output_type": "stream",
     "text": [
      "9\n",
      "10\n"
     ]
    }
   ],
   "source": [
    "print(sum(range(5),-1))\n",
    "from numpy import *\n",
    "print(sum(range(5),-1))"
   ]
  },
  {
   "cell_type": "markdown",
   "id": "a34f0d08",
   "metadata": {},
   "source": [
    "#### 27. Consider an integer vector Z, which of these expressions are legal?\n",
    "```python\n",
    "Z**Z\n",
    "2 << Z >> 2\n",
    "Z <- Z\n",
    "1j*Z\n",
    "Z/1/1\n",
    "Z<Z>Z\n",
    "```"
   ]
  },
  {
   "cell_type": "code",
   "execution_count": null,
   "id": "564658fc",
   "metadata": {},
   "outputs": [],
   "source": [
    "Z**Z\n",
    "2 << Z >> 2\n",
    "Z <- Z\n",
    "1j*Z\n",
    "Z/1/1\n",
    "Z<Z>Z"
   ]
  },
  {
   "cell_type": "markdown",
   "id": "c34e94bf",
   "metadata": {},
   "source": [
    "#### 28. What are the result of the following expressions?\n",
    "```python\n",
    "np.array(0) / np.array(0)\n",
    "np.array(0) // np.array(0)\n",
    "np.array([np.nan]).astype(int).astype(float)\n",
    "```"
   ]
  },
  {
   "cell_type": "code",
   "execution_count": 88,
   "id": "56663562",
   "metadata": {},
   "outputs": [
    {
     "name": "stdout",
     "output_type": "stream",
     "text": [
      "nan\n",
      "0\n",
      "[-2.14748365e+09]\n"
     ]
    },
    {
     "name": "stderr",
     "output_type": "stream",
     "text": [
      "C:\\Users\\shahz\\AppData\\Local\\Temp\\ipykernel_11912\\3912170336.py:1: RuntimeWarning: invalid value encountered in divide\n",
      "  print(np.array(0) / np.array(0))\n",
      "C:\\Users\\shahz\\AppData\\Local\\Temp\\ipykernel_11912\\3912170336.py:2: RuntimeWarning: divide by zero encountered in floor_divide\n",
      "  print(np.array(0) // np.array(0))\n",
      "C:\\Users\\shahz\\AppData\\Local\\Temp\\ipykernel_11912\\3912170336.py:3: RuntimeWarning: invalid value encountered in cast\n",
      "  print(np.array([np.nan]).astype(int).astype(float))\n"
     ]
    }
   ],
   "source": [
    "print(np.array(0) / np.array(0))\n",
    "print(np.array(0) // np.array(0))\n",
    "print(np.array([np.nan]).astype(int).astype(float))"
   ]
  },
  {
   "cell_type": "markdown",
   "id": "546f5e7b",
   "metadata": {},
   "source": [
    "#### 29. How to round away from zero a float array ?"
   ]
  },
  {
   "cell_type": "code",
   "execution_count": 92,
   "id": "1afdfd7a-0c2f-4a5b-9ad0-cba71e1639b7",
   "metadata": {},
   "outputs": [
    {
     "name": "stdout",
     "output_type": "stream",
     "text": [
      "[-7.  6. -3.  2.  1. 10.  3.  3.  3.  5.]\n"
     ]
    }
   ],
   "source": [
    "print(np.where(Z>0, np.ceil(Z), np.floor(Z)))"
   ]
  },
  {
   "cell_type": "markdown",
   "id": "eadca856",
   "metadata": {},
   "source": [
    "#### 30. How to find common values between two arrays?"
   ]
  },
  {
   "cell_type": "code",
   "execution_count": 94,
   "id": "e0270b5b",
   "metadata": {},
   "outputs": [
    {
     "name": "stdout",
     "output_type": "stream",
     "text": [
      "[2 4 9]\n"
     ]
    }
   ],
   "source": [
    "Z1 = np.random.randint(0,10,10)\n",
    "Z2 = np.random.randint(0,10,10)\n",
    "print(np.intersect1d(Z1,Z2))"
   ]
  },
  {
   "cell_type": "markdown",
   "id": "ca16ca22",
   "metadata": {},
   "source": [
    "#### 31. How to ignore all numpy warnings (not recommended)?"
   ]
  },
  {
   "cell_type": "code",
   "execution_count": 104,
   "id": "7d7208ef",
   "metadata": {},
   "outputs": [
    {
     "data": {
      "text/plain": [
       "{'divide': 'ignore', 'over': 'ignore', 'under': 'ignore', 'invalid': 'ignore'}"
      ]
     },
     "execution_count": 104,
     "metadata": {},
     "output_type": "execute_result"
    }
   ],
   "source": [
    "\n",
    "np.seterr(all=\"ignore\")"
   ]
  },
  {
   "cell_type": "code",
   "execution_count": 106,
   "id": "8989a9d9-93ec-4128-b59c-9aa1e7a746e6",
   "metadata": {},
   "outputs": [
    {
     "data": {
      "text/plain": [
       "{'divide': 'ignore', 'over': 'ignore', 'under': 'ignore', 'invalid': 'ignore'}"
      ]
     },
     "execution_count": 106,
     "metadata": {},
     "output_type": "execute_result"
    }
   ],
   "source": [
    " np.seterr(**defaults)"
   ]
  },
  {
   "cell_type": "markdown",
   "id": "c7871d0d",
   "metadata": {},
   "source": [
    "#### 32. Is the following expressions true?\n",
    "```python\n",
    "np.sqrt(-1) == np.emath.sqrt(-1)\n",
    "```"
   ]
  },
  {
   "cell_type": "code",
   "execution_count": 110,
   "id": "acc3701a",
   "metadata": {},
   "outputs": [
    {
     "data": {
      "text/plain": [
       "False"
      ]
     },
     "execution_count": 110,
     "metadata": {},
     "output_type": "execute_result"
    }
   ],
   "source": [
    "np.sqrt(-1) == np.emath.sqrt(-1)"
   ]
  },
  {
   "cell_type": "markdown",
   "id": "e0433e30",
   "metadata": {},
   "source": [
    "#### 33. How to get the dates of yesterday, today and tomorrow?"
   ]
  },
  {
   "cell_type": "code",
   "execution_count": 114,
   "id": "9c4d2152",
   "metadata": {},
   "outputs": [
    {
     "name": "stdout",
     "output_type": "stream",
     "text": [
      "2024-07-04 \n",
      " 2024-07-05 \n",
      " 2024-07-06\n"
     ]
    }
   ],
   "source": [
    "yesterday = np.datetime64('today') - np.timedelta64(1)\n",
    "today     = np.datetime64('today')\n",
    "tomorrow  = np.datetime64('today') + np.timedelta64(1)\n",
    "print(yesterday,\"\\n\",today,\"\\n\",tomorrow)"
   ]
  },
  {
   "cell_type": "markdown",
   "id": "9f52a2ef",
   "metadata": {},
   "source": [
    "#### 34. How to get all the dates corresponding to the month of July 2016?"
   ]
  },
  {
   "cell_type": "code",
   "execution_count": 116,
   "id": "d6c34dec",
   "metadata": {},
   "outputs": [
    {
     "name": "stdout",
     "output_type": "stream",
     "text": [
      "['2016-07-01' '2016-07-02' '2016-07-03' '2016-07-04' '2016-07-05'\n",
      " '2016-07-06' '2016-07-07' '2016-07-08' '2016-07-09' '2016-07-10'\n",
      " '2016-07-11' '2016-07-12' '2016-07-13' '2016-07-14' '2016-07-15'\n",
      " '2016-07-16' '2016-07-17' '2016-07-18' '2016-07-19' '2016-07-20'\n",
      " '2016-07-21' '2016-07-22' '2016-07-23' '2016-07-24' '2016-07-25'\n",
      " '2016-07-26' '2016-07-27' '2016-07-28' '2016-07-29' '2016-07-30'\n",
      " '2016-07-31']\n"
     ]
    }
   ],
   "source": [
    "Z = np.arange('2016-07', '2016-08', dtype='datetime64[D]')\n",
    "print(Z)"
   ]
  },
  {
   "cell_type": "markdown",
   "id": "4a64e059",
   "metadata": {},
   "source": [
    "#### 35. How to compute ((A+B)*(-A/2)) in place (without copy)?"
   ]
  },
  {
   "cell_type": "code",
   "execution_count": 118,
   "id": "49267f60",
   "metadata": {},
   "outputs": [
    {
     "data": {
      "text/plain": [
       "array([-1.5, -1.5, -1.5])"
      ]
     },
     "execution_count": 118,
     "metadata": {},
     "output_type": "execute_result"
    }
   ],
   "source": [
    "A = np.ones(3)*1\n",
    "B = np.ones(3)*2\n",
    "np.add(A,B,out=B)\n",
    "np.divide(A,2,out=A)\n",
    "np.negative(A,out=A)\n",
    "np.multiply(A,B,out=A)"
   ]
  },
  {
   "cell_type": "markdown",
   "id": "8a98c2a8",
   "metadata": {},
   "source": [
    "#### 36. Extract the integer part of a random array of positive numbers using 4 different methods"
   ]
  },
  {
   "cell_type": "code",
   "execution_count": 120,
   "id": "368130b3",
   "metadata": {},
   "outputs": [
    {
     "name": "stdout",
     "output_type": "stream",
     "text": [
      "[3. 1. 2. 0. 1. 4. 1. 3. 5. 7.]\n",
      "[3. 1. 2. 0. 1. 4. 1. 3. 5. 7.]\n",
      "[3. 1. 2. 0. 1. 4. 1. 3. 5. 7.]\n",
      "[3 1 2 0 1 4 1 3 5 7]\n",
      "[3. 1. 2. 0. 1. 4. 1. 3. 5. 7.]\n"
     ]
    }
   ],
   "source": [
    "Z = np.random.uniform(0,10,10)\n",
    "\n",
    "print(Z - Z%1)\n",
    "print(Z // 1)\n",
    "print(np.floor(Z))\n",
    "print(Z.astype(int))\n",
    "print(np.trunc(Z))\n"
   ]
  },
  {
   "cell_type": "markdown",
   "id": "5a2e3d85",
   "metadata": {},
   "source": [
    "#### 37. Create a 5x5 matrix with row values ranging from 0 to 4"
   ]
  },
  {
   "cell_type": "code",
   "execution_count": 122,
   "id": "1d974e8f",
   "metadata": {},
   "outputs": [
    {
     "name": "stdout",
     "output_type": "stream",
     "text": [
      "[[0. 1. 2. 3. 4.]\n",
      " [0. 1. 2. 3. 4.]\n",
      " [0. 1. 2. 3. 4.]\n",
      " [0. 1. 2. 3. 4.]\n",
      " [0. 1. 2. 3. 4.]]\n"
     ]
    }
   ],
   "source": [
    "Z = np.zeros((5,5))\n",
    "Z += np.arange(5)\n",
    "print(Z)"
   ]
  },
  {
   "cell_type": "markdown",
   "id": "9720e2d5",
   "metadata": {},
   "source": [
    "#### 38. Consider a generator function that generates 10 integers and use it to build an array"
   ]
  },
  {
   "cell_type": "code",
   "execution_count": 124,
   "id": "e5dd8fc9",
   "metadata": {},
   "outputs": [
    {
     "name": "stdout",
     "output_type": "stream",
     "text": [
      "[0. 1. 2. 3. 4. 5. 6. 7. 8. 9.]\n"
     ]
    }
   ],
   "source": [
    "def generate():\n",
    "    for x in range(10):\n",
    "        yield x\n",
    "Z = np.fromiter(generate(),dtype=float,count=-1)\n",
    "print(Z)"
   ]
  },
  {
   "cell_type": "markdown",
   "id": "c6f2c912",
   "metadata": {},
   "source": [
    "#### 39. Create a vector of size 10 with values ranging from 0 to 1, both excluded"
   ]
  },
  {
   "cell_type": "code",
   "execution_count": 126,
   "id": "6aaa27d3",
   "metadata": {},
   "outputs": [
    {
     "name": "stdout",
     "output_type": "stream",
     "text": [
      "[0.09090909 0.18181818 0.27272727 0.36363636 0.45454545 0.54545455\n",
      " 0.63636364 0.72727273 0.81818182 0.90909091]\n"
     ]
    }
   ],
   "source": [
    "Z = np.linspace(0,1,11,endpoint=False)[1:]\n",
    "print(Z)"
   ]
  },
  {
   "cell_type": "markdown",
   "id": "a36d6ee4",
   "metadata": {},
   "source": [
    "#### 40. Create a random vector of size 10 and sort it"
   ]
  },
  {
   "cell_type": "code",
   "execution_count": 128,
   "id": "e589d216",
   "metadata": {},
   "outputs": [
    {
     "name": "stdout",
     "output_type": "stream",
     "text": [
      "[0.06661572 0.13870827 0.22190736 0.2309736  0.31788281 0.31852565\n",
      " 0.49104706 0.50499315 0.60338007 0.93471698]\n"
     ]
    }
   ],
   "source": [
    "Z = np.random.random(10)\n",
    "Z.sort()\n",
    "print(Z)"
   ]
  },
  {
   "cell_type": "markdown",
   "id": "0fb4ad68",
   "metadata": {},
   "source": [
    "#### 41. How to sum a small array faster than np.sum?"
   ]
  },
  {
   "cell_type": "code",
   "execution_count": 130,
   "id": "a1ba05a0",
   "metadata": {},
   "outputs": [
    {
     "data": {
      "text/plain": [
       "45"
      ]
     },
     "execution_count": 130,
     "metadata": {},
     "output_type": "execute_result"
    }
   ],
   "source": [
    "Z = np.arange(10)\n",
    "np.add.reduce(Z)"
   ]
  },
  {
   "cell_type": "markdown",
   "id": "024ac365",
   "metadata": {},
   "source": [
    "#### 42. Consider two random array A and B, check if they are equal"
   ]
  },
  {
   "cell_type": "code",
   "execution_count": 132,
   "id": "7db3846d",
   "metadata": {},
   "outputs": [
    {
     "name": "stdout",
     "output_type": "stream",
     "text": [
      "False\n",
      "False\n"
     ]
    }
   ],
   "source": [
    "A = np.random.randint(0,2,5)\n",
    "B = np.random.randint(0,2,5)\n",
    "\n",
    "equal = np.allclose(A,B)\n",
    "print(equal)\n",
    "\n",
    "equal = np.array_equal(A,B)\n",
    "print(equal)"
   ]
  },
  {
   "cell_type": "markdown",
   "id": "c68d2401",
   "metadata": {},
   "source": [
    "#### 43. Make an array immutable (read-only) "
   ]
  },
  {
   "cell_type": "code",
   "execution_count": 134,
   "id": "7828539d",
   "metadata": {},
   "outputs": [
    {
     "ename": "ValueError",
     "evalue": "assignment destination is read-only",
     "output_type": "error",
     "traceback": [
      "\u001b[1;31m---------------------------------------------------------------------------\u001b[0m",
      "\u001b[1;31mValueError\u001b[0m                                Traceback (most recent call last)",
      "Cell \u001b[1;32mIn[134], line 3\u001b[0m\n\u001b[0;32m      1\u001b[0m Z \u001b[38;5;241m=\u001b[39m np\u001b[38;5;241m.\u001b[39mzeros(\u001b[38;5;241m10\u001b[39m)\n\u001b[0;32m      2\u001b[0m Z\u001b[38;5;241m.\u001b[39mflags\u001b[38;5;241m.\u001b[39mwriteable \u001b[38;5;241m=\u001b[39m \u001b[38;5;28;01mFalse\u001b[39;00m\n\u001b[1;32m----> 3\u001b[0m Z[\u001b[38;5;241m0\u001b[39m] \u001b[38;5;241m=\u001b[39m \u001b[38;5;241m1\u001b[39m\n",
      "\u001b[1;31mValueError\u001b[0m: assignment destination is read-only"
     ]
    }
   ],
   "source": [
    "Z = np.zeros(10)\n",
    "Z.flags.writeable = False\n",
    "Z[0] = 1"
   ]
  },
  {
   "cell_type": "markdown",
   "id": "55df6280",
   "metadata": {},
   "source": [
    "#### 44. Consider a random 10x2 matrix representing cartesian coordinates, convert them to polar coordinates"
   ]
  },
  {
   "cell_type": "code",
   "execution_count": 136,
   "id": "f1c86ea0",
   "metadata": {},
   "outputs": [
    {
     "name": "stdout",
     "output_type": "stream",
     "text": [
      "[1.26845407 0.32584663 0.57978073 0.94269233 0.89223856 0.36220771\n",
      " 0.91023929 0.92726692 0.69490936 0.6368897 ]\n",
      "[0.7396707  0.96522015 0.74646688 1.17019671 0.03908798 0.27235605\n",
      " 0.86525165 0.47498419 1.19019987 0.18033772]\n"
     ]
    }
   ],
   "source": [
    "Z = np.random.random((10,2))\n",
    "X,Y = Z[:,0], Z[:,1]\n",
    "R = np.sqrt(X**2+Y**2)\n",
    "T = np.arctan2(Y,X)\n",
    "print(R)\n",
    "print(T)"
   ]
  },
  {
   "cell_type": "markdown",
   "id": "2f60f1ec",
   "metadata": {},
   "source": [
    "#### 45. Create random vector of size 10 and replace the maximum value by 0"
   ]
  },
  {
   "cell_type": "code",
   "execution_count": 138,
   "id": "d9f48f1c",
   "metadata": {},
   "outputs": [
    {
     "name": "stdout",
     "output_type": "stream",
     "text": [
      "[0.22531706 0.80566198 0.65849898 0.59024851 0.21006124 0.22214095\n",
      " 0.72883269 0.         0.47671784 0.73718209]\n"
     ]
    }
   ],
   "source": [
    "Z = np.random.random(10)\n",
    "Z[Z.argmax()] = 0\n",
    "print(Z)"
   ]
  },
  {
   "cell_type": "markdown",
   "id": "084e8ad4",
   "metadata": {},
   "source": [
    "#### 46. Create a structured array with `x` and `y` coordinates covering the [0,1]x[0,1] area"
   ]
  },
  {
   "cell_type": "code",
   "execution_count": 140,
   "id": "58b47c13",
   "metadata": {},
   "outputs": [
    {
     "name": "stdout",
     "output_type": "stream",
     "text": [
      "[[(0.  , 0.  ) (0.25, 0.  ) (0.5 , 0.  ) (0.75, 0.  ) (1.  , 0.  )]\n",
      " [(0.  , 0.25) (0.25, 0.25) (0.5 , 0.25) (0.75, 0.25) (1.  , 0.25)]\n",
      " [(0.  , 0.5 ) (0.25, 0.5 ) (0.5 , 0.5 ) (0.75, 0.5 ) (1.  , 0.5 )]\n",
      " [(0.  , 0.75) (0.25, 0.75) (0.5 , 0.75) (0.75, 0.75) (1.  , 0.75)]\n",
      " [(0.  , 1.  ) (0.25, 1.  ) (0.5 , 1.  ) (0.75, 1.  ) (1.  , 1.  )]]\n"
     ]
    }
   ],
   "source": [
    "Z = np.zeros((5,5), [('x',float),('y',float)])\n",
    "Z['x'], Z['y'] = np.meshgrid(np.linspace(0,1,5),np.linspace(0,1,5))\n",
    "print(Z)"
   ]
  },
  {
   "cell_type": "markdown",
   "id": "d7b9bc42",
   "metadata": {},
   "source": [
    "#### 47. Given two arrays, X and Y, construct the Cauchy matrix C (Cij =1/(xi - yj))"
   ]
  },
  {
   "cell_type": "code",
   "execution_count": 142,
   "id": "a24824fb",
   "metadata": {},
   "outputs": [
    {
     "name": "stdout",
     "output_type": "stream",
     "text": [
      "3638.1636371179666\n"
     ]
    }
   ],
   "source": [
    "\n",
    "X = np.arange(8)\n",
    "Y = X + 0.5\n",
    "C = 1.0 / np.subtract.outer(X, Y)\n",
    "print(np.linalg.det(C))"
   ]
  },
  {
   "cell_type": "markdown",
   "id": "65ebc11b",
   "metadata": {},
   "source": [
    "#### 48. Print the minimum and maximum representable value for each numpy scalar type"
   ]
  },
  {
   "cell_type": "code",
   "execution_count": 144,
   "id": "e45d38fb",
   "metadata": {},
   "outputs": [
    {
     "name": "stdout",
     "output_type": "stream",
     "text": [
      "-128\n",
      "127\n",
      "-2147483648\n",
      "2147483647\n",
      "-9223372036854775808\n",
      "9223372036854775807\n",
      "-3.4028235e+38\n",
      "3.4028235e+38\n",
      "1.1920929e-07\n",
      "-1.7976931348623157e+308\n",
      "1.7976931348623157e+308\n",
      "2.220446049250313e-16\n"
     ]
    }
   ],
   "source": [
    "for dtype in [np.int8, np.int32, np.int64]:\n",
    "   print(np.iinfo(dtype).min)\n",
    "   print(np.iinfo(dtype).max)\n",
    "for dtype in [np.float32, np.float64]:\n",
    "   print(np.finfo(dtype).min)\n",
    "   print(np.finfo(dtype).max)\n",
    "   print(np.finfo(dtype).eps)"
   ]
  },
  {
   "cell_type": "markdown",
   "id": "9b317a98",
   "metadata": {},
   "source": [
    "#### 49. How to print all the values of an array? "
   ]
  },
  {
   "cell_type": "code",
   "execution_count": 146,
   "id": "309cdeb9",
   "metadata": {},
   "outputs": [
    {
     "name": "stdout",
     "output_type": "stream",
     "text": [
      "[[0. 0. 0. 0. 0. 0. 0. 0. 0. 0. 0. 0. 0. 0. 0. 0. 0. 0. 0. 0. 0. 0. 0. 0.\n",
      "  0. 0. 0. 0. 0. 0. 0. 0. 0. 0. 0. 0. 0. 0. 0. 0.]\n",
      " [0. 0. 0. 0. 0. 0. 0. 0. 0. 0. 0. 0. 0. 0. 0. 0. 0. 0. 0. 0. 0. 0. 0. 0.\n",
      "  0. 0. 0. 0. 0. 0. 0. 0. 0. 0. 0. 0. 0. 0. 0. 0.]\n",
      " [0. 0. 0. 0. 0. 0. 0. 0. 0. 0. 0. 0. 0. 0. 0. 0. 0. 0. 0. 0. 0. 0. 0. 0.\n",
      "  0. 0. 0. 0. 0. 0. 0. 0. 0. 0. 0. 0. 0. 0. 0. 0.]\n",
      " [0. 0. 0. 0. 0. 0. 0. 0. 0. 0. 0. 0. 0. 0. 0. 0. 0. 0. 0. 0. 0. 0. 0. 0.\n",
      "  0. 0. 0. 0. 0. 0. 0. 0. 0. 0. 0. 0. 0. 0. 0. 0.]\n",
      " [0. 0. 0. 0. 0. 0. 0. 0. 0. 0. 0. 0. 0. 0. 0. 0. 0. 0. 0. 0. 0. 0. 0. 0.\n",
      "  0. 0. 0. 0. 0. 0. 0. 0. 0. 0. 0. 0. 0. 0. 0. 0.]\n",
      " [0. 0. 0. 0. 0. 0. 0. 0. 0. 0. 0. 0. 0. 0. 0. 0. 0. 0. 0. 0. 0. 0. 0. 0.\n",
      "  0. 0. 0. 0. 0. 0. 0. 0. 0. 0. 0. 0. 0. 0. 0. 0.]\n",
      " [0. 0. 0. 0. 0. 0. 0. 0. 0. 0. 0. 0. 0. 0. 0. 0. 0. 0. 0. 0. 0. 0. 0. 0.\n",
      "  0. 0. 0. 0. 0. 0. 0. 0. 0. 0. 0. 0. 0. 0. 0. 0.]\n",
      " [0. 0. 0. 0. 0. 0. 0. 0. 0. 0. 0. 0. 0. 0. 0. 0. 0. 0. 0. 0. 0. 0. 0. 0.\n",
      "  0. 0. 0. 0. 0. 0. 0. 0. 0. 0. 0. 0. 0. 0. 0. 0.]\n",
      " [0. 0. 0. 0. 0. 0. 0. 0. 0. 0. 0. 0. 0. 0. 0. 0. 0. 0. 0. 0. 0. 0. 0. 0.\n",
      "  0. 0. 0. 0. 0. 0. 0. 0. 0. 0. 0. 0. 0. 0. 0. 0.]\n",
      " [0. 0. 0. 0. 0. 0. 0. 0. 0. 0. 0. 0. 0. 0. 0. 0. 0. 0. 0. 0. 0. 0. 0. 0.\n",
      "  0. 0. 0. 0. 0. 0. 0. 0. 0. 0. 0. 0. 0. 0. 0. 0.]\n",
      " [0. 0. 0. 0. 0. 0. 0. 0. 0. 0. 0. 0. 0. 0. 0. 0. 0. 0. 0. 0. 0. 0. 0. 0.\n",
      "  0. 0. 0. 0. 0. 0. 0. 0. 0. 0. 0. 0. 0. 0. 0. 0.]\n",
      " [0. 0. 0. 0. 0. 0. 0. 0. 0. 0. 0. 0. 0. 0. 0. 0. 0. 0. 0. 0. 0. 0. 0. 0.\n",
      "  0. 0. 0. 0. 0. 0. 0. 0. 0. 0. 0. 0. 0. 0. 0. 0.]\n",
      " [0. 0. 0. 0. 0. 0. 0. 0. 0. 0. 0. 0. 0. 0. 0. 0. 0. 0. 0. 0. 0. 0. 0. 0.\n",
      "  0. 0. 0. 0. 0. 0. 0. 0. 0. 0. 0. 0. 0. 0. 0. 0.]\n",
      " [0. 0. 0. 0. 0. 0. 0. 0. 0. 0. 0. 0. 0. 0. 0. 0. 0. 0. 0. 0. 0. 0. 0. 0.\n",
      "  0. 0. 0. 0. 0. 0. 0. 0. 0. 0. 0. 0. 0. 0. 0. 0.]\n",
      " [0. 0. 0. 0. 0. 0. 0. 0. 0. 0. 0. 0. 0. 0. 0. 0. 0. 0. 0. 0. 0. 0. 0. 0.\n",
      "  0. 0. 0. 0. 0. 0. 0. 0. 0. 0. 0. 0. 0. 0. 0. 0.]\n",
      " [0. 0. 0. 0. 0. 0. 0. 0. 0. 0. 0. 0. 0. 0. 0. 0. 0. 0. 0. 0. 0. 0. 0. 0.\n",
      "  0. 0. 0. 0. 0. 0. 0. 0. 0. 0. 0. 0. 0. 0. 0. 0.]\n",
      " [0. 0. 0. 0. 0. 0. 0. 0. 0. 0. 0. 0. 0. 0. 0. 0. 0. 0. 0. 0. 0. 0. 0. 0.\n",
      "  0. 0. 0. 0. 0. 0. 0. 0. 0. 0. 0. 0. 0. 0. 0. 0.]\n",
      " [0. 0. 0. 0. 0. 0. 0. 0. 0. 0. 0. 0. 0. 0. 0. 0. 0. 0. 0. 0. 0. 0. 0. 0.\n",
      "  0. 0. 0. 0. 0. 0. 0. 0. 0. 0. 0. 0. 0. 0. 0. 0.]\n",
      " [0. 0. 0. 0. 0. 0. 0. 0. 0. 0. 0. 0. 0. 0. 0. 0. 0. 0. 0. 0. 0. 0. 0. 0.\n",
      "  0. 0. 0. 0. 0. 0. 0. 0. 0. 0. 0. 0. 0. 0. 0. 0.]\n",
      " [0. 0. 0. 0. 0. 0. 0. 0. 0. 0. 0. 0. 0. 0. 0. 0. 0. 0. 0. 0. 0. 0. 0. 0.\n",
      "  0. 0. 0. 0. 0. 0. 0. 0. 0. 0. 0. 0. 0. 0. 0. 0.]\n",
      " [0. 0. 0. 0. 0. 0. 0. 0. 0. 0. 0. 0. 0. 0. 0. 0. 0. 0. 0. 0. 0. 0. 0. 0.\n",
      "  0. 0. 0. 0. 0. 0. 0. 0. 0. 0. 0. 0. 0. 0. 0. 0.]\n",
      " [0. 0. 0. 0. 0. 0. 0. 0. 0. 0. 0. 0. 0. 0. 0. 0. 0. 0. 0. 0. 0. 0. 0. 0.\n",
      "  0. 0. 0. 0. 0. 0. 0. 0. 0. 0. 0. 0. 0. 0. 0. 0.]\n",
      " [0. 0. 0. 0. 0. 0. 0. 0. 0. 0. 0. 0. 0. 0. 0. 0. 0. 0. 0. 0. 0. 0. 0. 0.\n",
      "  0. 0. 0. 0. 0. 0. 0. 0. 0. 0. 0. 0. 0. 0. 0. 0.]\n",
      " [0. 0. 0. 0. 0. 0. 0. 0. 0. 0. 0. 0. 0. 0. 0. 0. 0. 0. 0. 0. 0. 0. 0. 0.\n",
      "  0. 0. 0. 0. 0. 0. 0. 0. 0. 0. 0. 0. 0. 0. 0. 0.]\n",
      " [0. 0. 0. 0. 0. 0. 0. 0. 0. 0. 0. 0. 0. 0. 0. 0. 0. 0. 0. 0. 0. 0. 0. 0.\n",
      "  0. 0. 0. 0. 0. 0. 0. 0. 0. 0. 0. 0. 0. 0. 0. 0.]\n",
      " [0. 0. 0. 0. 0. 0. 0. 0. 0. 0. 0. 0. 0. 0. 0. 0. 0. 0. 0. 0. 0. 0. 0. 0.\n",
      "  0. 0. 0. 0. 0. 0. 0. 0. 0. 0. 0. 0. 0. 0. 0. 0.]\n",
      " [0. 0. 0. 0. 0. 0. 0. 0. 0. 0. 0. 0. 0. 0. 0. 0. 0. 0. 0. 0. 0. 0. 0. 0.\n",
      "  0. 0. 0. 0. 0. 0. 0. 0. 0. 0. 0. 0. 0. 0. 0. 0.]\n",
      " [0. 0. 0. 0. 0. 0. 0. 0. 0. 0. 0. 0. 0. 0. 0. 0. 0. 0. 0. 0. 0. 0. 0. 0.\n",
      "  0. 0. 0. 0. 0. 0. 0. 0. 0. 0. 0. 0. 0. 0. 0. 0.]\n",
      " [0. 0. 0. 0. 0. 0. 0. 0. 0. 0. 0. 0. 0. 0. 0. 0. 0. 0. 0. 0. 0. 0. 0. 0.\n",
      "  0. 0. 0. 0. 0. 0. 0. 0. 0. 0. 0. 0. 0. 0. 0. 0.]\n",
      " [0. 0. 0. 0. 0. 0. 0. 0. 0. 0. 0. 0. 0. 0. 0. 0. 0. 0. 0. 0. 0. 0. 0. 0.\n",
      "  0. 0. 0. 0. 0. 0. 0. 0. 0. 0. 0. 0. 0. 0. 0. 0.]\n",
      " [0. 0. 0. 0. 0. 0. 0. 0. 0. 0. 0. 0. 0. 0. 0. 0. 0. 0. 0. 0. 0. 0. 0. 0.\n",
      "  0. 0. 0. 0. 0. 0. 0. 0. 0. 0. 0. 0. 0. 0. 0. 0.]\n",
      " [0. 0. 0. 0. 0. 0. 0. 0. 0. 0. 0. 0. 0. 0. 0. 0. 0. 0. 0. 0. 0. 0. 0. 0.\n",
      "  0. 0. 0. 0. 0. 0. 0. 0. 0. 0. 0. 0. 0. 0. 0. 0.]\n",
      " [0. 0. 0. 0. 0. 0. 0. 0. 0. 0. 0. 0. 0. 0. 0. 0. 0. 0. 0. 0. 0. 0. 0. 0.\n",
      "  0. 0. 0. 0. 0. 0. 0. 0. 0. 0. 0. 0. 0. 0. 0. 0.]\n",
      " [0. 0. 0. 0. 0. 0. 0. 0. 0. 0. 0. 0. 0. 0. 0. 0. 0. 0. 0. 0. 0. 0. 0. 0.\n",
      "  0. 0. 0. 0. 0. 0. 0. 0. 0. 0. 0. 0. 0. 0. 0. 0.]\n",
      " [0. 0. 0. 0. 0. 0. 0. 0. 0. 0. 0. 0. 0. 0. 0. 0. 0. 0. 0. 0. 0. 0. 0. 0.\n",
      "  0. 0. 0. 0. 0. 0. 0. 0. 0. 0. 0. 0. 0. 0. 0. 0.]\n",
      " [0. 0. 0. 0. 0. 0. 0. 0. 0. 0. 0. 0. 0. 0. 0. 0. 0. 0. 0. 0. 0. 0. 0. 0.\n",
      "  0. 0. 0. 0. 0. 0. 0. 0. 0. 0. 0. 0. 0. 0. 0. 0.]\n",
      " [0. 0. 0. 0. 0. 0. 0. 0. 0. 0. 0. 0. 0. 0. 0. 0. 0. 0. 0. 0. 0. 0. 0. 0.\n",
      "  0. 0. 0. 0. 0. 0. 0. 0. 0. 0. 0. 0. 0. 0. 0. 0.]\n",
      " [0. 0. 0. 0. 0. 0. 0. 0. 0. 0. 0. 0. 0. 0. 0. 0. 0. 0. 0. 0. 0. 0. 0. 0.\n",
      "  0. 0. 0. 0. 0. 0. 0. 0. 0. 0. 0. 0. 0. 0. 0. 0.]\n",
      " [0. 0. 0. 0. 0. 0. 0. 0. 0. 0. 0. 0. 0. 0. 0. 0. 0. 0. 0. 0. 0. 0. 0. 0.\n",
      "  0. 0. 0. 0. 0. 0. 0. 0. 0. 0. 0. 0. 0. 0. 0. 0.]\n",
      " [0. 0. 0. 0. 0. 0. 0. 0. 0. 0. 0. 0. 0. 0. 0. 0. 0. 0. 0. 0. 0. 0. 0. 0.\n",
      "  0. 0. 0. 0. 0. 0. 0. 0. 0. 0. 0. 0. 0. 0. 0. 0.]]\n"
     ]
    }
   ],
   "source": [
    "np.set_printoptions(threshold=float(\"inf\"))\n",
    "Z = np.zeros((40,40))\n",
    "print(Z)"
   ]
  },
  {
   "cell_type": "markdown",
   "id": "b580f9d0",
   "metadata": {},
   "source": [
    "#### 50. How to find the closest value (to a given scalar) in a vector?"
   ]
  },
  {
   "cell_type": "code",
   "execution_count": 148,
   "id": "ebfb6714",
   "metadata": {},
   "outputs": [
    {
     "name": "stdout",
     "output_type": "stream",
     "text": [
      "12\n"
     ]
    }
   ],
   "source": [
    "Z = np.arange(100)\n",
    "v = np.random.uniform(0,100)\n",
    "index = (np.abs(Z-v)).argmin()\n",
    "print(Z[index])"
   ]
  },
  {
   "cell_type": "markdown",
   "id": "602e6252",
   "metadata": {},
   "source": [
    "#### 51. Create a structured array representing a position (x,y) and a color (r,g,b)"
   ]
  },
  {
   "cell_type": "code",
   "execution_count": 150,
   "id": "cf002b3a",
   "metadata": {},
   "outputs": [
    {
     "name": "stdout",
     "output_type": "stream",
     "text": [
      "[((0., 0.), (0., 0., 0.)) ((0., 0.), (0., 0., 0.))\n",
      " ((0., 0.), (0., 0., 0.)) ((0., 0.), (0., 0., 0.))\n",
      " ((0., 0.), (0., 0., 0.)) ((0., 0.), (0., 0., 0.))\n",
      " ((0., 0.), (0., 0., 0.)) ((0., 0.), (0., 0., 0.))\n",
      " ((0., 0.), (0., 0., 0.)) ((0., 0.), (0., 0., 0.))]\n"
     ]
    },
    {
     "name": "stderr",
     "output_type": "stream",
     "text": [
      "C:\\Users\\shahz\\AppData\\Local\\Temp\\ipykernel_11912\\274409719.py:1: FutureWarning: Passing (type, 1) or '1type' as a synonym of type is deprecated; in a future version of numpy, it will be understood as (type, (1,)) / '(1,)type'.\n",
      "  Z = np.zeros(10, [ ('position', [ ('x', float, 1),\n"
     ]
    }
   ],
   "source": [
    "Z = np.zeros(10, [ ('position', [ ('x', float, 1),\n",
    "                                  ('y', float, 1)]),\n",
    "                   ('color',    [ ('r', float, 1),\n",
    "                                  ('g', float, 1),\n",
    "                                  ('b', float, 1)])])\n",
    "print(Z)"
   ]
  },
  {
   "cell_type": "markdown",
   "id": "78bcd92f",
   "metadata": {},
   "source": [
    "#### 52. Consider a random vector with shape (100,2) representing coordinates, find point by point distances"
   ]
  },
  {
   "cell_type": "code",
   "execution_count": 152,
   "id": "fea7f9a6",
   "metadata": {},
   "outputs": [
    {
     "name": "stdout",
     "output_type": "stream",
     "text": [
      "[[0.         0.5997929  0.39453057 0.45431998 0.45820398 0.08880048\n",
      "  0.5479646  0.14505647 0.11012421 0.44130206]\n",
      " [0.5997929  0.         0.62235617 1.00280957 0.73158085 0.5259257\n",
      "  1.13560505 0.50360236 0.70176746 0.15864458]\n",
      " [0.39453057 0.62235617 0.         0.48599353 0.8407373  0.42703403\n",
      "  0.66957379 0.47881234 0.47264452 0.50162356]\n",
      " [0.45431998 1.00280957 0.48599353 0.         0.82654022 0.54284034\n",
      "  0.19357972 0.59860631 0.41112898 0.84926343]\n",
      " [0.45820398 0.73158085 0.8407373  0.82654022 0.         0.41388664\n",
      "  0.82732964 0.36653415 0.43214574 0.62032316]\n",
      " [0.08880048 0.5259257  0.42703403 0.54284034 0.41388664 0.\n",
      "  0.6343018  0.06087273 0.17642963 0.36906467]\n",
      " [0.5479646  1.13560505 0.66957379 0.19357972 0.82732964 0.6343018\n",
      "  0.         0.68101525 0.47013526 0.97790735]\n",
      " [0.14505647 0.50360236 0.47881234 0.59860631 0.36653415 0.06087273\n",
      "  0.68101525 0.         0.21350752 0.35129983]\n",
      " [0.11012421 0.70176746 0.47264452 0.41112898 0.43214574 0.17642963\n",
      "  0.47013526 0.21350752 0.         0.54418423]\n",
      " [0.44130206 0.15864458 0.50162356 0.84926343 0.62032316 0.36906467\n",
      "  0.97790735 0.35129983 0.54418423 0.        ]]\n"
     ]
    }
   ],
   "source": [
    "Z = np.random.random((10,2))\n",
    "X,Y = np.atleast_2d(Z[:,0], Z[:,1])\n",
    "D = np.sqrt( (X-X.T)**2 + (Y-Y.T)**2)\n",
    "print(D)"
   ]
  },
  {
   "cell_type": "markdown",
   "id": "343c5a85",
   "metadata": {},
   "source": [
    "#### 53. How to convert a float (32 bits) array into an integer (32 bits) in place?"
   ]
  },
  {
   "cell_type": "code",
   "execution_count": 156,
   "id": "fc1b687b",
   "metadata": {},
   "outputs": [
    {
     "name": "stdout",
     "output_type": "stream",
     "text": [
      "[19  8 61 40 81 15 29 85 96 91]\n"
     ]
    }
   ],
   "source": [
    "Z = (np.random.rand(10)*100).astype(np.float32)\n",
    "Y = Z.view(np.int32)\n",
    "Y[:] = Z\n",
    "print(Y)"
   ]
  },
  {
   "cell_type": "markdown",
   "id": "a69e1ace",
   "metadata": {},
   "source": [
    "#### 54. How to read the following file?\n",
    "```\n",
    "1, 2, 3, 4, 5\n",
    "6,  ,  , 7, 8\n",
    " ,  , 9,10,11\n",
    "```"
   ]
  },
  {
   "cell_type": "code",
   "execution_count": null,
   "id": "1c7957d4",
   "metadata": {},
   "outputs": [],
   "source": [
    "from io import StringIO\n",
    "\n",
    "s = StringIO('''1, 2, 3, 4, 5\n",
    "\n",
    "                6,  ,  , 7, 8\n",
    "\n",
    "                 ,  , 9,10,11\n",
    "''')\n",
    "Z = np.genfromtxt(s, delimiter=\",\", dtype=np.int)\n",
    "print(Z)"
   ]
  },
  {
   "cell_type": "markdown",
   "id": "c23bd80d",
   "metadata": {},
   "source": [
    "#### 55. What is the equivalent of enumerate for numpy arrays?"
   ]
  },
  {
   "cell_type": "code",
   "execution_count": 161,
   "id": "d95d9578",
   "metadata": {},
   "outputs": [
    {
     "name": "stdout",
     "output_type": "stream",
     "text": [
      "(0, 0) 0\n",
      "(0, 1) 1\n",
      "(0, 2) 2\n",
      "(1, 0) 3\n",
      "(1, 1) 4\n",
      "(1, 2) 5\n",
      "(2, 0) 6\n",
      "(2, 1) 7\n",
      "(2, 2) 8\n",
      "(0, 0) 0\n",
      "(0, 1) 1\n",
      "(0, 2) 2\n",
      "(1, 0) 3\n",
      "(1, 1) 4\n",
      "(1, 2) 5\n",
      "(2, 0) 6\n",
      "(2, 1) 7\n",
      "(2, 2) 8\n"
     ]
    }
   ],
   "source": [
    "Z = np.arange(9).reshape(3,3)\n",
    "for index, value in np.ndenumerate(Z):\n",
    "    print(index, value)\n",
    "for index in np.ndindex(Z.shape):\n",
    "    print(index, Z[index])"
   ]
  },
  {
   "cell_type": "markdown",
   "id": "2153a5ec",
   "metadata": {},
   "source": [
    "#### 56. Generate a generic 2D Gaussian-like array"
   ]
  },
  {
   "cell_type": "code",
   "execution_count": 163,
   "id": "61122d1e",
   "metadata": {},
   "outputs": [
    {
     "name": "stdout",
     "output_type": "stream",
     "text": [
      "[[0.36787944 0.44822088 0.51979489 0.57375342 0.60279818 0.60279818\n",
      "  0.57375342 0.51979489 0.44822088 0.36787944]\n",
      " [0.44822088 0.54610814 0.63331324 0.69905581 0.73444367 0.73444367\n",
      "  0.69905581 0.63331324 0.54610814 0.44822088]\n",
      " [0.51979489 0.63331324 0.73444367 0.81068432 0.85172308 0.85172308\n",
      "  0.81068432 0.73444367 0.63331324 0.51979489]\n",
      " [0.57375342 0.69905581 0.81068432 0.89483932 0.9401382  0.9401382\n",
      "  0.89483932 0.81068432 0.69905581 0.57375342]\n",
      " [0.60279818 0.73444367 0.85172308 0.9401382  0.98773022 0.98773022\n",
      "  0.9401382  0.85172308 0.73444367 0.60279818]\n",
      " [0.60279818 0.73444367 0.85172308 0.9401382  0.98773022 0.98773022\n",
      "  0.9401382  0.85172308 0.73444367 0.60279818]\n",
      " [0.57375342 0.69905581 0.81068432 0.89483932 0.9401382  0.9401382\n",
      "  0.89483932 0.81068432 0.69905581 0.57375342]\n",
      " [0.51979489 0.63331324 0.73444367 0.81068432 0.85172308 0.85172308\n",
      "  0.81068432 0.73444367 0.63331324 0.51979489]\n",
      " [0.44822088 0.54610814 0.63331324 0.69905581 0.73444367 0.73444367\n",
      "  0.69905581 0.63331324 0.54610814 0.44822088]\n",
      " [0.36787944 0.44822088 0.51979489 0.57375342 0.60279818 0.60279818\n",
      "  0.57375342 0.51979489 0.44822088 0.36787944]]\n"
     ]
    }
   ],
   "source": [
    "X, Y = np.meshgrid(np.linspace(-1,1,10), np.linspace(-1,1,10))\n",
    "D = np.sqrt(X*X+Y*Y)\n",
    "sigma, mu = 1.0, 0.0\n",
    "G = np.exp(-( (D-mu)**2 / ( 2.0 * sigma**2 ) ) )\n",
    "print(G)"
   ]
  },
  {
   "cell_type": "markdown",
   "id": "2e76d589",
   "metadata": {},
   "source": [
    "#### 57. How to randomly place p elements in a 2D array?"
   ]
  },
  {
   "cell_type": "code",
   "execution_count": 165,
   "id": "0c2e4fcc",
   "metadata": {},
   "outputs": [
    {
     "name": "stdout",
     "output_type": "stream",
     "text": [
      "[[0. 0. 0. 0. 0. 0. 0. 0. 0. 0.]\n",
      " [0. 0. 0. 0. 0. 0. 0. 0. 0. 0.]\n",
      " [0. 0. 0. 0. 0. 0. 0. 0. 0. 0.]\n",
      " [0. 0. 0. 0. 0. 0. 0. 0. 0. 0.]\n",
      " [0. 0. 0. 0. 0. 0. 0. 0. 0. 0.]\n",
      " [0. 0. 0. 0. 0. 0. 0. 0. 0. 0.]\n",
      " [0. 0. 0. 0. 0. 0. 0. 0. 0. 0.]\n",
      " [0. 0. 0. 0. 0. 0. 0. 0. 0. 0.]\n",
      " [0. 0. 0. 1. 1. 0. 0. 0. 0. 0.]\n",
      " [0. 0. 0. 0. 0. 0. 0. 1. 0. 0.]]\n"
     ]
    }
   ],
   "source": [
    "n = 10\n",
    "p = 3\n",
    "Z = np.zeros((n,n))\n",
    "np.put(Z, np.random.choice(range(n*n), p, replace=False),1)\n",
    "print(Z)"
   ]
  },
  {
   "cell_type": "markdown",
   "id": "8b3933eb",
   "metadata": {},
   "source": [
    "#### 58. Subtract the mean of each row of a matrix"
   ]
  },
  {
   "cell_type": "code",
   "execution_count": 167,
   "id": "a306c9ef",
   "metadata": {},
   "outputs": [
    {
     "name": "stdout",
     "output_type": "stream",
     "text": [
      "[[ 0.34295955  0.2478182  -0.32231659  0.00908417  0.21066158 -0.10325086\n",
      "   0.30490426 -0.38116626 -0.22142346 -0.08727059]\n",
      " [ 0.18441372 -0.38219283  0.37875177 -0.07189649 -0.10090018  0.30197913\n",
      "   0.34145811 -0.21475754 -0.10660633 -0.33024936]\n",
      " [ 0.11009124 -0.3876609   0.00289998  0.01955264  0.26467672  0.06496475\n",
      "  -0.3186523   0.12286362  0.06288927  0.05837498]\n",
      " [-0.3891149   0.30454266  0.04949582  0.29944831 -0.49545742  0.01583393\n",
      "   0.04472274  0.32849694 -0.00399974 -0.15396834]\n",
      " [ 0.44320749 -0.26217432 -0.43714301 -0.51969077  0.22953379  0.08764565\n",
      "   0.31188155  0.29722903 -0.34226835  0.19177893]]\n"
     ]
    }
   ],
   "source": [
    "X = np.random.rand(5, 10)\n",
    "\n",
    "# Recent versions of numpy\n",
    "Y = X - X.mean(axis=1, keepdims=True)\n",
    "\n",
    "# Older versions of numpy\n",
    "Y = X - X.mean(axis=1).reshape(-1, 1)\n",
    "\n",
    "print(Y)"
   ]
  },
  {
   "cell_type": "markdown",
   "id": "ea8807c0",
   "metadata": {},
   "source": [
    "#### 59. How to sort an array by the nth column?"
   ]
  },
  {
   "cell_type": "code",
   "execution_count": 169,
   "id": "cc89a699",
   "metadata": {},
   "outputs": [
    {
     "name": "stdout",
     "output_type": "stream",
     "text": [
      "[[9 4 4]\n",
      " [6 1 3]\n",
      " [9 6 0]]\n",
      "[[6 1 3]\n",
      " [9 4 4]\n",
      " [9 6 0]]\n"
     ]
    }
   ],
   "source": [
    "Z = np.random.randint(0,10,(3,3))\n",
    "print(Z)\n",
    "print(Z[Z[:,1].argsort()])"
   ]
  },
  {
   "cell_type": "markdown",
   "id": "00fa00a1",
   "metadata": {},
   "source": [
    "#### 60. How to tell if a given 2D array has null columns?"
   ]
  },
  {
   "cell_type": "code",
   "execution_count": 171,
   "id": "3436e165",
   "metadata": {},
   "outputs": [
    {
     "name": "stdout",
     "output_type": "stream",
     "text": [
      "False\n",
      "[False False  True]\n"
     ]
    }
   ],
   "source": [
    "# null : 0 \n",
    "Z = np.random.randint(0,3,(3,10))\n",
    "print((~Z.any(axis=0)).any())\n",
    "\n",
    "# null : np.nan\n",
    "Z=np.array([\n",
    "    [0,1,np.nan],\n",
    "    [1,2,np.nan],\n",
    "    [4,5,np.nan]\n",
    "])\n",
    "print(np.isnan(Z).all(axis=0))"
   ]
  },
  {
   "cell_type": "markdown",
   "id": "5a65c7a2",
   "metadata": {},
   "source": [
    "#### 61. Find the nearest value from a given value in an array"
   ]
  },
  {
   "cell_type": "code",
   "execution_count": 174,
   "id": "73f149d6",
   "metadata": {},
   "outputs": [
    {
     "name": "stdout",
     "output_type": "stream",
     "text": [
      "0.6018907226243936\n"
     ]
    }
   ],
   "source": [
    "Z = np.random.uniform(0,1,10)\n",
    "z = 0.5\n",
    "m = Z.flat[np.abs(Z - z).argmin()]\n",
    "print(m)"
   ]
  },
  {
   "cell_type": "markdown",
   "id": "dd83e8af",
   "metadata": {},
   "source": [
    "#### 62. Considering two arrays with shape (1,3) and (3,1), how to compute their sum using an iterator?"
   ]
  },
  {
   "cell_type": "code",
   "execution_count": 176,
   "id": "29a709a1",
   "metadata": {},
   "outputs": [
    {
     "name": "stdout",
     "output_type": "stream",
     "text": [
      "[[0 1 2]\n",
      " [1 2 3]\n",
      " [2 3 4]]\n"
     ]
    }
   ],
   "source": [
    "A = np.arange(3).reshape(3,1)\n",
    "B = np.arange(3).reshape(1,3)\n",
    "it = np.nditer([A,B,None])\n",
    "for x,y,z in it: z[...] = x + y\n",
    "print(it.operands[2])"
   ]
  },
  {
   "cell_type": "markdown",
   "id": "6c042efa",
   "metadata": {},
   "source": [
    "#### 63. Create an array class that has a name attribute"
   ]
  },
  {
   "cell_type": "code",
   "execution_count": 178,
   "id": "45b3d2e0",
   "metadata": {},
   "outputs": [
    {
     "name": "stdout",
     "output_type": "stream",
     "text": [
      "range_10\n"
     ]
    }
   ],
   "source": [
    "class NamedArray(np.ndarray):\n",
    "    def __new__(cls, array, name=\"no name\"):\n",
    "        obj = np.asarray(array).view(cls)\n",
    "        obj.name = name\n",
    "        return obj\n",
    "    def __array_finalize__(self, obj):\n",
    "        if obj is None: return\n",
    "        self.name = getattr(obj, 'name', \"no name\")\n",
    "\n",
    "Z = NamedArray(np.arange(10), \"range_10\")\n",
    "print (Z.name)"
   ]
  },
  {
   "cell_type": "markdown",
   "id": "0a075c3d",
   "metadata": {},
   "source": [
    "#### 64. Consider a given vector, how to add 1 to each element indexed by a second vector (be careful with repeated indices)?"
   ]
  },
  {
   "cell_type": "code",
   "execution_count": 180,
   "id": "36c50470",
   "metadata": {},
   "outputs": [
    {
     "name": "stdout",
     "output_type": "stream",
     "text": [
      "[1. 2. 2. 4. 3. 2. 5. 3. 4. 4.]\n"
     ]
    }
   ],
   "source": [
    "Z = np.ones(10)\n",
    "I = np.random.randint(0,len(Z),20)\n",
    "Z += np.bincount(I, minlength=len(Z))\n",
    "print(Z)"
   ]
  },
  {
   "cell_type": "markdown",
   "id": "0fb2f0c5",
   "metadata": {},
   "source": [
    "#### 65. How to accumulate elements of a vector (X) to an array (F) based on an index list (I)?"
   ]
  },
  {
   "cell_type": "code",
   "execution_count": 182,
   "id": "58aa5f82",
   "metadata": {},
   "outputs": [
    {
     "name": "stdout",
     "output_type": "stream",
     "text": [
      "[0. 7. 0. 6. 5. 0. 0. 0. 0. 3.]\n"
     ]
    }
   ],
   "source": [
    "X = [1,2,3,4,5,6]\n",
    "I = [1,3,9,3,4,1]\n",
    "F = np.bincount(I,X)\n",
    "print(F)"
   ]
  },
  {
   "cell_type": "markdown",
   "id": "d89dc506",
   "metadata": {},
   "source": [
    "#### 66. Considering a (w,h,3) image of (dtype=ubyte), compute the number of unique colors"
   ]
  },
  {
   "cell_type": "code",
   "execution_count": 184,
   "id": "8fb43a49",
   "metadata": {},
   "outputs": [
    {
     "name": "stdout",
     "output_type": "stream",
     "text": [
      "64\n"
     ]
    }
   ],
   "source": [
    "w, h = 256, 256\n",
    "I = np.random.randint(0, 4, (h, w, 3)).astype(np.ubyte)\n",
    "colors = np.unique(I.reshape(-1, 3), axis=0)\n",
    "n = len(colors)\n",
    "print(n)"
   ]
  },
  {
   "cell_type": "markdown",
   "id": "535a5d81",
   "metadata": {},
   "source": [
    "#### 67. Considering a four dimensions array, how to get sum over the last two axis at once?"
   ]
  },
  {
   "cell_type": "code",
   "execution_count": 186,
   "id": "f954ab9d",
   "metadata": {},
   "outputs": [
    {
     "name": "stdout",
     "output_type": "stream",
     "text": [
      "[[53 53 64 55]\n",
      " [43 51 65 58]\n",
      " [40 59 74 45]]\n",
      "[[53 53 64 55]\n",
      " [43 51 65 58]\n",
      " [40 59 74 45]]\n"
     ]
    }
   ],
   "source": [
    "A = np.random.randint(0,10,(3,4,3,4))\n",
    "sum = A.sum(axis=(-2,-1))\n",
    "print(sum)\n",
    "sum = A.reshape(A.shape[:-2] + (-1,)).sum(axis=-1)\n",
    "print(sum)"
   ]
  },
  {
   "cell_type": "markdown",
   "id": "eee66d3c",
   "metadata": {},
   "source": [
    "#### 68. Considering a one-dimensional vector D, how to compute means of subsets of D using a vector S of same size describing subset  indices?"
   ]
  },
  {
   "cell_type": "code",
   "execution_count": 188,
   "id": "8929773a",
   "metadata": {},
   "outputs": [
    {
     "name": "stdout",
     "output_type": "stream",
     "text": [
      "[0.45022977 0.48218205 0.61156365 0.59713167 0.40890011 0.45305986\n",
      " 0.42448281 0.45383075 0.50688178 0.47769098]\n"
     ]
    }
   ],
   "source": [
    "D = np.random.uniform(0,1,100)\n",
    "S = np.random.randint(0,10,100)\n",
    "D_sums = np.bincount(S, weights=D)\n",
    "D_counts = np.bincount(S)\n",
    "D_means = D_sums / D_counts\n",
    "print(D_means)"
   ]
  },
  {
   "cell_type": "markdown",
   "id": "f90d4c40",
   "metadata": {},
   "source": [
    "#### 69. How to get the diagonal of a dot product?"
   ]
  },
  {
   "cell_type": "code",
   "execution_count": 192,
   "id": "b47d392d",
   "metadata": {},
   "outputs": [
    {
     "data": {
      "text/plain": [
       "array([1.09344564, 1.93342423, 2.630352  , 1.99819417, 0.86664425])"
      ]
     },
     "execution_count": 192,
     "metadata": {},
     "output_type": "execute_result"
    }
   ],
   "source": [
    "A = np.random.uniform(0,1,(5,5))\n",
    "B = np.random.uniform(0,1,(5,5))\n",
    "np.sum(A * B.T, axis=1)\n"
   ]
  },
  {
   "cell_type": "markdown",
   "id": "a8a97e7d",
   "metadata": {},
   "source": [
    "#### 70. Consider the vector [1, 2, 3, 4, 5], how to build a new vector with 3 consecutive zeros interleaved between each value?"
   ]
  },
  {
   "cell_type": "code",
   "execution_count": 194,
   "id": "ee6c6c37",
   "metadata": {},
   "outputs": [
    {
     "name": "stdout",
     "output_type": "stream",
     "text": [
      "[1. 0. 0. 0. 2. 0. 0. 0. 3. 0. 0. 0. 4. 0. 0. 0. 5.]\n"
     ]
    }
   ],
   "source": [
    "Z = np.array([1,2,3,4,5])\n",
    "nz = 3\n",
    "Z0 = np.zeros(len(Z) + (len(Z)-1)*(nz))\n",
    "Z0[::nz+1] = Z\n",
    "print(Z0)"
   ]
  },
  {
   "cell_type": "markdown",
   "id": "d6a30d60",
   "metadata": {},
   "source": [
    "#### 71. Consider an array of dimension (5,5,3), how to mulitply it by an array with dimensions (5,5)?"
   ]
  },
  {
   "cell_type": "code",
   "execution_count": 196,
   "id": "e9703f2e",
   "metadata": {},
   "outputs": [
    {
     "name": "stdout",
     "output_type": "stream",
     "text": [
      "[[[2. 2. 2.]\n",
      "  [2. 2. 2.]\n",
      "  [2. 2. 2.]\n",
      "  [2. 2. 2.]\n",
      "  [2. 2. 2.]]\n",
      "\n",
      " [[2. 2. 2.]\n",
      "  [2. 2. 2.]\n",
      "  [2. 2. 2.]\n",
      "  [2. 2. 2.]\n",
      "  [2. 2. 2.]]\n",
      "\n",
      " [[2. 2. 2.]\n",
      "  [2. 2. 2.]\n",
      "  [2. 2. 2.]\n",
      "  [2. 2. 2.]\n",
      "  [2. 2. 2.]]\n",
      "\n",
      " [[2. 2. 2.]\n",
      "  [2. 2. 2.]\n",
      "  [2. 2. 2.]\n",
      "  [2. 2. 2.]\n",
      "  [2. 2. 2.]]\n",
      "\n",
      " [[2. 2. 2.]\n",
      "  [2. 2. 2.]\n",
      "  [2. 2. 2.]\n",
      "  [2. 2. 2.]\n",
      "  [2. 2. 2.]]]\n"
     ]
    }
   ],
   "source": [
    "A = np.ones((5,5,3))\n",
    "B = 2*np.ones((5,5))\n",
    "print(A * B[:,:,None])"
   ]
  },
  {
   "cell_type": "markdown",
   "id": "bac359a9",
   "metadata": {},
   "source": [
    "#### 72. How to swap two rows of an array?"
   ]
  },
  {
   "cell_type": "code",
   "execution_count": 198,
   "id": "f1b432b1",
   "metadata": {},
   "outputs": [
    {
     "name": "stdout",
     "output_type": "stream",
     "text": [
      "[[ 5  6  7  8  9]\n",
      " [ 0  1  2  3  4]\n",
      " [10 11 12 13 14]\n",
      " [15 16 17 18 19]\n",
      " [20 21 22 23 24]]\n"
     ]
    }
   ],
   "source": [
    "A = np.arange(25).reshape(5,5)\n",
    "A[[0,1]] = A[[1,0]]\n",
    "print(A)"
   ]
  },
  {
   "cell_type": "markdown",
   "id": "620c9f83",
   "metadata": {},
   "source": [
    "#### 73. Consider a set of 10 triplets describing 10 triangles (with shared vertices), find the set of unique line segments composing all the  triangles"
   ]
  },
  {
   "cell_type": "code",
   "execution_count": 199,
   "id": "4e595ffc",
   "metadata": {},
   "outputs": [
    {
     "name": "stdout",
     "output_type": "stream",
     "text": [
      "[( 2, 21) ( 2, 81) ( 5, 12) ( 5, 74) ( 6, 36) ( 6, 39) ( 7, 18) ( 7, 86)\n",
      " (12, 35) (12, 72) (12, 74) (18, 86) (21, 81) (28, 59) (28, 78) (30, 68)\n",
      " (30, 83) (32, 41) (32, 50) (35, 72) (36, 39) (41, 50) (58, 60) (58, 84)\n",
      " (59, 78) (60, 84) (68, 83) (76, 79) (76, 90) (79, 90)]\n"
     ]
    }
   ],
   "source": [
    "faces = np.random.randint(0,100,(10,3))\n",
    "F = np.roll(faces.repeat(2,axis=1),-1,axis=1)\n",
    "F = F.reshape(len(F)*3,2)\n",
    "F = np.sort(F,axis=1)\n",
    "G = F.view( dtype=[('p0',F.dtype),('p1',F.dtype)] )\n",
    "G = np.unique(G)\n",
    "print(G)"
   ]
  },
  {
   "cell_type": "markdown",
   "id": "a76c55a2",
   "metadata": {},
   "source": [
    "#### 74. Given a sorted array C that corresponds to a bincount, how to produce an array A such that np.bincount(A) == C?"
   ]
  },
  {
   "cell_type": "code",
   "execution_count": 202,
   "id": "2d2ae65a",
   "metadata": {},
   "outputs": [
    {
     "name": "stdout",
     "output_type": "stream",
     "text": [
      "[1 1 2 3 4 4 6]\n"
     ]
    }
   ],
   "source": [
    "C = np.bincount([1,1,2,3,4,4,6])\n",
    "A = np.repeat(np.arange(len(C)), C)\n",
    "print(A)"
   ]
  },
  {
   "cell_type": "markdown",
   "id": "d550c8e2",
   "metadata": {},
   "source": [
    "#### 75. How to compute averages using a sliding window over an array?"
   ]
  },
  {
   "cell_type": "code",
   "execution_count": 203,
   "id": "841c457c",
   "metadata": {},
   "outputs": [
    {
     "name": "stdout",
     "output_type": "stream",
     "text": [
      "[ 1.  2.  3.  4.  5.  6.  7.  8.  9. 10. 11. 12. 13. 14. 15. 16. 17. 18.]\n"
     ]
    }
   ],
   "source": [
    "def moving_average(a, n=3) :\n",
    "    ret = np.cumsum(a, dtype=float)\n",
    "    ret[n:] = ret[n:] - ret[:-n]\n",
    "    return ret[n - 1:] / n\n",
    "Z = np.arange(20)\n",
    "print(moving_average(Z, n=3))\n"
   ]
  },
  {
   "cell_type": "markdown",
   "id": "6b170b00",
   "metadata": {},
   "source": [
    "#### 76. Consider a one-dimensional array Z, build a two-dimensional array whose first row is (Z[0],Z[1],Z[2]) and each subsequent row is  shifted by 1 (last row should be (Z[-3],Z[-2],Z[-1])"
   ]
  },
  {
   "cell_type": "code",
   "execution_count": 208,
   "id": "d9a0cf4e",
   "metadata": {},
   "outputs": [
    {
     "name": "stdout",
     "output_type": "stream",
     "text": [
      "[[0 1 2]\n",
      " [1 2 3]\n",
      " [2 3 4]\n",
      " [3 4 5]\n",
      " [4 5 6]\n",
      " [5 6 7]\n",
      " [6 7 8]\n",
      " [7 8 9]]\n"
     ]
    }
   ],
   "source": [
    "import numpy as np\n",
    "from numpy.lib import stride_tricks\n",
    "\n",
    "def rolling(a, window):\n",
    "    shape = (a.size - window + 1, window)\n",
    "    strides = (a.strides[0], a.strides[0])\n",
    "    return stride_tricks.as_strided(a, shape=shape, strides=strides)\n",
    "\n",
    "Z = rolling(np.arange(10), 3)\n",
    "print(Z)\n"
   ]
  },
  {
   "cell_type": "markdown",
   "id": "e94a5c1d",
   "metadata": {},
   "source": [
    "#### 77. How to negate a boolean, or to change the sign of a float inplace?"
   ]
  },
  {
   "cell_type": "code",
   "execution_count": 210,
   "id": "c0f9504f",
   "metadata": {},
   "outputs": [
    {
     "data": {
      "text/plain": [
       "array([-0.96814537, -0.84956342,  0.41030496, -0.4249819 ,  0.21377441,\n",
       "        0.14522493, -0.38459416, -0.49647235, -0.80289232, -0.67721666,\n",
       "       -0.17639015,  0.77487838, -0.63868587,  0.73992083, -0.91109842,\n",
       "        0.61938545, -0.74261679, -0.99064451,  0.71752097,  0.80088922,\n",
       "       -0.63775351,  0.06068958,  0.7310408 ,  0.15493111,  0.57096998,\n",
       "       -0.71385301,  0.13723371, -0.92312376,  0.34737927, -0.2588113 ,\n",
       "        0.36399535,  0.65223915, -0.51403445, -0.23639762,  0.24629669,\n",
       "        0.09075624, -0.23237973, -0.04532195,  0.5920402 , -0.30323399,\n",
       "       -0.05107063,  0.31517798,  0.33266485, -0.26776166,  0.24182959,\n",
       "       -0.14847547, -0.2392601 ,  0.41767629,  0.61583553, -0.03076779,\n",
       "       -0.58257334, -0.05000097,  0.24612704,  0.89709697, -0.82386653,\n",
       "        0.85619805, -0.39007128, -0.55543175,  0.79171329, -0.87119257,\n",
       "       -0.1880079 , -0.51839686,  0.53278424, -0.94675383,  0.99240395,\n",
       "        0.39986782, -0.45504811,  0.80710016,  0.95394049,  0.95521271,\n",
       "        0.7693998 ,  0.73550314, -0.33363174,  0.63997877,  0.37296285,\n",
       "       -0.99650136,  0.98983562,  0.85218817, -0.57041684,  0.96413769,\n",
       "        0.8860059 ,  0.19465191, -0.13401339,  0.27401832,  0.56041272,\n",
       "        0.52639584, -0.65801204,  0.96833494,  0.39638171, -0.12430569,\n",
       "        0.96063756, -0.71860847, -0.79815783,  0.55294962, -0.47866656,\n",
       "        0.68299156,  0.08274694, -0.73713846, -0.03215628, -0.14252471])"
      ]
     },
     "execution_count": 210,
     "metadata": {},
     "output_type": "execute_result"
    }
   ],
   "source": [
    "Z = np.random.randint(0,2,100)\n",
    "np.logical_not(Z, out=Z)\n",
    "\n",
    "Z = np.random.uniform(-1.0,1.0,100)\n",
    "np.negative(Z, out=Z)"
   ]
  },
  {
   "cell_type": "markdown",
   "id": "4eb8b5c1",
   "metadata": {},
   "source": [
    "#### 78. Consider 2 sets of points P0,P1 describing lines (2d) and a point p, how to compute distance from p to each line i (P0[i],P1[i])?"
   ]
  },
  {
   "cell_type": "code",
   "execution_count": 212,
   "id": "487f47ec",
   "metadata": {},
   "outputs": [
    {
     "name": "stdout",
     "output_type": "stream",
     "text": [
      "[ 3.34102648  0.50625617  8.97252762 12.43486111  0.21060323  3.88288511\n",
      "  9.62870246  1.57693529  3.10887268 12.11177104]\n"
     ]
    }
   ],
   "source": [
    "def distance(P0, P1, p):\n",
    "    T = P1 - P0\n",
    "    L = (T**2).sum(axis=1)\n",
    "    U = -((P0[:,0]-p[...,0])*T[:,0] + (P0[:,1]-p[...,1])*T[:,1]) / L\n",
    "    U = U.reshape(len(U),1)\n",
    "    D = P0 + U*T - p\n",
    "    return np.sqrt((D**2).sum(axis=1))\n",
    "\n",
    "P0 = np.random.uniform(-10,10,(10,2))\n",
    "P1 = np.random.uniform(-10,10,(10,2))\n",
    "p  = np.random.uniform(-10,10,( 1,2))\n",
    "print(distance(P0, P1, p))"
   ]
  },
  {
   "cell_type": "markdown",
   "id": "3df99948",
   "metadata": {},
   "source": [
    "#### 79. Consider 2 sets of points P0,P1 describing lines (2d) and a set of points P, how to compute distance from each point j (P[j]) to each line i (P0[i],P1[i])?"
   ]
  },
  {
   "cell_type": "code",
   "execution_count": 214,
   "id": "dc2df37b",
   "metadata": {},
   "outputs": [
    {
     "name": "stdout",
     "output_type": "stream",
     "text": [
      "[[ 1.63800528  7.79503958  0.9579816   3.95681465  5.91408345  7.30665428\n",
      "  11.68364246  6.66319424  0.19697922  0.59141798]\n",
      " [ 1.05855324  8.32127896  8.75541201 11.49669772  1.13459487  8.58089403\n",
      "   4.39736609  9.43279595 13.47597596  7.12689977]\n",
      " [ 2.1665441   6.58966186  8.84036395 10.1466373   2.64393643  6.7108696\n",
      "   2.75353942  7.77107758 12.57262518  7.38712432]\n",
      " [ 0.25153646  6.5311727   0.05775318  3.29219918  3.7832035   5.77330682\n",
      "  10.57066874  5.52033308  0.12238017  0.59325925]\n",
      " [10.68844285  0.99774813 12.44835569  5.31935278 12.74937009  2.05454037\n",
      "   4.15465268  0.72739418 10.59827732 11.90225976]\n",
      " [ 7.79145928  3.7994228   8.4476795   1.74326955 10.725632    4.34922199\n",
      "   7.19097528  2.26485854  6.59959916  8.00720685]\n",
      " [ 4.23871396  8.68638807  4.26937078 10.27861845  4.00556381  9.76440546\n",
      "   4.33723604  9.45527912 10.92701978  2.41175121]\n",
      " [ 1.68245254  0.28282604  5.1617286   3.88822022  3.83738994  0.60435188\n",
      "   3.59657621  1.42616705  6.83738764  4.17535544]\n",
      " [ 5.08749942  6.1544894   4.13077564  4.36215564  0.92070924  4.65034915\n",
      "  10.58216309  5.45639241  2.41172685  4.87877432]\n",
      " [ 0.52889303 10.11768401  9.21417638 13.08120393  0.15897967 10.42428518\n",
      "   6.15247926 11.19682019 14.74842852  7.42735291]]\n"
     ]
    }
   ],
   "source": [
    "# based on distance function from previous question\n",
    "P0 = np.random.uniform(-10, 10, (10,2))\n",
    "P1 = np.random.uniform(-10,10,(10,2))\n",
    "p = np.random.uniform(-10, 10, (10,2))\n",
    "print(np.array([distance(P0,P1,p_i) for p_i in p]))"
   ]
  },
  {
   "cell_type": "markdown",
   "id": "11e972c2",
   "metadata": {},
   "source": [
    "#### 80. Consider an arbitrary array, write a function that extract a subpart with a fixed shape and centered on a given element (pad with a `fill` value when necessary)"
   ]
  },
  {
   "cell_type": "code",
   "execution_count": 218,
   "id": "0291247f",
   "metadata": {},
   "outputs": [
    {
     "name": "stdout",
     "output_type": "stream",
     "text": [
      "Z:\n",
      "[[6 3 1 0 8 5 4 9 1 4]\n",
      " [7 1 8 3 8 4 1 4 1 4]\n",
      " [1 4 3 7 9 7 5 5 0 9]\n",
      " [1 1 9 9 5 1 1 5 0 5]\n",
      " [5 4 0 4 7 7 0 9 3 6]\n",
      " [5 9 4 4 5 5 1 5 4 1]\n",
      " [3 2 4 8 2 2 7 4 1 0]\n",
      " [3 8 6 4 5 2 1 0 4 2]\n",
      " [0 3 0 6 8 2 6 7 3 2]\n",
      " [0 6 6 6 9 9 9 9 9 5]]\n",
      "R:\n",
      "[[0 0 0 0 0]\n",
      " [0 6 3 1 0]\n",
      " [0 7 1 8 3]\n",
      " [0 1 4 3 7]\n",
      " [0 1 1 9 9]]\n"
     ]
    }
   ],
   "source": [
    "import numpy as np\n",
    "\n",
    "Z = np.random.randint(0, 10, (10, 10))\n",
    "shape = (5, 5)\n",
    "fill = 0\n",
    "position = (1, 1)\n",
    "\n",
    "R = np.ones(shape, dtype=Z.dtype) * fill\n",
    "P = np.array(list(position)).astype(int)\n",
    "Rs = np.array(list(R.shape)).astype(int)\n",
    "Zs = np.array(list(Z.shape)).astype(int)\n",
    "\n",
    "R_start = np.zeros((len(shape),)).astype(int)\n",
    "R_stop = np.array(list(shape)).astype(int)\n",
    "Z_start = (P - Rs // 2)\n",
    "Z_stop = (P + Rs // 2) + Rs % 2\n",
    "\n",
    "R_start = (R_start - np.minimum(Z_start, 0)).tolist()\n",
    "Z_start = (np.maximum(Z_start, 0)).tolist()\n",
    "R_stop = np.maximum(R_start, (R_stop - np.maximum(Z_stop - Zs, 0))).tolist()\n",
    "Z_stop = (np.minimum(Z_stop, Zs)).tolist()\n",
    "\n",
    "r = [slice(start, stop) for start, stop in zip(R_start, R_stop)]\n",
    "z = [slice(start, stop) for start, stop in zip(Z_start, Z_stop)]\n",
    "\n",
    "# Convert lists of slices to tuple of slices\n",
    "R[tuple(r)] = Z[tuple(z)]\n",
    "\n",
    "print(\"Z:\")\n",
    "print(Z)\n",
    "print(\"R:\")\n",
    "print(R)\n"
   ]
  },
  {
   "cell_type": "markdown",
   "id": "93cfeab3",
   "metadata": {},
   "source": [
    "#### 81. Consider an array Z = [1,2,3,4,5,6,7,8,9,10,11,12,13,14], how to generate an array R = [[1,2,3,4], [2,3,4,5], [3,4,5,6], ..., [11,12,13,14]]?"
   ]
  },
  {
   "cell_type": "code",
   "execution_count": 220,
   "id": "360de791",
   "metadata": {},
   "outputs": [
    {
     "name": "stdout",
     "output_type": "stream",
     "text": [
      "[[ 1  2  3  4]\n",
      " [ 2  3  4  5]\n",
      " [ 3  4  5  6]\n",
      " [ 4  5  6  7]\n",
      " [ 5  6  7  8]\n",
      " [ 6  7  8  9]\n",
      " [ 7  8  9 10]\n",
      " [ 8  9 10 11]\n",
      " [ 9 10 11 12]\n",
      " [10 11 12 13]\n",
      " [11 12 13 14]]\n"
     ]
    }
   ],
   "source": [
    "Z = np.arange(1,15,dtype=np.uint32)\n",
    "R = stride_tricks.as_strided(Z,(11,4),(4,4))\n",
    "print(R)"
   ]
  },
  {
   "cell_type": "markdown",
   "id": "4c15ceff",
   "metadata": {},
   "source": [
    "#### 82. Compute a matrix rank (★★★)"
   ]
  },
  {
   "cell_type": "code",
   "execution_count": 228,
   "id": "9a4272d2",
   "metadata": {},
   "outputs": [
    {
     "name": "stdout",
     "output_type": "stream",
     "text": [
      "[[ 1  2  3  4]\n",
      " [ 2  3  4  5]\n",
      " [ 3  4  5  6]\n",
      " [ 4  5  6  7]\n",
      " [ 5  6  7  8]\n",
      " [ 6  7  8  9]\n",
      " [ 7  8  9 10]\n",
      " [ 8  9 10 11]\n",
      " [ 9 10 11 12]\n",
      " [10 11 12 13]\n",
      " [11 12 13 14]]\n"
     ]
    }
   ],
   "source": [
    "import numpy as np\n",
    "\n",
    "def sliding_window_view(arr, window_shape):\n",
    "    # Ensure arr is a NumPy array\n",
    "    arr = np.asarray(arr)\n",
    "    \n",
    "    shape = (arr.size - window_shape + 1, window_shape)\n",
    "    \n",
    "    strides = (arr.itemsize,) * 2  # Using itemsize to determine strides\n",
    "    \n",
    "    return np.lib.stride_tricks.as_strided(arr, shape=shape, strides=strides)\n",
    "\n",
    "Z = np.arange(1, 15, dtype=np.uint32)\n",
    "print(sliding_window_view(Z, window_shape=4))\n"
   ]
  },
  {
   "cell_type": "markdown",
   "id": "1171cb84",
   "metadata": {},
   "source": [
    "#### 83. How to find the most frequent value in an array?"
   ]
  },
  {
   "cell_type": "code",
   "execution_count": 230,
   "id": "33e951c8",
   "metadata": {},
   "outputs": [
    {
     "name": "stdout",
     "output_type": "stream",
     "text": [
      "6\n"
     ]
    }
   ],
   "source": [
    "Z = np.random.randint(0,10,50)\n",
    "print(np.bincount(Z).argmax())"
   ]
  },
  {
   "cell_type": "markdown",
   "id": "04f472aa",
   "metadata": {},
   "source": [
    "#### 84. Extract all the contiguous 3x3 blocks from a random 10x10 matrix"
   ]
  },
  {
   "cell_type": "code",
   "execution_count": 232,
   "id": "7aade14a",
   "metadata": {},
   "outputs": [
    {
     "name": "stdout",
     "output_type": "stream",
     "text": [
      "[[[[2 0 1]\n",
      "   [3 1 2]\n",
      "   [4 0 1]]\n",
      "\n",
      "  [[0 1 4]\n",
      "   [1 2 0]\n",
      "   [0 1 1]]\n",
      "\n",
      "  [[1 4 2]\n",
      "   [2 0 2]\n",
      "   [1 1 0]]\n",
      "\n",
      "  [[4 2 1]\n",
      "   [0 2 0]\n",
      "   [1 0 3]]\n",
      "\n",
      "  [[2 1 2]\n",
      "   [2 0 3]\n",
      "   [0 3 0]]\n",
      "\n",
      "  [[1 2 0]\n",
      "   [0 3 3]\n",
      "   [3 0 2]]\n",
      "\n",
      "  [[2 0 1]\n",
      "   [3 3 1]\n",
      "   [0 2 2]]\n",
      "\n",
      "  [[0 1 3]\n",
      "   [3 1 3]\n",
      "   [2 2 0]]]\n",
      "\n",
      "\n",
      " [[[3 1 2]\n",
      "   [4 0 1]\n",
      "   [4 0 2]]\n",
      "\n",
      "  [[1 2 0]\n",
      "   [0 1 1]\n",
      "   [0 2 0]]\n",
      "\n",
      "  [[2 0 2]\n",
      "   [1 1 0]\n",
      "   [2 0 3]]\n",
      "\n",
      "  [[0 2 0]\n",
      "   [1 0 3]\n",
      "   [0 3 3]]\n",
      "\n",
      "  [[2 0 3]\n",
      "   [0 3 0]\n",
      "   [3 3 4]]\n",
      "\n",
      "  [[0 3 3]\n",
      "   [3 0 2]\n",
      "   [3 4 0]]\n",
      "\n",
      "  [[3 3 1]\n",
      "   [0 2 2]\n",
      "   [4 0 0]]\n",
      "\n",
      "  [[3 1 3]\n",
      "   [2 2 0]\n",
      "   [0 0 0]]]\n",
      "\n",
      "\n",
      " [[[4 0 1]\n",
      "   [4 0 2]\n",
      "   [2 1 1]]\n",
      "\n",
      "  [[0 1 1]\n",
      "   [0 2 0]\n",
      "   [1 1 2]]\n",
      "\n",
      "  [[1 1 0]\n",
      "   [2 0 3]\n",
      "   [1 2 1]]\n",
      "\n",
      "  [[1 0 3]\n",
      "   [0 3 3]\n",
      "   [2 1 4]]\n",
      "\n",
      "  [[0 3 0]\n",
      "   [3 3 4]\n",
      "   [1 4 4]]\n",
      "\n",
      "  [[3 0 2]\n",
      "   [3 4 0]\n",
      "   [4 4 0]]\n",
      "\n",
      "  [[0 2 2]\n",
      "   [4 0 0]\n",
      "   [4 0 3]]\n",
      "\n",
      "  [[2 2 0]\n",
      "   [0 0 0]\n",
      "   [0 3 0]]]\n",
      "\n",
      "\n",
      " [[[4 0 2]\n",
      "   [2 1 1]\n",
      "   [1 1 4]]\n",
      "\n",
      "  [[0 2 0]\n",
      "   [1 1 2]\n",
      "   [1 4 3]]\n",
      "\n",
      "  [[2 0 3]\n",
      "   [1 2 1]\n",
      "   [4 3 1]]\n",
      "\n",
      "  [[0 3 3]\n",
      "   [2 1 4]\n",
      "   [3 1 3]]\n",
      "\n",
      "  [[3 3 4]\n",
      "   [1 4 4]\n",
      "   [1 3 4]]\n",
      "\n",
      "  [[3 4 0]\n",
      "   [4 4 0]\n",
      "   [3 4 1]]\n",
      "\n",
      "  [[4 0 0]\n",
      "   [4 0 3]\n",
      "   [4 1 0]]\n",
      "\n",
      "  [[0 0 0]\n",
      "   [0 3 0]\n",
      "   [1 0 0]]]\n",
      "\n",
      "\n",
      " [[[2 1 1]\n",
      "   [1 1 4]\n",
      "   [0 4 0]]\n",
      "\n",
      "  [[1 1 2]\n",
      "   [1 4 3]\n",
      "   [4 0 0]]\n",
      "\n",
      "  [[1 2 1]\n",
      "   [4 3 1]\n",
      "   [0 0 2]]\n",
      "\n",
      "  [[2 1 4]\n",
      "   [3 1 3]\n",
      "   [0 2 2]]\n",
      "\n",
      "  [[1 4 4]\n",
      "   [1 3 4]\n",
      "   [2 2 1]]\n",
      "\n",
      "  [[4 4 0]\n",
      "   [3 4 1]\n",
      "   [2 1 0]]\n",
      "\n",
      "  [[4 0 3]\n",
      "   [4 1 0]\n",
      "   [1 0 4]]\n",
      "\n",
      "  [[0 3 0]\n",
      "   [1 0 0]\n",
      "   [0 4 2]]]\n",
      "\n",
      "\n",
      " [[[1 1 4]\n",
      "   [0 4 0]\n",
      "   [2 0 0]]\n",
      "\n",
      "  [[1 4 3]\n",
      "   [4 0 0]\n",
      "   [0 0 2]]\n",
      "\n",
      "  [[4 3 1]\n",
      "   [0 0 2]\n",
      "   [0 2 1]]\n",
      "\n",
      "  [[3 1 3]\n",
      "   [0 2 2]\n",
      "   [2 1 1]]\n",
      "\n",
      "  [[1 3 4]\n",
      "   [2 2 1]\n",
      "   [1 1 0]]\n",
      "\n",
      "  [[3 4 1]\n",
      "   [2 1 0]\n",
      "   [1 0 1]]\n",
      "\n",
      "  [[4 1 0]\n",
      "   [1 0 4]\n",
      "   [0 1 4]]\n",
      "\n",
      "  [[1 0 0]\n",
      "   [0 4 2]\n",
      "   [1 4 3]]]\n",
      "\n",
      "\n",
      " [[[0 4 0]\n",
      "   [2 0 0]\n",
      "   [4 4 4]]\n",
      "\n",
      "  [[4 0 0]\n",
      "   [0 0 2]\n",
      "   [4 4 0]]\n",
      "\n",
      "  [[0 0 2]\n",
      "   [0 2 1]\n",
      "   [4 0 0]]\n",
      "\n",
      "  [[0 2 2]\n",
      "   [2 1 1]\n",
      "   [0 0 2]]\n",
      "\n",
      "  [[2 2 1]\n",
      "   [1 1 0]\n",
      "   [0 2 4]]\n",
      "\n",
      "  [[2 1 0]\n",
      "   [1 0 1]\n",
      "   [2 4 0]]\n",
      "\n",
      "  [[1 0 4]\n",
      "   [0 1 4]\n",
      "   [4 0 1]]\n",
      "\n",
      "  [[0 4 2]\n",
      "   [1 4 3]\n",
      "   [0 1 3]]]\n",
      "\n",
      "\n",
      " [[[2 0 0]\n",
      "   [4 4 4]\n",
      "   [2 1 2]]\n",
      "\n",
      "  [[0 0 2]\n",
      "   [4 4 0]\n",
      "   [1 2 4]]\n",
      "\n",
      "  [[0 2 1]\n",
      "   [4 0 0]\n",
      "   [2 4 2]]\n",
      "\n",
      "  [[2 1 1]\n",
      "   [0 0 2]\n",
      "   [4 2 2]]\n",
      "\n",
      "  [[1 1 0]\n",
      "   [0 2 4]\n",
      "   [2 2 4]]\n",
      "\n",
      "  [[1 0 1]\n",
      "   [2 4 0]\n",
      "   [2 4 0]]\n",
      "\n",
      "  [[0 1 4]\n",
      "   [4 0 1]\n",
      "   [4 0 3]]\n",
      "\n",
      "  [[1 4 3]\n",
      "   [0 1 3]\n",
      "   [0 3 4]]]]\n"
     ]
    }
   ],
   "source": [
    "Z = np.random.randint(0,5,(10,10))\n",
    "n = 3\n",
    "i = 1 + (Z.shape[0]-3)\n",
    "j = 1 + (Z.shape[1]-3)\n",
    "C = stride_tricks.as_strided(Z, shape=(i, j, n, n), strides=Z.strides + Z.strides)\n",
    "print(C)"
   ]
  },
  {
   "cell_type": "markdown",
   "id": "52836346",
   "metadata": {},
   "source": [
    "#### 85. Create a 2D array subclass such that Z[i,j] == Z[j,i]"
   ]
  },
  {
   "cell_type": "code",
   "execution_count": 234,
   "id": "4df70318",
   "metadata": {},
   "outputs": [
    {
     "name": "stdout",
     "output_type": "stream",
     "text": [
      "[[ 3  3 11  5 12]\n",
      " [ 3  4  9 11 11]\n",
      " [11  9  9 42 14]\n",
      " [ 5 11 42  3  7]\n",
      " [12 11 14  7  6]]\n"
     ]
    }
   ],
   "source": [
    "class Symetric(np.ndarray):\n",
    "    def __setitem__(self, index, value):\n",
    "        i,j = index\n",
    "        super(Symetric, self).__setitem__((i,j), value)\n",
    "        super(Symetric, self).__setitem__((j,i), value)\n",
    "\n",
    "def symetric(Z):\n",
    "    return np.asarray(Z + Z.T - np.diag(Z.diagonal())).view(Symetric)\n",
    "\n",
    "S = symetric(np.random.randint(0,10,(5,5)))\n",
    "S[2,3] = 42\n",
    "print(S)"
   ]
  },
  {
   "cell_type": "markdown",
   "id": "78c43ee5",
   "metadata": {},
   "source": [
    "#### 86. Consider a set of p matrices with shape (n,n) and a set of p vectors with shape (n,1). How to compute the sum of of the p matrix products at once? (result has shape (n,1))"
   ]
  },
  {
   "cell_type": "code",
   "execution_count": 236,
   "id": "32fd2c3b",
   "metadata": {},
   "outputs": [
    {
     "name": "stdout",
     "output_type": "stream",
     "text": [
      "[[200.]\n",
      " [200.]\n",
      " [200.]\n",
      " [200.]\n",
      " [200.]\n",
      " [200.]\n",
      " [200.]\n",
      " [200.]\n",
      " [200.]\n",
      " [200.]\n",
      " [200.]\n",
      " [200.]\n",
      " [200.]\n",
      " [200.]\n",
      " [200.]\n",
      " [200.]\n",
      " [200.]\n",
      " [200.]\n",
      " [200.]\n",
      " [200.]]\n"
     ]
    }
   ],
   "source": [
    "p, n = 10, 20\n",
    "M = np.ones((p,n,n))\n",
    "V = np.ones((p,n,1))\n",
    "S = np.tensordot(M, V, axes=[[0, 2], [0, 1]])\n",
    "print(S)"
   ]
  },
  {
   "cell_type": "markdown",
   "id": "158f9945",
   "metadata": {},
   "source": [
    "#### 87. Consider a 16x16 array, how to get the block-sum (block size is 4x4)? "
   ]
  },
  {
   "cell_type": "code",
   "execution_count": 237,
   "id": "5a9b808f",
   "metadata": {},
   "outputs": [
    {
     "name": "stdout",
     "output_type": "stream",
     "text": [
      "[[16. 16. 16. 16.]\n",
      " [16. 16. 16. 16.]\n",
      " [16. 16. 16. 16.]\n",
      " [16. 16. 16. 16.]]\n"
     ]
    }
   ],
   "source": [
    "Z = np.ones((16,16))\n",
    "k = 4\n",
    "S = np.add.reduceat(np.add.reduceat(Z, np.arange(0, Z.shape[0], k), axis=0),\n",
    "                                       np.arange(0, Z.shape[1], k), axis=1)\n",
    "print(S)"
   ]
  },
  {
   "cell_type": "markdown",
   "id": "2e0ad860",
   "metadata": {},
   "source": [
    "#### 88. How to implement the Game of Life using numpy arrays?"
   ]
  },
  {
   "cell_type": "code",
   "execution_count": 240,
   "id": "574acff5",
   "metadata": {},
   "outputs": [
    {
     "name": "stdout",
     "output_type": "stream",
     "text": [
      "[[0 0 0 0 0 0 0 0 0 0 0 0 0 0 0 0 0 0 0 0 0 0 0 0 0 0 0 0 0 0 0 0 0 0 0 0\n",
      "  0 0 0 0 0 0 0 0 0 0 0 0 0 0]\n",
      " [0 0 0 0 0 0 0 0 0 0 0 0 0 0 0 0 0 0 0 0 0 0 0 0 0 0 0 0 0 0 0 0 0 0 0 0\n",
      "  0 0 0 0 0 0 0 1 0 1 0 0 0 0]\n",
      " [0 0 0 0 0 0 0 0 0 0 0 0 0 0 0 0 0 0 0 0 0 0 0 0 0 0 0 0 0 0 0 0 0 0 0 0\n",
      "  0 0 0 0 0 0 1 1 0 1 1 0 0 0]\n",
      " [0 0 0 0 0 0 0 0 0 0 0 0 0 0 0 0 0 0 0 0 0 0 0 0 0 0 0 0 0 0 0 0 0 0 0 0\n",
      "  0 0 0 0 0 0 0 0 0 0 0 0 0 0]\n",
      " [0 0 0 0 0 0 0 0 0 0 0 0 0 1 0 0 0 0 0 1 0 0 0 0 0 0 0 0 0 0 0 0 0 0 0 0\n",
      "  1 1 0 0 0 0 0 0 0 0 0 0 0 0]\n",
      " [0 0 0 0 0 0 0 0 0 0 0 0 1 1 0 0 0 0 0 1 1 0 0 0 1 0 0 0 0 0 1 1 1 0 0 0\n",
      "  0 0 0 0 0 0 0 0 0 0 0 0 0 0]\n",
      " [0 0 0 0 0 0 0 0 0 0 0 0 0 1 0 0 0 0 0 1 1 0 1 1 0 0 1 0 0 0 0 0 1 0 1 0\n",
      "  0 0 0 0 0 0 0 0 0 0 0 0 0 0]\n",
      " [0 0 0 0 0 0 0 0 0 0 0 0 0 0 0 0 0 0 0 0 1 1 1 0 0 0 1 0 0 0 0 0 0 1 1 0\n",
      "  1 1 0 0 0 0 0 1 1 0 0 0 0 0]\n",
      " [0 0 0 0 0 0 0 0 0 0 0 0 0 0 0 0 0 0 0 0 1 0 0 0 0 0 0 1 0 0 1 1 1 0 0 0\n",
      "  0 0 0 0 0 0 0 1 1 0 0 0 0 0]\n",
      " [0 0 0 0 0 0 0 0 0 0 0 0 0 0 0 0 0 0 0 0 1 1 0 0 1 0 1 0 1 0 0 0 1 1 1 0\n",
      "  0 0 0 0 0 0 0 0 0 0 0 0 0 0]\n",
      " [0 0 0 0 0 0 0 0 0 0 0 0 0 1 0 0 0 0 1 1 0 1 0 0 1 0 1 0 1 0 0 0 0 1 0 0\n",
      "  0 0 0 0 0 0 0 0 0 0 0 0 0 0]\n",
      " [0 0 0 0 0 0 0 0 0 0 0 0 1 1 0 0 0 0 1 1 1 0 0 0 0 0 1 0 0 1 0 0 0 0 0 0\n",
      "  0 0 0 0 0 0 0 0 0 0 0 0 0 0]\n",
      " [0 0 0 0 0 0 0 0 0 0 0 0 0 1 0 1 0 0 0 0 1 0 0 0 0 0 0 0 0 0 0 0 0 0 0 0\n",
      "  0 0 0 0 0 0 0 0 0 0 0 0 0 0]\n",
      " [0 0 0 0 0 0 0 0 0 0 0 0 0 0 0 0 0 0 0 0 0 0 0 0 0 0 0 0 0 0 0 0 0 0 0 0\n",
      "  0 0 0 0 0 0 0 0 0 0 0 0 0 0]\n",
      " [0 0 0 0 0 0 0 0 0 0 0 0 0 0 0 0 0 0 0 0 0 0 0 0 0 0 0 0 0 0 0 0 0 0 0 0\n",
      "  0 0 0 0 0 0 0 0 0 0 0 0 0 0]\n",
      " [0 0 0 0 0 0 0 0 0 0 0 0 0 0 0 0 0 1 1 1 0 0 0 0 0 0 0 0 0 0 0 0 0 0 0 0\n",
      "  0 0 0 0 0 0 0 0 0 0 0 0 0 0]\n",
      " [0 0 0 0 0 0 0 0 0 0 0 0 0 0 0 0 0 0 1 0 0 0 0 0 0 0 0 0 0 0 0 0 0 0 0 0\n",
      "  0 0 0 0 0 0 0 0 0 0 0 0 0 0]\n",
      " [0 0 0 0 0 0 0 0 0 0 0 0 0 0 0 0 0 0 1 0 0 0 0 0 0 0 0 0 0 0 0 0 0 0 0 0\n",
      "  0 0 0 0 0 0 0 0 0 0 0 0 0 0]\n",
      " [0 0 0 0 0 0 0 0 0 0 0 0 0 0 0 0 0 0 0 0 0 0 0 0 0 0 0 0 0 0 0 0 0 0 0 0\n",
      "  0 0 0 0 0 0 0 0 0 0 0 0 0 0]\n",
      " [0 0 0 0 1 0 0 0 0 0 0 0 0 1 0 0 0 0 0 0 0 0 0 0 0 0 0 0 0 0 0 0 0 0 1 1\n",
      "  0 0 0 1 1 0 0 0 0 0 0 0 0 0]\n",
      " [0 0 0 0 1 0 0 0 0 0 0 0 0 1 0 0 0 0 0 0 0 0 0 0 0 0 0 0 0 0 0 0 0 0 1 1\n",
      "  0 0 0 1 1 0 0 0 0 0 0 0 0 0]\n",
      " [0 0 0 0 1 0 0 0 0 0 0 0 0 1 0 0 0 0 0 0 0 0 0 0 0 0 0 0 0 0 0 0 0 0 0 0\n",
      "  0 0 0 0 0 0 0 0 0 0 0 0 0 0]\n",
      " [0 0 0 0 0 0 0 0 0 0 0 0 0 0 0 0 0 0 0 0 0 0 0 0 0 0 0 0 0 1 1 0 0 0 0 0\n",
      "  0 0 0 0 0 0 0 0 0 0 0 0 0 0]\n",
      " [0 0 0 0 0 0 0 0 0 1 1 1 0 0 0 1 1 1 0 0 0 0 0 0 0 0 0 0 0 1 1 0 0 0 0 0\n",
      "  0 0 0 0 0 0 0 0 0 0 0 0 0 0]\n",
      " [0 0 0 0 0 0 0 0 0 0 0 0 0 0 0 0 0 0 0 0 0 0 0 0 0 0 0 0 0 0 0 0 0 0 0 0\n",
      "  0 0 0 0 0 0 0 0 0 0 1 1 1 0]\n",
      " [0 0 0 0 0 0 0 0 0 0 0 0 0 0 0 0 0 0 0 0 0 0 0 0 0 0 0 0 0 0 0 0 0 0 0 1\n",
      "  1 0 0 0 0 0 0 0 0 0 0 0 0 0]\n",
      " [0 0 0 0 0 0 0 0 0 0 0 0 0 0 0 0 0 0 0 0 0 0 0 0 0 0 0 0 0 0 0 0 0 0 1 0\n",
      "  1 1 0 0 0 0 0 0 0 0 0 0 0 0]\n",
      " [0 0 0 0 0 0 0 0 0 0 0 0 0 0 0 0 0 0 0 0 0 0 0 0 0 0 0 0 0 0 0 0 0 0 0 1\n",
      "  0 0 0 0 0 0 0 0 0 0 0 0 0 0]\n",
      " [0 0 0 0 0 0 0 0 0 0 0 0 0 0 0 0 0 0 0 0 0 0 0 0 0 0 0 0 0 0 0 0 0 0 0 1\n",
      "  1 0 0 0 0 0 0 0 0 0 0 0 0 0]\n",
      " [0 0 0 0 0 0 0 0 0 0 0 0 0 0 0 0 0 0 0 0 0 0 0 0 0 0 0 0 0 0 0 0 0 0 1 1\n",
      "  1 0 0 0 0 0 0 0 0 0 0 0 0 0]\n",
      " [0 0 0 0 0 0 0 0 0 0 0 0 0 0 0 0 0 0 0 0 0 0 0 0 0 0 0 1 1 1 0 0 0 1 0 0\n",
      "  1 0 0 0 0 0 0 0 0 0 0 0 0 0]\n",
      " [0 0 0 0 0 0 0 0 0 0 0 0 1 0 0 0 0 0 0 0 0 0 0 0 0 1 1 1 1 1 1 0 1 0 0 0\n",
      "  0 0 0 0 0 0 0 0 0 0 0 0 0 0]\n",
      " [0 0 0 0 0 0 0 0 0 0 0 0 1 0 0 0 0 0 0 0 0 0 0 0 0 0 1 0 0 1 0 1 0 0 1 0\n",
      "  0 0 0 0 0 0 0 1 1 1 0 0 0 0]\n",
      " [0 0 0 0 0 0 0 0 0 0 0 0 1 0 0 0 0 0 0 0 0 0 0 0 0 0 1 1 0 0 0 0 0 0 1 0\n",
      "  0 0 0 0 0 0 0 0 0 0 0 0 0 0]\n",
      " [0 0 0 0 0 0 0 0 0 0 0 0 0 0 0 0 0 0 0 0 0 1 1 1 0 0 1 0 0 0 0 0 1 1 0 0\n",
      "  0 0 0 0 0 0 0 0 0 0 0 0 0 0]\n",
      " [0 0 0 0 0 1 0 0 0 0 0 0 0 0 0 0 0 0 0 0 0 0 0 0 0 0 0 1 1 0 0 0 0 0 0 0\n",
      "  0 0 0 0 0 0 0 0 0 0 0 0 0 0]\n",
      " [0 0 0 0 0 1 0 0 0 0 0 0 0 0 0 0 0 0 0 0 0 0 0 0 0 0 0 1 0 0 0 0 0 0 0 0\n",
      "  0 0 0 0 0 0 0 0 0 0 0 0 0 0]\n",
      " [0 0 0 0 0 1 0 0 0 0 0 0 0 0 0 0 0 0 0 0 0 0 0 0 0 0 0 0 1 1 1 0 1 1 0 0\n",
      "  0 0 0 0 0 0 0 0 0 0 0 0 0 0]\n",
      " [0 0 0 0 0 0 0 0 0 0 0 0 0 0 0 0 0 0 0 0 0 0 0 0 0 0 0 0 1 1 1 0 1 1 0 0\n",
      "  0 0 0 0 0 0 0 0 0 0 0 0 0 0]\n",
      " [0 0 0 0 0 0 0 0 0 0 0 0 0 0 0 0 0 0 0 0 0 0 0 0 0 0 0 0 0 0 0 0 0 0 0 0\n",
      "  0 0 0 0 0 0 0 0 0 0 0 0 0 0]\n",
      " [0 0 0 0 0 0 0 0 0 0 0 0 0 0 0 0 0 0 0 0 0 0 0 0 0 0 0 0 0 0 0 0 0 0 0 0\n",
      "  0 0 0 0 0 0 0 0 0 0 0 0 0 0]\n",
      " [0 0 0 0 0 0 0 0 0 0 0 0 0 0 0 0 0 0 0 0 0 0 0 0 0 0 0 0 0 0 0 0 0 0 0 0\n",
      "  0 0 0 0 0 0 0 0 0 0 0 0 0 0]\n",
      " [0 0 0 0 0 0 0 0 0 0 0 0 0 0 0 0 0 0 0 0 1 1 0 0 0 0 0 0 0 0 0 0 0 0 0 0\n",
      "  0 0 0 0 0 0 0 0 0 0 0 0 0 0]\n",
      " [0 0 0 0 0 0 0 0 0 0 0 0 0 0 0 0 0 0 0 1 0 0 1 0 0 0 0 0 0 0 0 0 0 0 0 0\n",
      "  0 0 0 0 0 0 0 0 0 0 0 0 0 0]\n",
      " [0 0 0 0 0 0 0 0 0 0 0 0 0 0 0 0 0 0 0 0 1 1 0 0 0 0 0 0 0 0 0 0 0 0 0 0\n",
      "  0 0 0 0 0 0 0 0 0 0 0 0 0 0]\n",
      " [0 0 0 0 0 0 0 0 0 0 0 0 0 0 0 0 0 0 0 0 0 0 0 0 0 0 0 0 0 0 0 0 0 0 0 0\n",
      "  0 0 0 0 0 0 0 0 0 0 0 0 0 0]\n",
      " [0 0 0 0 0 0 0 1 1 0 0 0 0 0 0 0 0 0 0 0 0 0 0 0 0 0 0 0 0 0 0 0 0 0 0 0\n",
      "  0 0 0 0 0 0 0 0 0 0 0 0 0 0]\n",
      " [0 0 0 0 0 0 1 0 0 1 0 0 0 0 0 0 0 0 0 0 0 0 0 0 0 0 0 0 0 0 0 0 0 0 0 0\n",
      "  0 0 0 0 0 0 0 0 0 0 0 0 0 0]\n",
      " [0 0 0 0 0 0 0 1 1 0 0 0 0 0 0 0 0 0 0 0 0 0 0 0 0 0 0 0 0 0 0 0 0 0 0 0\n",
      "  0 0 0 0 0 0 0 0 0 0 0 0 0 0]\n",
      " [0 0 0 0 0 0 0 0 0 0 0 0 0 0 0 0 0 0 0 0 0 0 0 0 0 0 0 0 0 0 0 0 0 0 0 0\n",
      "  0 0 0 0 0 0 0 0 0 0 0 0 0 0]]\n"
     ]
    }
   ],
   "source": [
    "def iterate(Z):\n",
    "    # Count neighbours\n",
    "    N = (Z[0:-2,0:-2] + Z[0:-2,1:-1] + Z[0:-2,2:] +\n",
    "         Z[1:-1,0:-2]                + Z[1:-1,2:] +\n",
    "         Z[2:  ,0:-2] + Z[2:  ,1:-1] + Z[2:  ,2:])\n",
    "\n",
    "    # Apply rules\n",
    "    birth = (N==3) & (Z[1:-1,1:-1]==0)\n",
    "    survive = ((N==2) | (N==3)) & (Z[1:-1,1:-1]==1)\n",
    "    Z[...] = 0\n",
    "    Z[1:-1,1:-1][birth | survive] = 1\n",
    "    return Z\n",
    "\n",
    "Z = np.random.randint(0,2,(50,50))\n",
    "for i in range(100): Z = iterate(Z)\n",
    "print(Z)"
   ]
  },
  {
   "cell_type": "markdown",
   "id": "69a892fa",
   "metadata": {},
   "source": [
    "#### 89. How to get the n largest values of an array"
   ]
  },
  {
   "cell_type": "code",
   "execution_count": 248,
   "id": "21b2bd48",
   "metadata": {},
   "outputs": [
    {
     "name": "stdout",
     "output_type": "stream",
     "text": [
      "Array Z: [7167 8567 2334 1840 4374 3002 9597 4868 3121 2411 9126 8165  469  356\n",
      " 5731 4725 2205 8967 2909 7407 9877 1131 1771 9085 8181  616 7145 2424\n",
      "  713 6421 5093 4091 4146 5569 8084 2964 9497 2306 2661 7613 2061 9588\n",
      " 5938 8503 8897 3563 7013 8685 9614 6499 3098 7791 5900 5473 2562 2277\n",
      " 7858 7854 6948 3717 6424 7056 8120 9817 2819 3060 3008 4318 2004  950\n",
      " 1498 4492 6321 2251 8963 4719  382 2659 5578   66 2193 2752 7934  391\n",
      " 3281 7237 9849  549 4281  141 3130 5018 6533 4604 2072 1577 3546 2951\n",
      "  569 5877 4195 5845 9733  147 1036 4724 5495 9269 6334 9233 7216  442\n",
      " 1998 7274 8688 6069 3530 4876 3631 1642 8790 3374 8488   20 9142 8160\n",
      "  829 7569  766 5510 6571 5741 8985 7505 9204 1527  881 4952 6262 8838\n",
      " 4008 7133  757 6513  392 2899 2527 1618 8539 9783 4920 8695 2241 4462\n",
      " 9728 8175  464 5128 1609  949 5000 9229 7625 1932 9540 7317 3337 3182\n",
      " 2907 8398 7627 2099 2140 2979 5032 1194 9168  916 9510 9244 5470 7730\n",
      " 1307 8518  601 7032 1055 2538 3527 7038 8224  517 7650 5277 5375 4469\n",
      " 9184 3718 4169 7755 2129 2589 7928 3238 5320 8314 1317 3038 2681 5173\n",
      " 2328 2175 5776 8961 5231 7589 1344 8617  131 3101 7657  874   49 7850\n",
      " 5161 7667 1688 4595  258 5965  157   59 2868 9471 5190 3454 5560 9543\n",
      " 9587 8044 7666 3607 9887 6188 6617 7869 6420 9642 9217 3816 8550 7491\n",
      " 3742 8869 4068 6249 3941 1102 4822 7363 1257 3505 4722 4568 2291   58\n",
      "  380 2214 6643 6294 5575 2591 3427 2876 8281 9796 6482 5348 3512 1540\n",
      " 5390 4299 5481 9746 7319 1894 5096 1404  542 4449 4755 5335 4776 9333\n",
      " 5654 5821 9595 9923 3843 4232 3125 1141 7628  558 6007 1579 4915 5073\n",
      " 9318 2866 2762 3156 1750   65 8768 6417 8563 3498 7903 2166 4521 5698\n",
      " 2016 1625 6505 1130 5077 2998 5263 9326 1024 3713 2492 2834 3674 8778\n",
      " 7009 3135 2612 5851 3112 6629 2506 7599 1151 8174 5793 7267 1481 6736\n",
      " 8494 2566 3079 3221 3754 5454 2518 4085 8817 3795 8080   79 4245 4713\n",
      " 1896  789 8986 8593 6332 3276  553 1910 3189 4865 5754 7995 7822 9638\n",
      " 8984 2520 1986 3840 1109 3352 9451 2594  334 1197 1850 4402 6209 3737\n",
      " 7307 3936 4561 1602 3300 8244 8049 9003 3972 7781 9021 8279 5692  758\n",
      " 2044 7642 9119 7310  677 4075 8166 6785 4533 5415 5521 8796 1836 5232\n",
      "  926 7784 4988 1837 8048   89 2033 9348  486 1025 6035 5765 7982  788\n",
      " 4229 1913   94 5432  836 4057 6240 7775 3018   63 8608 7834  445 3619\n",
      " 9975 8357 6934 5001 1531 9848  645  976 6466 6504  211 3184 4328  565\n",
      " 5149 3504 3417 4287 7065  249 7441 5311 4544 6029 5411 5862 3237 9761\n",
      " 1568 3666 2324 6966 3953 3852 5466 5842 2223 2179 5157 3188 5104 6286\n",
      " 2213 7716 2155 2972 7058 9288 3049 6384 7940 8893 7979 5433 5132 2353\n",
      " 7166 4076 9162 2200 4186 2405 2367 3809 3956 6444  353 4630 3545 3359\n",
      "  155 1133 1956 5818 1382 5171 9033 8755 9529 9281 6247 9242 7675 1098\n",
      " 6385 5387 8900 2336 8551 1267 7747 2774 5404 1341 4108 1595 3775 6578\n",
      " 4259 2244 9899  179  418 6465 8514 5204 4303 9273 7099 7939 9581 2189\n",
      " 9760 7359 3029 4813 1569 5007 3167 7663 2440 5066  112 2750 9289 3552\n",
      " 2308  368 2621 6509 8635  627 9361  575 7944 2120 4403  146 5396 3518\n",
      " 9876 9816 5705 7219 9776  879 7263 6621  257 3468   26 7658 8675 6588\n",
      " 5906   42 2664 7053 5235 3043 7682 5484 6116 1592 8999 6674 2512 1691\n",
      " 6319  614 5717 9641 4607 6140 5626 3380 2611 6950 4208 4365 9290 5682\n",
      " 8594  702 9994 6229 6423 9324 6145 2853 1300  120  363 7752 2491  178\n",
      " 6136 5041 7724 8020 7947 5472  247 4933  988  219 6199 7695 9304 2397\n",
      " 9221 7146    9 7937 1236 6825 7578  244 5885 1999   35 3687 5930 1062\n",
      " 2732 1240 5207 8455  768 9609 9394 3676  623 8214 2825 1706 5162  451\n",
      " 3086 7391  737  465 8148 9572 8926 6522 6835 9207 7442  183 9216 5949\n",
      " 6279 3722 6744 3649 4596 5896 4182 5530 2272 6298 6883 6984 3576 1449\n",
      " 6596 2403 7872  415 3556 7524  906 2690 6830 4721 4934 9751  278  774\n",
      " 9928 8206 4965 5176  215 9847 9775 3174 3393 3867 6679 9578 7867 2154\n",
      " 6903 4372 3575 9991  772 9465 6562  856 8410 4019 6456 9622 1861  651\n",
      " 3434 3650 5003 1538 1065 8663 2619  169 6195 4087 3367 3561 1747 7105\n",
      " 4942 4277 5625 9041 2871 7655 5046 8932 9744 2054 8718 2587 6457 8099\n",
      " 4395 2546 1408 6491 8439 1126 8483  384 9135 8486 4494 5422 1564 2623\n",
      "  899 4042  987 7082 2266 4035 6885  347 6716 5406 8307 2692 3405 5867\n",
      " 7251 4803 4397 4094 9515 2402 1378 1398 5507 8765   68 4092   21 2839\n",
      "  186 1600 7894 8647 6443 2130 9043 4659 1672 8771 8337 6378 9608 9427\n",
      " 7931 5668 6598 7800 1181  321 4992  103 9165 6476 5989 7123 5834 5186\n",
      " 7246 7411 8506 3161 8901 1814 9294 1507 1233 2564 2925 4550 1388 4413\n",
      " 7333 1933 5278 3571 6853  394 4898 6354 3511 8319 9090 3595 9211  304\n",
      " 8700  784    8  891  902 7202  695 2993 7586 2364 7564 5471 4875 1319\n",
      " 9149 1844 8538 7799  430 4692 2292 4428 6926 3672 9590 3053 7008 2935\n",
      " 8945 2903 3073  160 9397 8596 9989 3926 5640 1168 6684 6563 8135 9359\n",
      " 3062 1293 1047 8336  165 2535 3329 8927 5631 4851   28 6146 4463 4760\n",
      " 3479 6649 6839 7412 1183 1697 7353 7727 1727 8909  806 3235  489 4569\n",
      " 5172 7135 9350 3891 7496 5801 1787 8471 9745 6960 8637 7534 6758 1228\n",
      " 1867 5208 5377 2278  963 8526 8419 7401 5808 6739 6992 3059  229 4020\n",
      "  792 3241 7853  999 1873 3083 6100 9736 3695 5114  526 8703  842 1254\n",
      " 6083 7612 5145 4591  928 9296 3046 9263 8877 2984 5020 9353 3990 8693\n",
      " 9625 7168 2501 6328 9108 8194 7239  503 2164 7941 4818 6435 6802 7839\n",
      " 7731 2178 5116 8818 4980  543 3930 5197 9637 3790 8924 3028 9714 7942\n",
      " 4246 8330 5074  299 7395 7260 2624 9228  612 7459 6709 3027 5837 9942\n",
      " 1397 4689  358 5138 7542 4896 8552 4598 2697 4466 4506 3995  317 1668\n",
      "  159  733  127 2883 4848 7225 1936 9546 1451 2274 3792 8996 8351 1280\n",
      " 4117 5117 1436 5514 7490 6410 8558 8204 5839 2168 2689 4860 8873 6921\n",
      " 3750 8068 2340 4653 6151 2817  602 8415 6700 8209 4119 5557 9001 5693\n",
      " 3129 5326 3703 2705 3171  285 4964 4624 6682 4926 5486 2747 9481 3325\n",
      "  621 4859 1289 3474 5010 4051 9193 3776  316 3443 8061 9286 5675 5634\n",
      " 3277 9686 9522 4099 9277 2349 6189 9684 1048 6642 4541 3767  637 4393\n",
      " 9709 6439 6304 5078 6664 9255 8572 7991 6595 8052 4895 6809 2882 7245\n",
      " 7324 5571 6943 6454 1290 3821 5183 8035 9459 1238 9463 7677 2238 5403\n",
      " 4819   96 2297 6143 7301 5500 1623 4927 6276 7112 9562 8592 1237 4578\n",
      " 4488 6881 2570 6932 1663 1585  203 5013 5094 8132 8670 5238 1298 3495\n",
      " 8816 5029 1287 9371  412 2954 8478 1813 5589 5072 3569 5440 8002  225\n",
      " 7089 9922 5004 3822 9880 6720 4892 8426 3066  270 5316 2227 4027 6754\n",
      " 8440 1851 8667 4093 4847 9657 5805  435 6305 5635 3120  980  493 7325\n",
      " 9434 9258 9692 9598 8804 5408 3497  340 6219 7414 6961 6834 8574 4887\n",
      " 1049 9059 8943 8522 1030 2645 8108 2751 7147 7344 1928 7254 5070 3781\n",
      " 9845 9423 2720 9517 3939 8548 9770 1465 7635 4003 4592 3493 6678 7816\n",
      " 2074 8683 8265 8114  699  868 2307 6540 6909 4310 1281 6101 7346 1965\n",
      " 4363 8991 4123  701  863 4516 1702 5650 1650 5304  108 3541 1966 4010\n",
      " 2257 9323 7608 2721 8590 8505 4943 3097 6601 3732  591 9143 1212 1852\n",
      " 5025 6582 8173 2409    0 5205 7104 1134 5342 9623 2264 2849 4086 4804\n",
      "  617 7206 8941 7392 9983 3057 9890 3177 2443 8139 3192 5241 2014 4930\n",
      " 1920 7046 1878 6317 2968  725 5126 8218 9628 9156 7126  691 4686 6263\n",
      " 2421 1957 6997 4244 9076 9358 4251 8584 5567 3630 2354 2475 2298 2237\n",
      " 7669 6741 7702 5861 4243 8124 2627 8001 1784 7047 1406 2745 5812 5607\n",
      " 2676 6479 2020 6913 9852 7693 6309 5100 6520 2539 9098 9488 9083 2873\n",
      " 7886  163   23 5603 5683 7884 8811 7819 4013 9441 5177  319 4833 8737\n",
      " 8820 3519 3252 2332 3528 5601 6255 8283 9284 4519 9484 7708 5382 8070\n",
      " 2728 4288 6894 8047 9678 5777 6940 9334 3807 3640 6288 2684 3190 7205\n",
      "  139 9197 1566 4546 2472 7197 8758 4961 4914 9762 1362 7360 9740 7845\n",
      " 1519  599 4829 9249 3258  164 1023 1641 5147 4758 3124 1182 6994 9538\n",
      " 4122 2478 4096 8954 6747 9894 8868 7085 1551 3462 3581 6452 8671 4139\n",
      " 6731  773 2148 8890 8792 5781  286  518 2953 5739 3938 7771 8149 3874\n",
      " 2169 8298 5833 3998 2461 1006 9669  937 2981 3328 9836 3515 1322 4006\n",
      "  513 6119 8524 3670 2561 4487 1586 4841 1448 5191  600 2574 2698 4342\n",
      " 8408 8841 4198 6344 1114 3529 8100 4406 1153 1035 4437 4839 1748 4939\n",
      "  884 3245 2027 4820 4470 4625 5407 9410 8774 8587 4648 6777 3269 6270\n",
      " 4242 1571 2854 6851 6404 3838 6052  538 5022 3949 3723 7341 9409 5395\n",
      " 8417 3906 7321  747 4209 6877 1552 4824 2314 5069 5838 9530 5688 4376\n",
      " 6218 1923 4247 4041 9183 2080 5282 8824 3774 3582 7743 9062 5810 2463\n",
      " 4736 4233 7728 6394 4618 5319 8300 7540 2285 1381 7078  871 4797 4712\n",
      " 6955 2860 9626   61 2262 2084 4877 9834 1972 2125 9679 9405 9390  893\n",
      " 1875 8446 6878 7212 4375 3812 6787 1557  735 3659  604 3186 8625 2018\n",
      " 4352 5424 3048 9189 5034 6759 8622 2105 8597 7539 1699 4387  149 3318\n",
      " 7871 7785 5410 4962 1561 7131 9056  633 3162 3366 6876 5648 3040 4817\n",
      " 6053 3170 2687 2372 2550 3458  325 7080 5676 1930 3068 1429    3 1659\n",
      " 6062 8379  228 7483  752 7838 3885 2754 4340 9280 8191  882 2184 8782\n",
      " 7153 6847 3084 4061   99 7388 2985 6415 5972 9032 4570 7088 9798 9577\n",
      " 8798 7722 3456 8074 4081 1907 6154  375 7368 7640 2418 1501 1480 9364\n",
      "  280 6705  820 7855 2060 4556  957 6650 6236 8250 6812 3899 9502 2990\n",
      " 3900 8709 3473 8012 9038 7531 2170 7402 9223 9073 5479 9838 2948 4441\n",
      " 1580 5221 5223 8889 8284 1521 9778 1413 7617 7974 3298 9819 6478 6290\n",
      " 9974 6512 9421 8878 1385 2856 4584 5493 5485 1446 8287 1656 8266 8348\n",
      " 8378 3244 5840 4696 9125 6763 1536 6021 5672 3230 7050 2617 9131 5813\n",
      " 7493 2880 3384 1640 2622 9008  781 3647 4631 3404 6814 1835 2434  897\n",
      " 1488 5558 8860 8773 7431 4497 8117 7142 9317 7115 6483 5771 3753 2052\n",
      " 3131 1834 4418 2008 5546 2724 5366 2693 3920 5536 6014  337 3553 3004\n",
      "  224 9701 2904 1927  640 8270 4977 4207 1940 9057  447 5259 9351 6034\n",
      "  767 4357 3539 2429 6986 2986 6624 8282 2177 2717 6224 8400 7122  996\n",
      " 3444 5031 9408 4744 8058 8397 4101 2730 2604 7574 8682 8710 4384 2756\n",
      " 1235 7598 8515 2677 2450 3072 8519 4468 7022 1278 1454 5252 9061 3878\n",
      " 5658 6653  607 4834  653 5742 2788 9964 5538 7760 1899  425 9346 4294\n",
      " 7236 7097 8007 9212 6861 1361 7645 7345 7701 5228 9505 9667 8163 9867\n",
      " 8318 2041 1110 1823 2967 9643  545 3712 8537 3448 9202 5770 2571 4984\n",
      " 4735 7304  917 3937 8831 3699 4007 7516 1174 1766 4515 2694 6681  598\n",
      " 1430 2141 6610 4870 3958 1523 9929 7946 9468 9036 5169 3664  338 2886\n",
      " 5747 5133 6670 4957 1793 5027  283 3349 5809 4905 5064 7615 2255 2212\n",
      " 4211 1670 2652 1607 2668 7967 1627 5428 3315  722 1616 5219 2552 8057\n",
      " 5159 1186  254 8042 2651 5806 6191 8803  608 5068 8508 6138 5102 7305\n",
      " 8561 2657 5370 3381 3470 2224 1605 9815 2742  505 5402 7711 2219 9661\n",
      " 3259 6981 1297 5563 9809 1598 7504 6160 5881 2905 1463 5333 6638 2464\n",
      " 1104   43 6451 9793 4192 5120 1455 4579 6112 6899 6312 3176 5284 1315\n",
      " 7620  349 1859 9527 6144 7899 6987 4657 1167 4832  605 4378 1643 7337\n",
      " 9652  237 4380 9004 7881 7096 3364 9886 7746 8072 9472 9763 2025 8130\n",
      " 4704 9861 5925 3898 9663 3597 3302 5919 5414 4585 2436 1082  631 4423\n",
      " 9741 3868 7226 6654 3502  485 7758 3800 4090 8111 2496 2919 2361 8611\n",
      " 7057 8523 3871  148 2597 8150 7873 8848  803 8022 9219 5954 6963 5657\n",
      " 7697 5817 3249 6170  972 3551 6251 2713 5380 5611 4913 3160 7149 1423\n",
      " 4540 4587  401 8602 5139 6418 7370 3432 4718  239 4024 8715 2602  309\n",
      " 8930 2991 6976  812 9185  626 7660  561 2458 7770 7981 8107 4000 4582\n",
      "  396 2410 9650  274 6037    5 1809 6055 5600 9767 1497 1901 6842  357\n",
      " 5969 2812  865 9271 1269 8420 9754 8375 1118 2220 9700 3392 6695 9612\n",
      " 6022 7467 8457 5659 5835 7587 9420 9729 1776  510 4140 2711 8386 6675\n",
      " 1209 9343 7242  531  266 2151 5372 2937 4084 4191 6718 6432 1482 8229\n",
      "  895 4482 6331 7394 5358 2581 3142 9840 6742 3895 9927 2609 4028 8957\n",
      " 5889 9810 9238  230 3394 4994 5515 5476 1039 5960 2456 7929 4517 3547\n",
      " 4794 8607 9077 4575  537 9814 4174 3491 8595 5713 3691 5272 5124  297\n",
      " 6686 4709 9080 9833 5526 9022 5008 2235  362 8350 4350 1187 3095 1763\n",
      " 3897 1678 8409 8775 3020 7227 2960 1887 8189 7235 9671 4525 6230  886\n",
      "  921 6576  797 5986 2412 1614  556 8830 9524 9456 7957 3330 9303 8011\n",
      " 6683 1085 7593 5778 2629 4223 8756 7807 7275 2195 8738 5959 1667 7911\n",
      " 8729 8226 5518 7482 4878 3602 1357 7465 8876 2288 7416 2850  182 2822\n",
      "  664 5848 6616 6677 4194 6261 9374 8832 6896 4210  596  662 6609 7037\n",
      " 1684 3013 2809 3881 7535 3371 4853 4447 2338 1992 8450  153 3915 1610\n",
      " 1092 5785 8940 6543 8744 3820 2573 2582 9766 5483  975 1767 1057  144\n",
      " 2648 1833 8589 9805  832   39 4324  761 4314 5992 4922 8983 6135  242\n",
      " 3914 8482 9094 9725 2558 6427  723 1742 3267  272    4 8540 6458 4589\n",
      " 4416 5505 6425 1034 8858 9123 6685 5306 8056 9757 2146 2206 5227 4302\n",
      " 7433 1549 6824  777 2847 7318 8359 2311  965 9919 1960  512 6799  446\n",
      " 6518 4738 5586 6190 8155 7776 1351 3178 7546 4872 1119 9860 9516 2977\n",
      "  905 3889 9693 8914 4691 3478 2070  471 7081  307 2946 5825 9755 1444\n",
      " 4881 4320 7685 4313  119 3110 2325 9549 7739 1050 9750 8788 5655 5201\n",
      "  714 4329 6077 6999 1649 2110 7220 2537 2010 1762 2983 6589  498  450\n",
      " 1496 2487 2357  875 2916  973 2190 9188 9513 7956 3731  273 9175 1526\n",
      " 1951 8871 5773 5146 9300 7859 6453 3039 6549 9968 6953 2982 4863 3991\n",
      " 1364  827 1089  873 1433 5332 4726 6637 7851 5645 4308  232 3408 9292\n",
      " 2293 1165 1842 8920 1366 7508 7169 1633 1651 3566 8059 6969 9615 8517\n",
      " 2890 5192 3319 4113 3296 9716 6545 4073 4038 3253 3927 1479 8484 3573\n",
      " 1101 9586 2376 3841 2062 6115 5892 7113 2722 5678  427 1658  866 5970\n",
      " 7492 7571 9662 3608 7287 2726 8529 9888 5720   83 1675 6737 5613 7547\n",
      " 9939 5492 4884 5784  708 3344   73   38 1617  923 5460 3638  494  535\n",
      " 8008 1200 9859 6865 9483 7371 5426 5136 8654 9438 7780  343 1017 6269\n",
      " 2469  625 7454 2236 7983 3316 2385 6749 7696 6065 7948 6931 4687 4110\n",
      " 9042 8442 5552 2186  135 2966 7878 5627 3035 5285 8643 5532  901 9467\n",
      " 6300 9214 3756  459  308 7498 9158 5465 1751 1225  674 8201  245 4284\n",
      "  547 9999 4987 2934 1415 8884 2769 1071 2771 3308 9871 3164 3490 2945\n",
      " 2427 5624 3873 3656  851 7282 1223 7754 1373 5918 3797 6869 1502 4479\n",
      " 5182 7410 8783 7890 5585 3022 1255 6216 4707  848 3092  920  862  436\n",
      " 8994 6990 3700 4046 3761 1760 6970 3196 9177 5130 6016 4069 1935 9093\n",
      "  458 5690 4040 9128 2242 6306 6275 5553 9981 7283 5868 7329 7922 3954\n",
      " 1765 1459 3368  238 2112 4362  740 9676 5310 2234 3537 6639 2715 9298\n",
      " 8992 9720 8633  760 3373 2380 9245 5314 6879 7949 3711 9514  346 6085\n",
      " 9784 2579 1632  248 3944 1629 3948 9879 6340  675 8849 2615 1144 7961\n",
      " 8315 1008 9262  482  731 9136 5418 6724 8570 7485 8616 4129 9100 9526\n",
      " 1113 4065 4553 7314 2878 1995 9412  333 6233 6282 2973 1056  672 1152\n",
      " 8501 2743 5760 2268 7222 8246 4138 5946 6636 6471 8460 3525 1503 9166\n",
      " 1401 2493 7665 6180  985 3757 1224  529 2289 6849 8252 1978 6690 6982\n",
      " 1603 1016 2428 7664 5357 4627 7721 4671 9907 8568 1879 7742 9247 5787\n",
      "  551 8239  552 6285 5409  488 9594 5036 8302 6375 4336 5549 5225 2869\n",
      " 9675 5937 1512 1137 4501 9542 2158 9012 3437 4812 5152 5050 7987 4654\n",
      " 3289 6409 2145 6619 9069  428 7332 1175 4111 8185 6131  313 3685 2445\n",
      " 1469 2528 1736 5940 2671 3680 3727 8010 5766 9691 4638 2746 4231 4971\n",
      " 6524 8480 9520 9508 5856 2760 9659 6252 6222 2498 3744 1511 7706 4710\n",
      " 8952 1620 6176 2446  241 7231 9780 4227 9474  593 7969 2135 6583 9559\n",
      " 9152 6555 3726 9227 9445 3615 5384 6327 1384  925 5695 9087 7579 7479\n",
      " 2435 4036 6003 9107 2183 2228 1314 7378 6902 5819 6627 6826  282 2019\n",
      " 8861  697  927 1723 7364 8441 5764 5264  405 2281 4052 2980 8679 7374\n",
      " 8161 8730  983 3729 2843 4527 3661 5051 1941 3591 1636 2413 6259 4077\n",
      " 5914 1559 9647 9137 2781 6206 4751 6210 3446 4422 9140 7766 1737 5696\n",
      " 1993 8935 8852 8196 3299 3021 1294 4358 2639 5360 5427 2131 3383 3913\n",
      " 4874 7919 2543 6762 1704 6389 6493 7820 6164 2947 7726 4412 1728  105\n",
      " 3613  210 9509 9050   10 9979 6500 4854 2755 7230 7765 6295 8859 1846\n",
      " 2239 2759 2667 3400 1135 7671 5105 6445 6121 2476 8326 5368 9437 4197\n",
      " 5379 9501 3464   81 6772 2172  968 6336 2215 6918 5628 6907 6502 1505\n",
      " 2613 2462 5550 7501 7234 8345 7179 2765 3007 2789  437 2757 3011  406\n",
      " 9930 5237 6477 7512 2444 9960 8704 7312 5712 4678 4438 2588 8610 6403\n",
      " 5271 9431 4392 5994 6366 2575 8767 6150 3090 2772 9178 5497 1061  885\n",
      " 9048 8810 7128 2734 2768 3628  227 4185 3693 7425 5853 9925 2530 6667\n",
      " 7644 2783 5198 8216 7932  568 3764 7259 5262  642  116 5115 2863 5300\n",
      " 7313 7083 6283  290 2941 7736 7923 9362 9689 1619  557 6567  994  620\n",
      " 3055 4496 5239 3118  214 3532 1924 2608 3601 4103 1053 2660 5052 4583\n",
      " 1689 6864 3794  887 1963  567 1815  342 9285 8380 9742 9436 2950 1939\n",
      "  118 5908 8520  408  779 8276 4781 2806 1079 2039 9681 3480 4925 1624\n",
      " 5103 1680  562 4530 6357  977 5671 9319 8839 6765  577  582 7691 4144\n",
      " 1274 9489 4565 5519 1420 1876 7703 2658 6927 8557 6159 1012 7343 4033\n",
      " 9485 2580 7426 1880 3864 6570  686 2780  936 5337 9734 5697 3431 3278\n",
      " 4949 6001 3409 9054 4483 5113 4770 6942 2490  466 9101 3064 6600 3590\n",
      " 7224 4989 7447 5260 6806 5910 3929 3107 8892 3231 8933 8033 4807 6778\n",
      " 9963 7857 1565 8735 9159 6937 9375 1615 9584 2005 6074 9589 2978  796\n",
      " 4732 3139 7662 8182 2930 4577 5254  769 7681 8712 7998 5037 7421 3205\n",
      " 4316 4272 1775 9417 5361 7121 4564 7825 5298 7737 6054 3033 9533 6820\n",
      " 4929  527 8219 7920 3719 1336 6939 3214 7553 5749 5898 4522 5107 5619\n",
      " 5416 1576 4293 9411 6577 8776 6564 7707 8043 4053 1574 9291 7840 1494\n",
      " 8791 4543 6694 6590 9396 8217  234 8340 2024 6946 5056 7910 9719 7560\n",
      " 7027 3901 9432 3834 4430  424 4398 9075 1533 5725 9320 8794 2395 1368\n",
      " 5966 6371 1096  670 7288 9818 4203 5076 7962 4767 2474 9785 1419 7322\n",
      " 3248 4662 9376   31 1123 4147 9002 6440 1587 3970 8882 6356 1942 8324\n",
      "  460 9843 1709 3654 8490 2669 8233 8716 6614 4936  492 6130 3320 7063\n",
      "  473 9605 1483 5758 2420 1086 9192 9984 7637 4547 7183 3197 9825 5193\n",
      " 6122 8530 1038 2398 9414 6707 4014 6972  158 3114 4680 3283 8212 4688\n",
      " 7255 5827 5457 9243 4677 3759 9596 8885 8278 2299 7824 9839 9611 9653\n",
      " 3520 5943 9900 6202 5325 1220 9606 5385 9492 5789 8823  822  302 4599\n",
      " 2127 4427 9702 6434 8031 4916 5990 7842 5071 6000 3662 6402 2519 6856\n",
      " 1286 9407 9504 2938 2704 7985 6870 9082 8842 8624 6783 8222  262 9380\n",
      " 5638  515 5647 8613 5137 8339 8295 6362 7427 7463 4588 9124 3331  837\n",
      " 9561 8702 8705 5933 2102 9957 5386 8691 5154 2553 6221 5261 7787  876\n",
      " 6480 5509 8968 9215  587 9196 7756 5999 1967 9660 8436 3243 5456 1260\n",
      " 3292 3321 2058 4938 5953 5907 8333 9044 3037 6850 1594 4668 8261 6397\n",
      " 7529 2603 8977 1111 4684 7924 7093 7114 2263  704 4361 3343 2381 3338\n",
      " 3923 8151 4067 7188 2233 6092 5944  804 9016 4646 7249 2811 5090 7330\n",
      " 1510 5957 1746 5662 1931 4780 4137 4249 1369 2862 3293 6496 9026 1054\n",
      " 3181 2970  742 2452 4786 6413 1515 1801 3596   11 7125 2707 6225 6691\n",
      " 4959 8129 4411 1243 1350 9366 3598 8091 6153 4098 3266 6558 6581 5040\n",
      " 1820 2226 1261 9826  213 5644 7045 5344 1491 9357 1810 9067   60 5067\n",
      " 5222  395 6794 4769 6722 8086 8448   80 4118 5878  639 7137 8338 9779\n",
      " 7042 7315 9176 8435 5026 9631 9148 2994 1715 4199 5875 3846 2763 9157\n",
      " 3264 2777  381 1435 3348 8578 2392 8606 8528 9872 9130 5054 8770 5328\n",
      " 5529 6485 5063   14 9698  138 1544 5811  794 9349 3701 9602 4766 9373\n",
      " 1021  967 8112  904 2557  199 2642 7626 9276 4580 2719 6887 2362 1885\n",
      " 6671 9141 2068 1657 1392 1739 9627 9345 3826 2663 9787  585 2252 3151\n",
      " 7596 7214 3738 2194 9801 6566 3957 9891 2534 1395 8060 8707 2716 5535\n",
      "  824 4022 4752 6372 9096 2108  293 4763 4311 2568  191 9704 5244 7466\n",
      " 7683 5312 2326 2028 7618 8752 4601 9862 9194 1975 6028 5993 1004 4078\n",
      " 9951 5158 5708 3951 6797 8437  706 2165 8627 8960 6106 7118 3521  107\n",
      " 1078 7457 1253 5439 5610 1093 9935 3633 1716 9494 6521 7079 6401 1722\n",
      " 1558 3467  787 1937 2348 5572 6523 2138  682 8121 8322 3087 3523 9206\n",
      " 5826 4545 3910 3588 5345 4571 7148 1015 7340  728 4072 5030 3172 8234\n",
      " 2502 2144 1570 1581 8678 5513 3811  320 4998 3429 5012 5015 6238 1072\n",
      " 4869 9706 3015 9682 3741 4652 7623 2400 9332 8797 4089 4514 3858 3872\n",
      "  960 5088  233 5527 8959 9265 6277  461 1855 9352 3360 7349 6659 9261\n",
      " 6611   33 9253 5389 2055 1816 3324 6748 5884 7630 9952 9225 7798 4597\n",
      " 2529 8640 3168 8799 1893 2508 2846 9962 5592  978 1356 3257 8366 4681\n",
      " 9081 2917 7735 8843 2384 5011 8065 4351  854 5033 5283 2152 4254 1029\n",
      " 1142 2686 8221 7311 7276 7200 1804 9683 7548 3567 8828 5467 3270 4305\n",
      " 7570 1158 1301 3625 1717 6781 8713 5737 9415 1906 9174 1258 5661 9573\n",
      " 4562 3226  133 1660 7160  439 6431  823 9457 9893 5367 3533 7912 9674\n",
      " 1206 1306 2173  193 1832 6437 1154 2318  586 8291 1791   32 1819 1826\n",
      " 9047 4826 7252 8127 9680  341 5719 7040 8477 4981 9565 7390 9072 3715\n",
      " 2134 4055 9102 4050 8452 1122  122  140 1403 5583 5279 3225 6508 1427\n",
      " 2034 3810 9133 5730 1892 9127 1822 1161 3204 1139 7248 1032 7823 2091\n",
      " 8316 2766 3426 8603  467 2544 4176 5941 3765 8918 2447 7870 5987   70\n",
      " 2185 7186 7712 4644 6751 5799  970 4012 1918 6769 2355 1980 3835 9723\n",
      " 5574 6335  339 2932 2265 9993 7892 3981 9439 1597 7678 7306 1961 9569\n",
      " 3397 6672 6315 4356 7938 6796 5963 3839 7165 1145 6079 2536 7900 8019\n",
      " 2965 6264 5302 3793 9649 2192 5436 1539 4856 5605 3363  560 8215 3675\n",
      " 1188 8015 3894 4043 3522 8655 5540 1431 2124 6915 5417 9955 1232 3447\n",
      " 9940  243 8066 9339 1769 4849 9866 5075 1563 5738 9892 1860 9275  571\n",
      " 6020 1897 5687 9827 2804 5504 7051 4730 6207 6712 1339 7173 2555 1271\n",
      "  718 4950 7953 8742 8168 9988 1994 5005  267 1866 7973 2486 4157 9272\n",
      " 3682 8844 3746 8923 1628 7500  852 1084 6584 6158 3042 5763 3893 3475\n",
      " 3034 5502  491 1808 2959 6757  275 2259 7195 2565 4126  770 5759 6702\n",
      " 9252 7354 4132 9422 5820 2467 9832 6056 3918 4220 2628 6386 3616 6895\n",
      " 1645  883 1320 1710 6200 5350 5732 7292 7950 1210  548 3148 4835 6005\n",
      " 8032 3782 4993 2247 1270 6104 7604  336 5250 9383 3945  423  696 8543\n",
      " 5740 6761  736 4154 3180 3931 3697 3247 3635 3908 1150 3155 4347 2992\n",
      " 7048 6494 4816 7323 3952 5858 1128 4112 4189 8476 2407 8734 8106 2691\n",
      " 7713 7762 3149 4810  422 5491 6852 8141 8808 8586 4542 8931  947 4258\n",
      " 1611  644 7290 8126 5902 1205 4889 8612 9341 3815  730 7582 6110 7473\n",
      " 5745 6274 6212 3362 9985 2596  371 2971 8748 1971 3071 1970  990 9668\n",
      " 1276 9629 3303 3751 7448 9111  958 6776  385  934 6217 2339 2936 6651\n",
      " 5097 9824 2022 8071 8955 4966 6635 9425 2569 2352 1721 9870 3803 8802\n",
      " 8105 8673  190 3465 6575 2261 4563 9023  880 4798  407 6475 2083 3336\n",
      " 1988 3407 6612 4266 7497 9697 1106 8377 1654 9969  192 4002 9865 6090\n",
      " 5566  369 6009 2133 5487 1831 1572 1074   54   46 5281 8929 2286 2821\n",
      "  188 3449 2114 9774 6725 1638 6704 7597 8736 4940 9259 8119 9672 8947\n",
      "  377 5984 8438 5802 4523 6890  434 5339 8975 4158 5099 6002 7320 5761\n",
      " 8062 9480 9450 6973 8272 4322 6771 2360 6503 3265 7595 6559 4682 4858\n",
      " 3250 2030 8881 9328 3461 1325 6333 5947 2744 5931 7101 9552 2682 7616\n",
      " 2283 8684 9007 4757 9616  410 8067 8365 2449 4481  197  719 9797 4161\n",
      " 6171 5309  166 1621 7993 5579 2835 8614  609 2320 5354 6875 2119 4600\n",
      " 4693 7684  684 2923 5633 1635 8639 9507 8005 6287 1068 8492 2673 7528\n",
      " 4603 7826 5452 4142 9996 6178 7814 3574 9121 2902 8231  504 9017 5735\n",
      " 4775 4518 9387 4056 9037 4306 1452 1830 5122 4337  932 6568 3271 1909\n",
      " 2891 2366 5988 9182 2149 8147 5587 8472 2631 7380 6811 7339  289 7797\n",
      " 9129 1460  212 3847 7827 8103 1019 1059 1529 4082 2807 8210 3789 3870\n",
      " 1683 8237 9385 3387  643 8090 5594 1323  959 8665 6531 6280 5413 5879\n",
      " 8069 7902 4459 1340 8172 9726 7975 3143 6148 8527 1528 3377 3912 5047\n",
      "  867 2516 7880  835 9920 4353 9903 4059 3558 9424 7525 1304  746 1583\n",
      "  509 6395 5913 9664 8055  194 8253 1934 1789 8721 3526 7584 6985 9881\n",
      " 6429 1179 8404 4948 2620 6517 8747 7464 7106 7075  726 9541 8912  778\n",
      " 9378 7879 1005 4155  933 8502  121 9821 9482 7477 6363 3538 4909 3517\n",
      " 1874  655 6073 1777 1516 7007 6272 2696 3568 2071 6147 7420 6467 7350\n",
      " 9180 4537 5049 1443  878 8733 6553 5247 5353 2870 9743 1682 2702 1159\n",
      " 9748 6211 9500 9052 2741 4612 2455 3506 1757 4159 1248  707 6345 9932\n",
      " 3905 6049 1665  712 8413 3543 2098 6968 1156 5292 2369 3279 2790 2584\n",
      " 5383 4255 9220   12 5836 2733 1073 8238 3056 6093 8240 7422 5651 6038\n",
      " 9949  142 4102 4383 5323 8152 9823 7475 7556 6604 7456 9205 9812  388\n",
      " 9633 7527 7502 2680 7832 9965 8474 6536 9585 9885 9267 5199 4187 4504\n",
      " 8046 1163 5206 8562 4642  324 5118  724 5904 4871 7607  783 8659 6774\n",
      " 1160 2895 9337 8556 2666 4728 3848  649 4300 4465 8801 4301 4270 7299\n",
      " 7398 7203 8323 1216 2031 4857 8837 2399  817 2322 1714  984 2505 7450\n",
      " 2640 7933 8205 4160 5203  402 6149 3356 5703 3646 4433 1996  903 8628\n",
      " 7530 8285 1437  438 8051 5039 1719 5351 1749  703 4460  152 3849 6380\n",
      " 9512 2007 4789 3261 8025 3677 6836 5911 2911 7010 8144 7201 3535 1783\n",
      " 1330 7674 8154  113 1377 1475 3621 8525 3138 2425  170 4248 2065 5179\n",
      " 6914 8680 3132 4555 1411 8076 3564 4672 8428 2709 7718 1308 9854 6157\n",
      " 1426 6655 5236 5268 9718 9912 6550 9792 6066 2038  429 4641 8360 5598\n",
      " 3210 8922 2433 6084 5393 3424 3295 1845 6529 9554 9138 8814 9404 4128\n",
      " 6019 9305 6633 6129 9336 7070 3355 6965  125 8937 3752 5916 3163 2672\n",
      " 1720 9806 4442 2710 4904 9644 9068   18 3240 1229 7213 9454 7566 2942\n",
      " 8403 7907 1402 4593 8953 1124 1712 7119  209 3159 6967 6708 3067 9144\n",
      " 1578 3877 5224 3346 3827 8741 7091 5872 8257 9274 7423 4253 5329 9795\n",
      "  483 6822 4044 4651 1604  167 9112 9931 6782 6227 3683 3817 7158 9435\n",
      " 4694 4698 5508 1365 5269 3736 1530 8950 3089 4025 4452 6996 6975 2889\n",
      " 3983 8979  440 1329 4717 4490  909 8343 7648 4188 7124 1193 6186   25\n",
      "  256 8745 6977 7111 4937 8855 1849 9896 7054 9918 4381 6585 2396 7489\n",
      " 9495 1014 1509 8093 6710 9015 2595  323 6580 7601 3845 2718 7891 6935\n",
      " 1696 9990 5829 8686 6821   56 4777 1877 9315 7389 9571 9019 8443 5401\n",
      "  955 4793 5666 7400 2176 6775 1042 7021 2929 2063 9722 5388 9635 7622\n",
      " 2468 8290 5438 9199 8895  782 7992 5184  589 2089 9058 1990 7120 4200\n",
      " 1473 9710  951 5210 3157 4457  373 5977  550 6779   50 5381 4814 8458\n",
      " 7888 1417   36 2240 9025 3365 9122 1148 7978 4844 6102 8028 1107 4325\n",
      " 5978 8512 1818 8714 4429 9519 1517 6845 9544 6165 4079 5155 9926 9921\n",
      " 5164 6954 6390 6556 8356 4897 9487 9264 1582 6527 8297 4602 8004 8489\n",
      " 3698 9109 9027 4114  839 4421 9370 4864  922 8989 6922 1504 1486 2797\n",
      " 5286 9117  200 7699 1391 4790 7476 3113 4656 3339 5242 8346 7725 3242\n",
      "  992 6510  202 7603 7606 8193 6833 9954 8780 3890 9088 4023  667 3510\n",
      " 8373  145 4963 4386 8407 4145 8591 2082 7052  729 5629 9355 7976 2556\n",
      " 2481 2012 2482 8491 7471  221 4788 3076 6945 4184 2914 9735   90 5890\n",
      " 8263 8925  819 2422 1979 3946 8444 9835 3583 6701 4001 3985 6628 5958\n",
      " 5123 2156 3418 3416 5844 7576 6928 6666  433  326  683 8630 2688 5324\n",
      " 1041 5880  815 1302 8029 1695 8499 9201 1396 4217 6214 7763  896 9937\n",
      "  594  716 6256 8310 2879  318 5637 9695 5554 3117 5455 3869 6957 6623\n",
      "   72 3694 4021 9031 7326 9310 8038 3185 4485 5141 3959 9084  305  298\n",
      " 2037 7041  481 7365 5710 5142 4317 6367 8412 7554 8972 3866 8027 2196\n",
      " 3455 4906  300 7619 9946  590 6173 3585 4893 8429 9354 4944 7086 8299\n",
      " 6326 8115 6632  374 9910 1046 1630 3052 2081 7748 9190 1664 1066 4298\n",
      " 9060  519 8176 4478 4617 3274  660 7406 5331 3548 5630 4267 8863 3025\n",
      "  365 9030 5313 6901 5724 5391 5920 7077 4852 8761 8822 6414 8623 5079\n",
      " 2818 1738 4450 9953 4338 2383 3423 6920 8879 4276 6060 4508 4997 3010\n",
      " 9788 6253 3586 2406 1943 3805 6329 7189  634 3665 2017 4030 1037 8096\n",
      " 2858 4784 4058 7280 5512 7316 9640 1772 8177 6807 9790 2323  295 9470\n",
      " 1453 8677 3658 5564 1911 1543 9314 4590 6760 5822 4685 4495 1115   75\n",
      "  555  269 4999 8268 8422 1890 4901 1180 9898  416 1613 4239 1428 3145\n",
      " 6515 7863 8928 9534 4268 8485 6273 1976 8789 8312 9312 3880 7184 2260\n",
      " 7577 1799 1170 2931 7462 4109 5769 4448 3220 5882 4414 5112 2161 3047\n",
      " 7446 9713 6436 1064 6592 1166 1752 2389 3378 1864 3398 4215 3460 8513\n",
      "  892 1718 5556 8211 8600 8546 8405 8089  705  738   29 7095 5296 1588\n",
      " 7875 5459  156 8187 5744 3222 1266 3438 3705  636 1218 8274 4048 7432\n",
      " 2758 7039  628 5615 4536 3832 6213 3604 8910 5110 9908 4476 9570 4179\n",
      " 3907 3127 1215 3078 1069 4806 8385 3758 6193 6956 6552 8545 6220 4574\n",
      " 8258 3779 2048 5981 3297 2000 5006 5089  765 7419  751 1922 4370 3232\n",
      " 2683   64 2598 4768 6302  372 7094 6388 7170 5714 9956 7352 8982 3734\n",
      " 1310 3469 8000 7915 3924 2898 7575 5265 5321 1902 9063 4754 1827 5503\n",
      " 7218 5722 2926 8396 8125 3592  931 1821   24 5053 5798 6339 3109 4282\n",
      " 5363 3578 7661 7379 2877 8834 6169 1244  629 6891 6468 4071 7809 8320\n",
      " 6788 4924 6044 4676 3896 7130 1090 7768 7001 4446 5950 3513 6544 2453\n",
      " 7469 4151 1164 1359 5524 3012 2319 9147 5412 9837 4330 9950 3739 1239\n",
      " 8053 4458 5803 9727 6844 7193 6064 7362 7757 3003 5258 2997 8907 3978\n",
      "  563 2225 9384 6696 7015 7515 7592 9455 8243 9851 1492 6648  414 9961\n",
      " 4855 8468 9329 3721 8432 7470 6792 3787 2300 4886 6196 9195 3786 7372\n",
      " 4614 8079 1103 3342   76 4004 8309 4063 7561 3304  658 7841 9913 4261\n",
      " 4369 1785 2211 2833 6884 7295 4748 6132 6880 1333 2485 3440 9491 1891\n",
      " 5266 5121 7375 6124 2473 4883 7049 6041 7621 9151 3814 3740 8760 4486\n",
      " 3152 3534 4828 6868 8159   45 6235 5656 9945 8777 2542 2378 6810 7679\n",
      " 8896 7192 7653 1219 2118 3425 5565 3540 6383 8465 1839 1376  799 5135\n",
      " 9800 7997 7018 3844 2920 3333   98 8899 6516 6123 8872  524 5704 5359\n",
      " 5392 1591 3284 2107 6734 4234 6026 5582  944 3560 9717 7468 9666  991\n",
      " 7986 1434 3347 1461 6307 1490 1108 4166 1573 6204 2115  101 1626 5349\n",
      " 2103 5489 1352 2912 6791 9379 3031 2633 2795 4632 9340 9980 2203 9479\n",
      " 6047 1537 9600 1149 8143 4424 8829 6039 2159 2150 2171 8942 6740 8599\n",
      " 8030 9756 1968 5942 1189 5362 2202 9295 6291 1028 5085 8698 6962 9603\n",
      " 5148 8016  576 3420 5857  207 9172 8394 4551 6908  417  522   82 4212\n",
      " 6993 4791  501 9266 6364 5548 1207 7864 7989 6258 1770 8891 8739 2653\n",
      " 7067 4471 7563 9416 1997 1226 5364 8170  795 1676 5405 8006 7955 3402\n",
      " 9583 3396 3988 8037 5794 8275 9118   57 5577 8368 5939 3369  864 2304\n",
      " 5217 4455 9393 4105 2157 3492 9218 8944 9707 7509 5045 3016 8425 9297\n",
      " 4500 7430  175 6114 2865  306 8988 3415  981 4931 1740 1698 8453 6441\n",
      " 3932 4660 7244  597 2775 7396 9307  376 3963 1268 1532 8133 7994 4799\n",
      " 5998 4649 5101 1400 5780 3783 7833 9496 5974 4172 4715 9399 6958 1646\n",
      " 1493 5080 5369 2042 4796 6916 9936 7897 3940 5057 6293 1184 3614 7904\n",
      " 8003 5854 4009 7066 7117 7303 6605 1886 8908 7194 2342 7536 3668 7005\n",
      " 8109 2221  693 9696  938 9665 6662 5111 3587 3311 3009 3234 5474 6693\n",
      "  463 8708 5604 5973 7898 6753 4967 7647 7836 3709 1441 1140   93  771\n",
      " 7060 2695 6951 6989 7717 2379 5736 2248 2109 6874 2046 5979 3093 1162\n",
      " 3335 2592 7558 6373 9065 1889 4703 3312 5996 3690 2791 2921  291 4264\n",
      " 7773 8638 8171 9381 3239 4953 4136  506 5733 4148 2471 1146 8094 6370\n",
      "  845  749 4238 6474 3123 8938 2087 5757 3375   85 2076 5669 1468 5843\n",
      " 1425 3441  187 1348 3961 4880 5790 6855 9010 1589 3798  100 2618 2096\n",
      " 4773 8629 4524 3376 5721  495 4116 4911 9875 6790 7435 2136 9428 2270\n",
      " 7532 9874 8039 3483 8728  564  168 7572 2106 5616 7440 3499 5823 4900\n",
      " 2287 3323 3442 7103 4705 8939 5499 3488 8463 1666 8911 5475 1185 9941\n",
      " 7629 1457 1648 2761  807 2009 5895 5975 7729 6125 7215 7174 9035 9685\n",
      " 7373 1311  546 1693 8116 3466 6113 2593 9547  946 8949 6051 7270 8749\n",
      " 4107  581 9299 4532 8493 6486 1309 4531 4456 1857 9802 4271 7889 5561\n",
      " 9563 3947 1954 1456 7692 3476 2808 7342 2382 4327 5859 4633 7925 2441\n",
      " 2830 3771 4945 8976 5674  216 1321 6187 4278 8197 6355 3689 3657 1584\n",
      "   30 7156 6622 5098 3531  918 2408 8104 1116 7356 8140 5061 2344 4125\n",
      " 2279 7968 3422 3414 2814 4152 7893 3395 4902 2827 8915 8657 6025 4862\n",
      " 8110 9868 3421 6071 7523 9099 7161 9998 9855 5562 2488 6980  217 4567\n",
      " 8883 7243 5686 5621 3679 1230 8626 1973 4201 8711 1798  663 5315 3496\n",
      " 8542 7228 3684 9575 8186 5301 9313 7211 5539 7035 4177 7297 5023 1374\n",
      " 9452 8805 4141 8753 4594 8371 4670 9476   92 2654   19  727 7221 9607\n",
      " 5245 3806   74 7223 2387 8905 5341 5322 1647 1870 6461 4097 8153 6024\n",
      " 7302 6773  198 3350 8577 5226  814 4432 8662 6863 9804 1745  964 2343\n",
      "  681 8865 6278 6254 1083 1974  584 4031 1853 6723 2337 9579 6237  816\n",
      " 6548 7614 7347 9656 8198 6265 5617 5168  421 5961 5429 4665 9113 1882\n",
      " 1542 8301 1127 7428  717 7690 1708 2838 5677 7087 2078 8846 5864 9911\n",
      " 7134 8017 5449 8815 7631 7652 1756  204 4616 8363 2647 2160 7163 8847\n",
      " 9347 5792  399 3390 8840 2432 6450 4444 2861 2844 2563 9730 5871 9071\n",
      " 7241 4795 4419 4762 5144 1001 1044 4969 2246  480 1409  935 7460 6419\n",
      " 6669  246  748 3061 9009 1416 2845 6795 7866  294 5017 4731 6801 3215\n",
      " 5847 4637 3153 5267 6267 3463 9752 7909 6823 3389 2837 1637 9545 4629\n",
      " 1548 6067 1231 3024 6281 1949 5175  366  690 2614 3879 1288 9231 6318\n",
      " 9389 8549 5494  235 7591 1195 7882 8213 1192 3828 4866 6789 5355 8661\n",
      " 6936 2370 8653  379 3486  622   44 8332 1921 7774 8566 9086 4701 3077\n",
      " 1681 2045 8487 3341 9947 2275 8021 3206 5441 6284 7269 8469 2029 8894\n",
      " 1487 5083 9365 3859  328  619  544 1383 7877 6904 8305 7116 1418 2302\n",
      " 2191 8467 5303 1076 7182 4554 5618 1700 1296  646 8588 8361 6719 6416\n",
      " 2003 3692 5181 3255  315 8367 6711 3198 8723 4484  710 1011 3681 3942\n",
      " 3507 5274  834  912 9458 9873 3706 8724 6201 4453 3108 1002 6036 1495\n",
      " 8867 1020 5855 7434 7896 8388 8473 3769 1052 7210 4750   47 6857 7059\n",
      " 6808 9564  780  941 6733 3854 7610 6532  894 3653 5058 8504 3735 1872\n",
      " 4840  268 6426 1285  808 8786 9486 3103 5952 7187 6172 4134 6507 1671\n",
      " 4620 9782 2011  390 6889 5595 8571 2974  351 1848 3993 6905 4323 2533\n",
      " 5665 8772 7782  250 5517 8875 7848 8235 7229 4610 3777 6818 7646 7240\n",
      " 4236 8645 4133 7988 5442 6017 2122 4431 9163 8259 8180 6560 4787 9828\n",
      " 7415 6998 2001 1198 3351 9858 6735 1097 3802 9558 6117 5915 3778 4743\n",
      " 6805    6 1903  470 3115 4761 2824 5642 2699 3290  403 6495 8740  666\n",
      " 8605 6156 9078 7034 7555 1132 6831 6925 5555 2053 8445 8956 8207 1389\n",
      " 8779 5752 7138 6232 8573 8421 4846  573 5756  389   52 6511 9978 9240\n",
      " 6268 2888 5009 5520 1013 3837 7068 5196 2139 9000 2439 4635 9747  776\n",
      " 6360 7966 5140 8464 2636 8236 7405 6407  161 1338 9976 3069 2988 1099\n",
      "  223 9145 7361 1305 7687 6072 8553 4054 1353 9610 9566 5691 3989 7705\n",
      " 5559 7811 3836 4605 2085 7786 3888 6542 4333 6658  870 6886 6412 4273\n",
      "  606 5534 8784 3818 6591 1277 1553 7862 2057 4615 9116 4426 1916 9074\n",
      " 9654 4034 7885 4836 9248 5967 9449 1862 3967 1375 3865  206 1172 8757\n",
      "  468  811 8962 5212 3199 5002 7436 3749 8560  974 3223 8719 1394 5824\n",
      "  222 3307 9906 5670 6162 4237 8392 9673 5356 6603 6183 6438 5511 9402\n",
      " 4511 6197 7376 2801 4391 5091 4907 1779 5956 4196 4162 3801 8666 7143\n",
      " 7404 3624 6944 2572 6983 7698 2823 9943 8247 7207 2987 1345 5180 4986\n",
      " 8202 4741  825 5488 7936 1372 4621 2312 8555 5929 2779  479 3201 3445\n",
      " 9539 6422 9909 7387 1865 1733 8358 6337 5632 5287 8169 3382 4297 3219\n",
      " 6075 5213 3728 9230 1478    2 6459 6793 3489 9708 3555 7029 6359 4560\n",
      " 4440 5087 1547 9768 9049 1895 8118 4016 4749 2309 5922 3730 7573 8381\n",
      " 9433 3960 6040 5295 8098 9321 2637 6398  314 9335 6316 2043 2816 8866\n",
      " 1652 6179 7386 9551 7157 8668 4711  844 3041 9895  919 8280 8451 5860\n",
      " 4295 3251 9771 4955 9917 5153 8040 4127 4131 7335 5815 8806 6168  574\n",
      "   40 7110 6618 9511 6353 3617 7017 4912 2201 3636 1606 9270 7810 3246\n",
      " 7279 7749 4733 5709 7795 5106 2901 7510 9604 4349 8382 6296 3964  659\n",
      "   87 4080 3082 8750 3830 9829  700 2368 5751 6018  969 3688 4623 1312\n",
      " 4843 9648 2848 1217 7019 4778 2438 9791 3766 4956 3306 4410 4326 6817\n",
      " 5706 5716 6408 3412 5643 8138 4628  750 1914 9372 4262 8751 8317 5968\n",
      " 8459 6688 7199 9869 4861 1919 1121 6080 2794 6490 1393 8857 2095 2064\n",
      " 9958 8447 4143 6405 7659 6988  698 6063 9732 4706 2273 6634 6433  173\n",
      " 4334 9461 1534  174 6631 7014 7744 9413 3557 6732 7545 5694 2294 3966\n",
      " 8456 6656 8128 4498 4291 9632  857 5194 1900 3904 5270 1326 4928 1562\n",
      " 4932  124 1944 9645 1347 4619 6573  613 7733 8208 6535 2198 2088 8913\n",
      " 2630 9769  322 2770 7445 6241 3411 7030 8544 2232 4183  452 2254 7521\n",
      " 6668 4503 6320 3796 4193 4235 4695   71 5293 1888 7277 2764 8934 8497\n",
      " 1058 1208 2723 2511 6292 4005 5430 1147 3772 1472 2507 7520 1360 1622\n",
      " 9447 3459 1741 7336 5926 7694 7443 2466 2404 4436 3450 4315 7327 1432\n",
      "  831 7594  172 8341 4720 8232 1926 2253 7719 1379 2957 5711 4935 9406\n",
      " 4032 9591 4224 7996 6541 1655 6484 2641 1003 7772 6396 5533  956  106\n",
      " 7272 6586  711 5522 1259  826 6351 5374 8969 8919 3428 4512 7136 6726\n",
      " 6911 5991 4765  327 8664 9392 9368 7638 4149 5681 4312 1782 6177 8256\n",
      " 7874 2525 9624 8720 4991  648 5496  610 4049 8374 3058   67 5338 5365\n",
      " 3855 6260 7289 6048 3482 3104 3916 8636 4716 9308 9475 9268 9046 7680\n",
      " 1405 4974 4074 3997  301 3724 7883 2820 3696 3704 4269 5480 6120 8509\n",
      " 6689 8827 9110  979 1421 2632 7044 4526  534 8050 4821 5786  310 5729\n",
      " 8179 8227 8387 3430 4168 7418 3921 9846 9250 6506 5623 4973 7385 7815\n",
      " 6900 7191 2086 2066  800 6166 8964 4608 6185 6898 1070 4548 6045 5125\n",
      " 2208 5865 9967 1838 9915 6660 8836 9034 4396 9105 1075 1759 9464 1780\n",
      "  110 7300  890 3102 7481 2644 4415 5718 2600 2500 3200  838 1316 6031\n",
      " 7348 2940 3370 8401 5450 7478 3494 5501 4165 3708 3655 5750 5927 9462\n",
      "   34 7567 6391 2451 9737 1138 5458   16 7654 8660 3770  709 1143 5863\n",
      " 5343 6242 2638 1701 5935 9721 2700 5983 1331 9842 1387 3968 5782 2918\n",
      " 8511 9241  177  474 6803 9878 5233 2163 2416 8164 9882 6933   41 6095\n",
      " 6010 8980 1869 5679 6692 1987 3925 5883 9278 6377 3935  982 6448 8995\n",
      " 6640 5084 9863  911 6050 6358 5299 9830 7624 3917  755 5340 2678 7367\n",
      " 3310 8220  986 2583 6341 6534 3637 2207 7176 1991 2230 9160 5195 3745\n",
      "  687 4390 6860 4663  255 2480 3842 2753  732 8036 8898 7285  580 9055\n",
      " 9531 5791 8585 6330  940 3509 5234 1938 9053 8411   17 3211 9557 8580\n",
      "  833 6717 3853 1781 2218  929 9944 7025 2928  745 5581 5498 6647 6059\n",
      " 7486  618 8262  478 3824 8449 6867 1662 5305 6308 2484 4309 9820 7480\n",
      "  457 6528 5543 2999  753 5256 7438 6215 8759 9115 1343 6297 4454 7266\n",
      " 3903 4885 3081 1129 9690 1477 4385 8200 2551 8648 8293 8615  615  367\n",
      " 2522 9134 6248  449 3451 7790 6097 8369  877 2662 8391 6167 5016 1593\n",
      " 4792 2282 9758  220 2776 6488  448 9749  236 4664   22 9360 7972 7908\n",
      " 2121 5830 9808 2092 4734 3256 7609 1063 2796  454 8303  521 9822 2448\n",
      " 3911 8781 7634 7461 2813 3714 2375 9938 7181 1803 3229 6081 4505 1094\n",
      " 6118  669 8690  954 6784 8167 8978 4480 6032 6013  915 4702 4559 2431\n",
      " 5307 8370 8402 2002 4399 9089 7714 7334 8644 6070 8431 3294 7914 5043\n",
      " 9120 1283 4782 2489 4366 7171 4825 5779 7808 8510 9933 7887 1524 4908\n",
      " 5347 3399 1410 6447 5108   53 5431 7424 2665 8249 7715  907 1754 5584\n",
      " 3260 5580 8362 5901 8651 5276 5200 3030 2554   48 9460 2303 1467 7837\n",
      " 7172 8034 8793 5899 2610   37 9260 7818 2514 1525 1981 3660 6322 7064\n",
      " 9550 1273 9356 5876 5163 6446 3100 6076 5664 2006 5185 7233 2345 7984\n",
      " 6012 5797  532  533 7140 8390 2913 6313 7180 4045 5948  692 3439 6730\n",
      " 9091 7129 9257  632 3212 7284 1346 5059 3663 5768  688 4286 9187 1858\n",
      " 2305 7588 2388 8045 1000 8569 4130 5446 8974  523 8427 2079 5131 6068\n",
      " 5701 6184 1829 1730  961 9040 3733 8701 3975 7921  539 5399 7294 1125\n",
      " 5573 7175 2840 9169 3645 2729 3862 1955 2513 1639 2531 9715 1731  252\n",
      " 7901 1191 3154 5828 3150 4015 8766 7783 5445 6181 9934 8845 4723 9971\n",
      " 2828 7264 9079 6593 2599 5451 7449 5443 1983 2881 5841 7338 5608 9316\n",
      " 7643 3644 3642 8162 3063 2047 9738 4609 4611 6930 8870 5622 9803 9342\n",
      " 2284 3327 4425 1674 8023 3457 9499  312 7072 3943 7709 8853 1249 6155\n",
      " 2365  554 3788 9556  541 2685 7273 4714 5602 5397 4214  330 7803  525\n",
      " 6800 1841 9856  924 4783 6597 9191 5814  352  721 4062 8294 1825  500\n",
      " 5928  570 8242  354 7769 2875 6244 8077 3286 5447 4882 8694 6464 2182\n",
      " 2601 7006 5955 1856 1370 7913 7958 7860 3969 6139 3484 9442 4115 5951\n",
      " 3119 5728 7204 2963 1262 6746  997  102 9302 9639 3928  855  734 8264\n",
      " 4650 9344 8349 2113 1120 2258  720 1726 1687 3228 2350  281 3748 1601\n",
      " 3508 2040  311 2394 6406 4011 8971 8399   84 2290 4507 3599 7959 2515\n",
      "  530 7734 9655 7004 9209 7177 8225 4260 9024 8581 1256 2510 7217 3702\n",
      " 3036 6350 8717 3651 4558 3026 1051   27 5464  271 2359 7806  635 9966\n",
      " 7518  603 9395 9287 4039 9293 7700 5463 7151 4975 6538 7132 5541 7444\n",
      " 3609 6087 3116 8559 9478 6721 6888  111 3825 3014 2778 4332 7253 2470\n",
      " 5035 3992 2335 3410 3987 6239  998 4408 1440 8970 4830 6472  441 3773\n",
      " 1204 6854 8092 4764 8531 3134 7544 6175 4982 4658 9401 2123 8993 3187\n",
      " 7256  673 6947 8621 3860 3334 7069 1904 1169 4528 2013 5804 1081 6430\n",
      " 4170 9440 3524 8807 8454 6369 5894  426 3747 4405 7150 5684 8352 1327\n",
      "  218 9772 6243 9694 1847 5143 7084 8355  496 4640 8533 6324 8534 7262\n",
      " 3579 6487 6641 5308 2736 7533 2810  360 3622 2805 8987 8192 9601 2073\n",
      " 5461 9039 3973   13 6599 7688 2859 7514 1485 7541 7437 2674 8689 3099\n",
      " 2675 4250 5715 6043 7641 6126 1439 5886 7526 9104 2703 8579 4368 8812\n",
      " 2426 4371 6750 7550 1729 6111 5897 5685 8481 4771 7033 6141  180 5421\n",
      " 2310 7198 3236 8102 3207 4643  462 1500 6971 7916 3191 8674  154 7409\n",
      " 5248 4240 1367 3536 4343 7247 5297 7522 4951 1567 7611 6892 8532 1464\n",
      " 6501 3648 6819 7309 1947  528  361 9283 6978 7829  540 2477 8966 5673\n",
      " 8547 2331 4104 9857 7074 2517 4394 6645 6687 4972 4060 2803  331 5086\n",
      " 3542 3565 4256 4666 7381 3406 4275 4823 3045 5689 3804 1917 6400 4985\n",
      " 7036 5748 5506 5891 1380 6652 3909 4785 5909 1245 2767 1989 7740 1221\n",
      " 8462 3594 2023 1292 4534 8228 5746 8470 8732 7397 4801 9444 3217 2526\n",
      " 4175 4747  898 3051 1953 5912 8241 3096 1222 8188 9703 7821 4018 6368\n",
      " 1778 3173  432 2939 1202 5887 2952 3580 1241  123 1211  350    7 7265\n",
      " 3385 6192 5576 5653 9029 4435 1797 3707 1190 1088 4572  176 6088 4263\n",
      " 5903 8507 8277 2906 1634 7602 5921 2459 7905 8331 1136 4178  846  656\n",
      " 4647 3322 7960 5044 4921 6266 8862 8479 8136 8095 7139 6673 2802 3358\n",
      " 3965 2894 9011 1470 8833 4903 4290 3996 7651 9426 1800 5273 7100 4364\n",
      " 7519 7107 9794 7003 8762 9765 2199 9235 7562 2391 6767 8649 9453 8157\n",
      "  793 4759 7286 3413   69 2650  685 1535 2706 7656 8620 1761 8785 7813\n",
      " 5188 9904 2457 9232 2494 4064 5317  859 3487 2727 9246 1950 4106 4377\n",
      " 1095 8851 7633 2222 9429 2799 3317 6698 3111 5767  775 6579  189 7328\n",
      " 4947 6979 6676 3829 4700 7071 5917 9506 3085 9369 6462 3227 8658 6349\n",
      " 2280 1773 2094 5127 7484 3716 7710 6015 7792   55 8335 2521 4221 2831\n",
      " 4520  490 3401 7278 8646 9528 7952 4740 9731 4026  137 3856 1703 2922\n",
      " 9724 1807 5255 7487 7024 9095 5166 3755 9473 6929 2111 3144 3126 3980\n",
      " 3549 5788 6142 7023 7513 1555  287 3882 9613  756 6310  355 1386 5394\n",
      " 6974 9948 6644 2908 6608 1007 8973 4388  762 3032 6411 2635 4339 8618\n",
      "  948 7291 4420 4331 9322 8521  869  840 2495 6565  668 7761 4451 6492\n",
      " 3391 2390 3516 5888 9617  966 1764 8024 4675 6743 3065 4990 1554 9523\n",
      " 4995 5525 2315 5290 1969 8334 2386 5893 7672 6289 6680  942 9844 5469\n",
      " 3823 8329 7951  900 8652  383 6910 1265 7062 5774 2885 7649 5905 3209\n",
      " 8146 1518 9490 8195 4348 9403 6163 1299 6587 1178 5755 1744 5873 7581\n",
      " 3203 8296 1984 5831 4899 2532  654  484 3128 6030  134 8764 8406 3105\n",
      " 1711 1908  348 4225 2069 4946 8699 2276 1694 2460 9226 6827 1157 9813\n",
      " 2815 9018 9006 3639 7452 5081  678  680 5251 6376 4417 1959 4573 8184\n",
      "  292 5398 9503 3080 8286 7954 5400 3514 1707 3962 4805 5257 3808 3019\n",
      " 6846 8389   77 5964 5055 8754 8725  400 9388   91 2737 9330 5700 5667\n",
      " 7817  475  818 3861 6625 7828 7943 7076 7801 5980 2188 1732 2872 6174\n",
      " 3600 2887 2708 7990 2126 4970 1817 6086 8248 4837 2773 9282 2401 7965\n",
      " 7488  830  953 1929 4389 3017 1171 3354 9186 3784 3791 6198  151 4746\n",
      " 2712 1669 7580 5291  128 9237 7565 8466 5214 7543 4066 7639 5435 4708\n",
      " 7271 3208  971 8313 3023 5178    1 7590 9210 1177  572 6099 9521 1043\n",
      " 4645 9630 9338 2330 6866 8183 2851 4802 4699  638 3091 5376 6033  130\n",
      " 4401 8634  910 9239 7517   86 4439 8054  251 3934 1790 2607 1242 7232\n",
      " 3133 7155   97 8727 6223 2245 1060 1484 2267 4873 8951 9773 2577 5160\n",
      " 3720 3919 1843 4891 2483 5189 4461 8565 3386 2417 8906  226 1541 5062\n",
      "  908 1599 7331  694 4499 9914 9179 7636 3345 3976 4626 2414 9254  387\n",
      " 7109 8251 4529 8328 2910 5230 2051 9398  520 2301 8311 8888 1871 8288\n",
      " 2373 3074 5832  785 7268 8800 6463 2852 6661 5680 8271 2021 7793 3887\n",
      " 3974 1985 7098 7377 8342  185 3883 3593 2559 1982 2785 5174 1247 9518\n",
      " 8101 8641 3471 1199 9864 4171 6057 4968 4037 6381 7258 6514 4697 7738\n",
      " 2793 9325  378 5772 4808 2321 8327 3419 1282 9103 7583  184  136 1964\n",
      " 4083 1758  579 6027 3977 8619 2540 4474 7238 1407 4756 4047 9677 3922\n",
      " 2036 8075 3678 6046  647 3273 8496 4319  443 8981 1590 4753 4228 1735\n",
      "  344 1284 8434 1768 4954 2153 7600 1022 9651  497 2509 7552 4581 7055\n",
      " 8393 5373 5482 7856 9582 1077 4779 3485 3147  802 4167 3833 2210 4679\n",
      "  588 5639 9535 8308 7970 1612 5649 3169 8631 4661 7144 9574 1868 4888\n",
      " 6246 2725 5663  641 1045 4095 5570 4667 8353 4472   78  809 2616 5997\n",
      " 7408 8418 2798 4879 2430 1788 9222 1499 8564 3313 7980 2643 2864 9167\n",
      " 1390 3481 7847 2547 7720 6893 1489 8743 7568 3233 2841 9155 5478 6348\n",
      " 7196 6526 3070 2892 3332 8582 9525 3999 3291 3183 7977 9066 9884 4335\n",
      " 3158 4827  671 8904 5119 8364 6530 5170 6715 2625 5870 8696 4190 1272\n",
      " 3314 8254 5352 5609 4181 5220 5280 7185 3673 6203 6938 6473  150 5551\n",
      " 3379  162 6738 2975 6105 2944 2363 2056 7043 2606  456 3785 8344 5434\n",
      "  679 3626 3216 3122 4029  143  261 9972 4639  939 4576 1977 7028 5866\n",
      " 1442 3501 5597 6764 9924   62 7399  277 2329 6109 7152 8809 7559 8880\n",
      " 4289 2784 9013 6919 8073 4163 6882 2313 6078 1009 7281 6098  650 8746\n",
      "  689 2090 2442 9987 5775 8601 6949 5591 7999 5082 2358 6626 1371 2371\n",
      " 6602 1414  420 7918 2560 2787 4213 1692  665 3982 1560 7788 9883 9970\n",
      " 7676 1520 4400 1513 2346 9902 2256 2867 4292 8292 2296 3000 6525  841\n",
      "  345 6620 8598 7357 8850 2415 6301 6245 5294 2374  847 7830 9064 7745\n",
      " 9753 9553 6399  284 2341 3819 4307  843 5995 3353 8825 3140 3175 7868\n",
      " 2915 6837 3933 3453 3193 2731 6780 1476 1031 8632 8475 4346 7108 6387\n",
      " 9171 9045 3262 1010 3001  993 1251 5816 5641 8255 1545 2377 7906 2347\n",
      " 2295 2829  263  995 1462 5537 2749 7012 9646  583 9331 9400 6470 7382\n",
      " 9477 7298 8009 1313 4923 6442 4409  398 3632 3194 9786 8583 7844 6594\n",
      " 6343 8416 9699 3477 1349 4204 4831 1952 1796 5167 5593 9327 7861 7632\n",
      " 9051 7355 4219 6428 1275 9532 5932 9443 5042 6352 1450 9448 9959 5216\n",
      " 2209 9739  741 8376 6816 3725 6042 1334 3577 4996  715 1358 4910 9576\n",
      " 8223 1227 7964 2855 2545 3950 5660 3254 7090 6346 5330 5420 5215  661\n",
      " 4978 1040 3213 5346 6843  913 3971 7178 7794 1546 1471 8064 5092 6959\n",
      " 3301 5202 6498 6872 2549 1806 2955 1324 6871  744 4539 1883 5336 7732\n",
      " 7686  511 6338 8085 8289 7002  279 5531 8495 8424 2128 6382  332 4404\n",
      " 4379 6630 1685 3435 7358 5962 3500  109 7670 2026  743 1213 3136 5419\n",
      " 1550 9592 2075 6665  739 3629 7971 1474 8190 6234 4360 8998 3559 8500\n",
      " 6912 5734 3643 7812 5646 2943 1556 3452 2800 8156 6365 4690 8145 7499\n",
      "  296 6569 2748 2465 5468 2523 7945 8669 1508 9092  181 7451 6361 9446\n",
      "  126 2995 4606 8321 6133 3165 5727 8856 6770  260 7506 7551 4257 6561\n",
      " 5874 3902 8041  559 8260 9897 6897 8414 7764 3984 4382 7511 6657 1679\n",
      " 9224 6756 2782 9386 7668 6606 6546 7016 8516 5599 2605 1447 3280 1608\n",
      " 4510 1332   95 6862 5707 2884 4120 2032 6613 4509 9992 8887 8726  444\n",
      " 7369 7796 1279 7767 8113 1713  566 3268 5702 4321 2327 2958 9986  828\n",
      " 2962 4464 6226 1514  989 2187 6697 2836 7704 9005 5971 3892 4493 1155\n",
      " 6231  411 5211  205 9306 1794 9363 5060 1424 4274 6840  397 2093 6755\n",
      " 3179 1458 5246  759 5923 4017 2269 7455 9311 1522 6107 8142 5289 8423\n",
      " 2896 6906 7366 6250 2590 5218 4407 8354  419 1303 5596 7209 2142 8122\n",
      " 1252 6706 6134 8269 1686 3272 8990 2649 1100 7865 1422 2679 7507 2786\n",
      " 3340 6325 3195 7927 6089 1755 8536 8681 9621 2204 7073 8692 6205 1203\n",
      " 8697 9973 7159 7250 9070 8306 8958 3831 6094 2924 2576 6873 2316 6539\n",
      " 2197 4283 6917 6547 1884 6766 5275 5371 3612 2655 8078 8826 2949 5134\n",
      " 8576 8921 9548 6519 4538 2497 7031 5109 3044 6497 8541 3218 5014 7403\n",
      " 9568 7935 8203 3472 3361 2077 5762 6813 5327 7383 4156 9781 3282 5743\n",
      " 3146 4367  201 1355 8813 7605 3137 7296  657 5065 8267 5924 6832 4800\n",
      " 4443 4809 1466 3589 5606 8081 7895 5985 7831 9382 8535 7843 5795 2356\n",
      " 6729 6323  253  914 5612 4475 2101 2271 9377 2333 5095 5846  393 6103\n",
      " 8676 6557 2989 8245 4634 8014  652 5723  240 2738 7804 9498 4124 9711\n",
      " 8430 7503  861 7164 8916 7557 1945  404 7061 9139 5753 5783 2585  943\n",
      " 6161 4373 7849 1962 4566 1018 8997 3544 9430 4354 8433 6551 6815 1363\n",
      " 8554 1445 6768 6798 3603 8687 3760 1812 7753  476 9150 6379 2900 7293\n",
      " 2229 6991 6804 9580 4100 7000  288 4359 5249 8384 7092 6481 3094 4845\n",
      " 8787 9905 8498  114 4252 5444 1412 2826  196  499 6858 4772  264 1644\n",
      " 4296  872 9164 8946 4467 9712 4226 1774   15 9901 1905 3620 9256 4205\n",
      " 6228 7257 5568 5545 2874 7930 3006 1438 5547 7751 6460  477 5528  849\n",
      "  487 2423 1690 7759 3287 4477 8731 4552 3309 7429 4355 8083 1091 6137\n",
      " 5021 3623 5945 9146  786 9759 8575 1958 6374 3634 9789 7417 6607  798\n",
      " 3857 3372 8230  455 6008 5334 1250 4850 4153 5477 2231 8902  514 2174\n",
      "  624 1863 1805 6786 8936 9916 4727  930 9161 9831 6006 6829  115 8609\n",
      " 4135 3285 2181 2050 2479 2893  259 6952 7876 6208 2933 1705 9236 2739\n",
      " 4669 8372 9634 1946 1201 5425 1264 2499 9620 7141 8604  409 5523  507\n",
      " 2541 9687 8706 2250 3799 9618 5187 5129 2626  329 5024 6615 5448 4280\n",
      " 4173 4230 3611 9198 6663 8158 8131 3813 2132 5490 1786 3884 7963 4673\n",
      " 7779 1105 8347 1725 8795 6859 9889   51 9367 1399 8137 6469 7190  595\n",
      " 5038 9419 3572 9014 6745 2143 5614 1948 9418  195 2104 3955  431 9132\n",
      " 6004  117 9670 5588 3979  359 6752 2976 7102 7494  853 8082 6828 5542\n",
      " 4088 2015 9309 9181 4983 1898 1026 4636 2180 1753 7393 9028 7413 1354\n",
      "  129  276 5151 6299 4683 7384 5807 6923 2996 9658 1263 2167 7026 2067\n",
      " 6537 5544 4838 5253  303  508 2419 9977 4202 9811 5976 5019 9251 1506\n",
      " 4729  413 9493 8948 8178 3762 6303 7852 3743 4976 6061 3503 8722 6964\n",
      " 3986 7458 6152 5516 4842 3863 5378 7917 7835 9154 2956 8199 7723 6554\n",
      " 8903  763 3224 6011 4894 8874 2217 7495 9391 4815 5156 5869 3141 1724\n",
      " 4586  790 2670 4180 6108 3388 2049 9853 6714 8087  502 5240 9995 1328\n",
      " 4265 9301 7537 3106 6646 3433 7777 3627 1673 8656 4979 1802 2735 2504\n",
      " 3054 1173 4890 1811  104 3088 4742 9466 9203  810 6128 9153 6096 1575\n",
      " 4206  850 3166  764 2097 5288 4150 8642 2503 4304  888 6347 6127 9200\n",
      " 8097 4811  265 3610 4434 5590 9537 5462 5852  536 4737 8819 1828 7472\n",
      " 7208 3357 9555 1337 2100 4613  231 6455 6841 3606 8088 6182 5620  952\n",
      " 9097 2137 2351 9688 6699 5150 8650 4491 6574 6091 9170 4867 3994 9469\n",
      " 4745 4279 1291 2524 7308 5243 3652 1246 2393 3005  805 1653 2249 4919\n",
      " 8763 6941 3618 2567 9982  208 7846 7020 2842 6449 3263 1214 8026 8395\n",
      " 8461 3605 2740 2927 7778  858 6257 6727 2578 2454 5982 6392 4739 4655\n",
      " 7474 1824 8383 2216 9208 8134 7750 5726 1342 1792 4222 6311  813 6924\n",
      " 9567 4774 9536  676 4489 2701 4918 3275 9173  592  630 9279 1295 9593\n",
      " 3050  370 1112 3562  386 4513 1915 9841 1677 7261 9807 6271 7789 7805\n",
      " 2969 8769 4121 2961 9114 3202 5229 4960 9764 3288 8864 8854 3075 6393\n",
      " 3768 8821 3851 9234 3875 2646 3584 7585 7673 9777 3550 9619 6082 6728\n",
      " 2656 7926 1196 8917 4070 4941 3403 5453 9705 4958 3554 2117 1080 1596\n",
      "  860 8273 7439  171  516 1912 1743 2162 4535 2548  453 7154 3763 2634\n",
      " 3669 1067 5652 1027 6058 5423  821 1854 3850 2857 2897 7741 9020 3641\n",
      " 4473 7538  578 5028 5437 8304 7162 1117 6703 8835 6314 2147 4241   88\n",
      " 8013 6023 8123 2059 3436  962 4557 3671 3876 4674 8063 5048  132 6194\n",
      " 4285 6489 3710 4549 2437 2586 4445 5636 1335 4216 5850  611  364 2116\n",
      " 3780 9799 8672 6572 4622 9850 7011 5934 9213  791 7453 6838 8965 6848\n",
      " 5800 2243 4345 3305 6342 1176 6995 4218 6713 2792 1318 3886 9636 1925\n",
      "  801  754 4341 5796 1033 7351 7549 1087 7689 2832 8886 4164 7802 3570\n",
      " 1234 8018 8325 5318 7127 1795 5165 3667 4344 1661 9106 9560 1631 5849\n",
      " 4502 2317  945 5209  472 2714 3686 9599 3326 5699  889 1881 9997 2035\n",
      " 5936 4917  335 1734]\n",
      "The 5 largest values in Z are: [9995 9996 9997 9998 9999]\n"
     ]
    }
   ],
   "source": [
    "import numpy as np\n",
    "\n",
    "Z = np.arange(10000)\n",
    "np.random.shuffle(Z)\n",
    "n = 5\n",
    "\n",
    "indices = np.argsort(Z)[-n:]\n",
    "\n",
    "n_largest_values = Z[indices]\n",
    "\n",
    "print(\"Array Z:\", Z)\n",
    "print(f\"The {n} largest values in Z are:\", n_largest_values)\n",
    "\n"
   ]
  },
  {
   "cell_type": "markdown",
   "id": "b55ccacc",
   "metadata": {},
   "source": [
    "#### 90. Given an arbitrary number of vectors, build the cartesian product (every combinations of every item) "
   ]
  },
  {
   "cell_type": "code",
   "execution_count": 242,
   "id": "4b645da4",
   "metadata": {},
   "outputs": [
    {
     "name": "stdout",
     "output_type": "stream",
     "text": [
      "[[1 4 6]\n",
      " [1 4 7]\n",
      " [1 5 6]\n",
      " [1 5 7]\n",
      " [2 4 6]\n",
      " [2 4 7]\n",
      " [2 5 6]\n",
      " [2 5 7]\n",
      " [3 4 6]\n",
      " [3 4 7]\n",
      " [3 5 6]\n",
      " [3 5 7]]\n"
     ]
    }
   ],
   "source": [
    "def cartesian(arrays):\n",
    "    arrays = [np.asarray(a) for a in arrays]\n",
    "    shape = (len(x) for x in arrays)\n",
    "\n",
    "    ix = np.indices(shape, dtype=int)\n",
    "    ix = ix.reshape(len(arrays), -1).T\n",
    "\n",
    "    for n, arr in enumerate(arrays):\n",
    "        ix[:, n] = arrays[n][ix[:, n]]\n",
    "\n",
    "    return ix\n",
    "\n",
    "print (cartesian(([1, 2, 3], [4, 5], [6, 7])))"
   ]
  },
  {
   "cell_type": "markdown",
   "id": "89187a23",
   "metadata": {},
   "source": [
    "#### 91. How to create a record array from a regular array?"
   ]
  },
  {
   "cell_type": "code",
   "execution_count": 249,
   "id": "da94c71a",
   "metadata": {},
   "outputs": [
    {
     "name": "stdout",
     "output_type": "stream",
     "text": [
      "[(b'Hello', 2.5, 3) (b'World', 3.6, 2)]\n"
     ]
    }
   ],
   "source": [
    "Z = np.array([(\"Hello\", 2.5, 3),\n",
    "              (\"World\", 3.6, 2)])\n",
    "R = np.core.records.fromarrays(Z.T,\n",
    "                               names='col1, col2, col3',\n",
    "                               formats = 'S8, f8, i8')\n",
    "print(R)\n"
   ]
  },
  {
   "cell_type": "markdown",
   "id": "aa70d4ca",
   "metadata": {},
   "source": [
    "#### 92. Consider a large vector Z, compute Z to the power of 3 using 3 different methods"
   ]
  },
  {
   "cell_type": "code",
   "execution_count": 250,
   "id": "7cff1bf5",
   "metadata": {},
   "outputs": [
    {
     "name": "stdout",
     "output_type": "stream",
     "text": [
      "4.89 s ± 188 ms per loop (mean ± std. dev. of 7 runs, 1 loop each)\n",
      "866 ms ± 112 ms per loop (mean ± std. dev. of 7 runs, 1 loop each)\n",
      "579 ms ± 51.1 ms per loop (mean ± std. dev. of 7 runs, 1 loop each)\n"
     ]
    }
   ],
   "source": [
    "x = np.random.rand(int(5e7))\n",
    "\n",
    "%timeit np.power(x,3)\n",
    "%timeit x*x*x\n",
    "%timeit np.einsum('i,i,i->i',x,x,x)"
   ]
  },
  {
   "cell_type": "markdown",
   "id": "5f79dd00",
   "metadata": {},
   "source": [
    "#### 93. Consider two arrays A and B of shape (8,3) and (2,2). How to find rows of A that contain elements of each row of B regardless of the order of the elements in B?"
   ]
  },
  {
   "cell_type": "code",
   "execution_count": 251,
   "id": "20c105b2",
   "metadata": {},
   "outputs": [
    {
     "name": "stdout",
     "output_type": "stream",
     "text": [
      "[0 2 7]\n"
     ]
    }
   ],
   "source": [
    "A = np.random.randint(0,5,(8,3))\n",
    "B = np.random.randint(0,5,(2,2))\n",
    "\n",
    "C = (A[..., np.newaxis, np.newaxis] == B)\n",
    "rows = np.where(C.any((3,1)).all(1))[0]\n",
    "print(rows)"
   ]
  },
  {
   "cell_type": "markdown",
   "id": "a80570cd",
   "metadata": {},
   "source": [
    "#### 94. Considering a 10x3 matrix, extract rows with unequal values (e.g. [2,2,3])"
   ]
  },
  {
   "cell_type": "code",
   "execution_count": 252,
   "id": "84db8de1",
   "metadata": {},
   "outputs": [
    {
     "name": "stdout",
     "output_type": "stream",
     "text": [
      "[[2 0 4]\n",
      " [0 0 1]\n",
      " [3 1 0]\n",
      " [1 1 2]\n",
      " [3 4 1]\n",
      " [0 4 0]\n",
      " [2 0 0]\n",
      " [4 4 3]\n",
      " [0 3 2]\n",
      " [4 2 3]]\n",
      "[[2 0 4]\n",
      " [0 0 1]\n",
      " [3 1 0]\n",
      " [1 1 2]\n",
      " [3 4 1]\n",
      " [0 4 0]\n",
      " [2 0 0]\n",
      " [4 4 3]\n",
      " [0 3 2]\n",
      " [4 2 3]]\n",
      "[[2 0 4]\n",
      " [0 0 1]\n",
      " [3 1 0]\n",
      " [1 1 2]\n",
      " [3 4 1]\n",
      " [0 4 0]\n",
      " [2 0 0]\n",
      " [4 4 3]\n",
      " [0 3 2]\n",
      " [4 2 3]]\n"
     ]
    }
   ],
   "source": [
    "Z = np.random.randint(0,5,(10,3))\n",
    "print(Z)\n",
    "# solution for arrays of all dtypes (including string arrays and record arrays)\n",
    "E = np.all(Z[:,1:] == Z[:,:-1], axis=1)\n",
    "U = Z[~E]\n",
    "print(U)\n",
    "# soluiton for numerical arrays only, will work for any number of columns in Z\n",
    "U = Z[Z.max(axis=1) != Z.min(axis=1),:]\n",
    "print(U)"
   ]
  },
  {
   "cell_type": "markdown",
   "id": "ba154f43",
   "metadata": {},
   "source": [
    "#### 95. Convert a vector of ints into a matrix binary representation"
   ]
  },
  {
   "cell_type": "code",
   "execution_count": 253,
   "id": "cfa96e1b",
   "metadata": {},
   "outputs": [
    {
     "name": "stdout",
     "output_type": "stream",
     "text": [
      "[[0 0 0 0 0 0 0 0]\n",
      " [0 0 0 0 0 0 0 1]\n",
      " [0 0 0 0 0 0 1 0]\n",
      " [0 0 0 0 0 0 1 1]\n",
      " [0 0 0 0 1 1 1 1]\n",
      " [0 0 0 1 0 0 0 0]\n",
      " [0 0 1 0 0 0 0 0]\n",
      " [0 1 0 0 0 0 0 0]\n",
      " [1 0 0 0 0 0 0 0]]\n"
     ]
    }
   ],
   "source": [
    "I = np.array([0, 1, 2, 3, 15, 16, 32, 64, 128])\n",
    "B = ((I.reshape(-1,1) & (2**np.arange(8))) != 0).astype(int)\n",
    "print(B[:,::-1])"
   ]
  },
  {
   "cell_type": "markdown",
   "id": "420e2343",
   "metadata": {},
   "source": [
    "#### 96. Given a two dimensional array, how to extract unique rows?"
   ]
  },
  {
   "cell_type": "code",
   "execution_count": 254,
   "id": "4680dfd0",
   "metadata": {},
   "outputs": [
    {
     "name": "stdout",
     "output_type": "stream",
     "text": [
      "[[0 0 1]\n",
      " [0 1 1]\n",
      " [1 0 1]\n",
      " [1 1 0]\n",
      " [1 1 1]]\n"
     ]
    }
   ],
   "source": [
    "Z = np.random.randint(0,2,(6,3))\n",
    "T = np.ascontiguousarray(Z).view(np.dtype((np.void, Z.dtype.itemsize * Z.shape[1])))\n",
    "_, idx = np.unique(T, return_index=True)\n",
    "uZ = Z[idx]\n",
    "print(uZ)"
   ]
  },
  {
   "cell_type": "markdown",
   "id": "89fef2f3",
   "metadata": {},
   "source": [
    "#### 97. Considering 2 vectors A & B, write the einsum equivalent of inner, outer, sum, and mul function"
   ]
  },
  {
   "cell_type": "code",
   "execution_count": 255,
   "id": "bb9c14b2",
   "metadata": {},
   "outputs": [
    {
     "data": {
      "text/plain": [
       "array([[0.45155423, 0.51278446, 0.50415874, 0.27791839, 0.16902387,\n",
       "        0.14080775, 0.45791733, 0.14356368, 0.48454996, 0.25136881],\n",
       "       [0.1256819 , 0.14272422, 0.14032341, 0.07735353, 0.04704472,\n",
       "        0.03919127, 0.12745296, 0.03995834, 0.13486566, 0.06996393],\n",
       "       [0.03700799, 0.04202623, 0.04131929, 0.02277733, 0.01385267,\n",
       "        0.01154017, 0.03752949, 0.01176603, 0.03971222, 0.02060141],\n",
       "       [0.4058205 , 0.46084929, 0.45309718, 0.24977062, 0.15190501,\n",
       "        0.12654664, 0.41153914, 0.12902344, 0.43547439, 0.22591   ],\n",
       "       [0.58521152, 0.66456553, 0.65338664, 0.36018053, 0.2190539 ,\n",
       "        0.18248598, 0.59345806, 0.18605765, 0.62797378, 0.32577244],\n",
       "       [0.57541091, 0.65343597, 0.64244429, 0.35414855, 0.21538538,\n",
       "        0.17942987, 0.58351935, 0.18294172, 0.61745702, 0.32031669],\n",
       "       [0.06822574, 0.07747707, 0.0761738 , 0.04199094, 0.02553797,\n",
       "        0.02127477, 0.06918714, 0.02169117, 0.07321109, 0.03797954],\n",
       "       [0.59282057, 0.67320635, 0.66188211, 0.36486368, 0.22190208,\n",
       "        0.18485871, 0.60117434, 0.18847681, 0.63613883, 0.3300082 ],\n",
       "       [0.5994744 , 0.68076243, 0.66931109, 0.36895892, 0.22439272,\n",
       "        0.18693356, 0.60792193, 0.19059228, 0.64327886, 0.33371222],\n",
       "       [0.33732118, 0.38306154, 0.37661793, 0.2076113 , 0.12626464,\n",
       "        0.10518656, 0.34207456, 0.1072453 , 0.36196973, 0.18777816]])"
      ]
     },
     "execution_count": 255,
     "metadata": {},
     "output_type": "execute_result"
    }
   ],
   "source": [
    "A = np.random.uniform(0,1,10)\n",
    "B = np.random.uniform(0,1,10)\n",
    "\n",
    "np.einsum('i->', A)       # np.sum(A)\n",
    "np.einsum('i,i->i', A, B) # A * B\n",
    "np.einsum('i,i', A, B)    # np.inner(A, B)\n",
    "np.einsum('i,j->ij', A, B)    # np.outer(A, B)"
   ]
  },
  {
   "cell_type": "markdown",
   "id": "7ad5cc5f",
   "metadata": {},
   "source": [
    "#### 98. Considering a path described by two vectors (X,Y), how to sample it using equidistant samples?"
   ]
  },
  {
   "cell_type": "code",
   "execution_count": 22,
   "id": "0899d1d5",
   "metadata": {},
   "outputs": [
    {
     "name": "stdout",
     "output_type": "stream",
     "text": [
      "Equidistantly sampled X coordinates: [ 0.00000000e+00 -3.73131229e-01 -2.59817608e+00 -3.26212050e+00\n",
      " -2.18442687e+00 -2.98929946e-02  2.42923642e+00  4.54913599e+00\n",
      "  5.92318348e+00  6.35117933e+00  5.82369277e+00  4.46259540e+00\n",
      "  2.47320794e+00  1.09577220e-01 -2.36575300e+00 -4.71261671e+00\n",
      " -6.72701769e+00 -8.25541575e+00 -9.18486120e+00 -9.46381505e+00\n",
      " -9.11085788e+00 -8.12875279e+00 -6.63306046e+00 -4.69271059e+00\n",
      " -2.44736165e+00 -2.05444585e-02  2.46101146e+00  4.86841760e+00\n",
      "  7.08937968e+00  9.02539126e+00  1.05948609e+01  1.17357250e+01\n",
      "  1.24068974e+01  1.25885805e+01  1.22815267e+01  1.15053927e+01\n",
      "  1.02963689e+01  8.70429550e+00  6.78948686e+00  4.61716636e+00\n",
      "  2.25853448e+00 -1.98731680e-01 -2.68040566e+00 -5.11543300e+00\n",
      " -7.41973991e+00 -9.53891040e+00 -1.14237629e+01 -1.29919305e+01\n",
      " -1.42355069e+01 -1.51243232e+01 -1.56061571e+01 -1.57219415e+01\n",
      " -1.54217066e+01 -1.47579136e+01 -1.37255236e+01 -1.23634834e+01\n",
      " -1.07024632e+01 -8.78327367e+00 -6.65029558e+00 -4.35514246e+00\n",
      " -1.94290275e+00  5.28038914e-01  3.00985904e+00  5.45450275e+00\n",
      "  7.80093594e+00  1.00179639e+01  1.20595602e+01  1.38732623e+01\n",
      "  1.54564938e+01  1.67497894e+01  1.77435802e+01  1.84439878e+01\n",
      "  1.87990820e+01  1.88271003e+01  1.85472755e+01  1.79378850e+01\n",
      "  1.70105456e+01  1.58085777e+01  1.43501808e+01  1.26222364e+01\n",
      "  1.06905445e+01  8.58498641e+00  6.33562529e+00  3.96179025e+00\n",
      "  1.51802643e+00 -9.61699044e-01 -3.44349301e+00 -5.88951759e+00\n",
      " -8.26006582e+00 -1.05270865e+01 -1.26610269e+01 -1.46343020e+01\n",
      " -1.64206033e+01 -1.79708499e+01 -1.92894561e+01 -2.03605967e+01\n",
      " -2.11716587e+01 -2.17133504e+01 -2.19797677e+01 -2.19626531e+01\n",
      " -2.16476737e+01 -2.10622561e+01 -2.02145809e+01 -1.91158467e+01\n",
      " -1.77800930e+01 -1.62239930e+01 -1.44666197e+01 -1.25291882e+01\n",
      " -1.04347777e+01 -8.20773276e+00 -5.86978851e+00 -3.45563299e+00\n",
      " -9.92556869e-01  1.49191203e+00  3.97031733e+00  6.41557503e+00\n",
      "  8.80126359e+00  1.11019001e+01  1.32931995e+01  1.53523150e+01\n",
      "  1.72580567e+01  1.89910866e+01  2.05340895e+01  2.18719167e+01\n",
      "  2.29917039e+01  2.38829603e+01  2.45376309e+01  2.49501314e+01\n",
      "  2.51173551e+01  2.50386548e+01  2.47157984e+01  2.41529019e+01\n",
      "  2.33563391e+01  2.23346314e+01  2.10983193e+01  1.96598169e+01\n",
      "  1.80332532e+01  1.62343003e+01  1.42799934e+01  1.21885425e+01\n",
      "  9.97914013e+00  7.67176574e+00  5.28699023e+00  2.84441658e+00\n",
      "  3.68190102e-01 -2.11846865e+00 -4.59426061e+00 -7.03829202e+00\n",
      " -9.43024209e+00 -1.17505186e+01 -1.39803999e+01 -1.61021634e+01\n",
      " -1.80991985e+01 -1.99561058e+01 -2.16587804e+01 -2.31850397e+01\n",
      " -2.45166960e+01 -2.56568097e+01 -2.65976904e+01 -2.73332424e+01\n",
      " -2.78589555e+01 -2.81718833e+01 -2.82706110e+01 -2.81552119e+01\n",
      " -2.78066635e+01 -2.72341677e+01 -2.64578863e+01 -2.54844118e+01\n",
      " -2.43214986e+01 -2.29779690e+01 -2.14636172e+01 -1.97837046e+01\n",
      " -1.79341987e+01 -1.59545785e+01 -1.38585628e+01 -1.16602783e+01\n",
      " -9.37416511e+00 -7.01488958e+00 -4.59184632e+00 -2.12995331e+00\n",
      "  3.50691071e-01  2.83498918e+00  5.30813450e+00  7.75565814e+00\n",
      "  1.01522531e+01  1.24813227e+01  1.47337756e+01  1.68973642e+01\n",
      "  1.89604991e+01  2.09071945e+01  2.26943693e+01  2.43420179e+01\n",
      "  2.58422998e+01  2.71881423e+01  2.83731992e+01  2.93376609e+01\n",
      "  3.01222558e+01  3.07280750e+01  3.11531219e+01  3.13960177e+01]\n",
      "Equidistantly sampled Y coordinates: [ 0.00000000e+00  1.74026724e+00  9.81816584e-01 -1.34251287e+00\n",
      " -3.53191891e+00 -4.70449474e+00 -4.59573427e+00 -3.33831870e+00\n",
      " -1.28956083e+00  1.14234685e+00  3.55645601e+00  5.62188218e+00\n",
      "  7.09389488e+00  7.82951803e+00  7.78700678e+00  6.99685666e+00\n",
      "  5.55535240e+00  3.60417006e+00  1.30506373e+00 -1.15819722e+00\n",
      " -3.61328132e+00 -5.89130465e+00 -7.87065053e+00 -9.41689057e+00\n",
      " -1.04714836e+01 -1.09903787e+01 -1.09354306e+01 -1.03330912e+01\n",
      " -9.22690166e+00 -7.67489830e+00 -5.75257980e+00 -3.54832201e+00\n",
      " -1.15854355e+00  1.31709956e+00  3.78023622e+00  6.13780326e+00\n",
      "  8.30540149e+00  1.02098724e+01  1.17910419e+01  1.29972950e+01\n",
      "  1.37774249e+01  1.41319792e+01  1.40585758e+01  1.35636816e+01\n",
      "  1.26345244e+01  1.13409083e+01  9.72216360e+00  7.79464305e+00\n",
      "  5.64544223e+00  3.32503222e+00  8.88107041e-01 -1.59329248e+00\n",
      " -4.05992507e+00 -6.45313746e+00 -8.71327144e+00 -1.07900854e+01\n",
      " -1.26380653e+01 -1.42147006e+01 -1.54892299e+01 -1.64390858e+01\n",
      " -1.70351433e+01 -1.72938948e+01 -1.71685631e+01 -1.67219979e+01\n",
      " -1.59044166e+01 -1.47824153e+01 -1.33665280e+01 -1.16678134e+01\n",
      " -9.75246391e+00 -7.63091465e+00 -5.35345831e+00 -2.96905840e+00\n",
      " -5.09631905e-01  1.97507060e+00  4.44430515e+00  6.85344809e+00\n",
      "  9.15903461e+00  1.13337844e+01  1.33467125e+01  1.51336120e+01\n",
      "  1.66966787e+01  1.80162922e+01  1.90746708e+01  1.98127969e+01\n",
      "  2.02634499e+01  2.04221761e+01  2.02877631e+01  1.98449702e+01\n",
      "  1.90974465e+01  1.80799531e+01  1.68069397e+01  1.52959771e+01\n",
      "  1.35665801e+01  1.16227312e+01  9.51601869e+00  7.27388893e+00\n",
      "  4.92519240e+00  2.49981337e+00  2.82932820e-02 -2.45817963e+00\n",
      " -4.92460367e+00 -7.34030894e+00 -9.67635928e+00 -1.19050601e+01\n",
      " -1.40002645e+01 -1.59376556e+01 -1.76950019e+01 -1.92523833e+01\n",
      " -2.05923861e+01 -2.16995543e+01 -2.25478860e+01 -2.31432552e+01\n",
      " -2.34800725e+01 -2.35556687e+01 -2.33702741e+01 -2.29269662e+01\n",
      " -2.22315865e+01 -2.12926288e+01 -2.01211000e+01 -1.87303570e+01\n",
      " -1.71359212e+01 -1.53552740e+01 -1.34076356e+01 -1.13137308e+01\n",
      " -9.09554383e+00 -6.77606668e+00 -4.37904252e+00 -1.92870828e+00\n",
      "  5.50461201e-01  3.03400451e+00  5.49771780e+00  7.91788934e+00\n",
      "  1.02715222e+01  1.25365431e+01  1.46919953e+01  1.67182148e+01\n",
      "  1.85969872e+01  2.03116866e+01  2.18473923e+01  2.31909872e+01\n",
      "  2.43312337e+01  2.52588296e+01  2.59664444e+01  2.64391214e+01\n",
      "  2.66748505e+01  2.66796333e+01  2.64545680e+01  2.60026765e+01\n",
      "  2.53288265e+01  2.44396400e+01  2.33433894e+01  2.20498837e+01\n",
      "  2.05703459e+01  1.89172843e+01  1.71043584e+01  1.51396391e+01\n",
      "  1.30387952e+01  1.08294252e+01  8.52903617e+00  6.15551380e+00\n",
      "  3.72697869e+00  1.26164946e+00 -1.22228693e+00 -3.70679651e+00\n",
      " -6.17014862e+00 -8.59028675e+00 -1.09516293e+01 -1.32379536e+01\n",
      " -1.54338179e+01 -1.75246263e+01 -1.94966815e+01 -2.13317519e+01\n",
      " -2.29952001e+01 -2.44987532e+01 -2.58335652e+01 -2.69919481e+01\n",
      " -2.79673583e+01 -2.87543764e+01 -2.93186910e+01 -2.96679958e+01\n",
      " -2.98181354e+01 -2.97693731e+01 -2.95229769e+01 -2.90811595e+01\n",
      " -2.84133854e+01 -2.75430665e+01 -2.64934034e+01 -2.52713717e+01\n",
      " -2.38845608e+01 -2.23353782e+01 -2.06051319e+01 -1.87442619e+01\n",
      " -1.67635423e+01 -1.46739620e+01 -1.24866789e+01 -1.01933401e+01\n",
      " -7.83474328e+00 -5.42495146e+00 -2.97607515e+00 -5.00072086e-01]\n"
     ]
    }
   ],
   "source": [
    "import numpy as np\n",
    "\n",
    "# Define parameters\n",
    "phi = np.arange(0, 10*np.pi, 0.1)\n",
    "a = 1\n",
    "\n",
    "# Calculate path coordinates\n",
    "x = a * phi * np.cos(phi)\n",
    "y = a * phi * np.sin(phi)\n",
    "\n",
    "# Compute segment lengths\n",
    "dr = np.sqrt(np.diff(x)**2 + np.diff(y)**2)  # segment lengths\n",
    "\n",
    "# Integrate path lengths\n",
    "r = np.zeros_like(x)\n",
    "r[1:] = np.cumsum(dr)  # integrate path\n",
    "\n",
    "# Define equidistant points along the path\n",
    "num_samples = 200\n",
    "r_int = np.linspace(0, r.max(), num_samples)  # regular spaced path\n",
    "x_int = np.interp(r_int, r, x)  # interpolate x coordinates\n",
    "y_int = np.interp(r_int, r, y)  # interpolate y coordinates\n",
    "\n",
    "# Print or use x_int, y_int as needed\n",
    "print(\"Equidistantly sampled X coordinates:\", x_int)\n",
    "print(\"Equidistantly sampled Y coordinates:\", y_int)\n"
   ]
  },
  {
   "cell_type": "markdown",
   "id": "2b69272e",
   "metadata": {},
   "source": [
    "#### 99. Given an integer n and a 2D array X, select from X the rows which can be interpreted as draws from a multinomial distribution with n degrees, i.e., the rows which only contain integers and which sum to n."
   ]
  },
  {
   "cell_type": "code",
   "execution_count": 13,
   "id": "55c8b034",
   "metadata": {},
   "outputs": [
    {
     "name": "stdout",
     "output_type": "stream",
     "text": [
      "[[2. 0. 1. 1.]]\n"
     ]
    }
   ],
   "source": [
    "X = np.asarray([[1.0, 0.0, 3.0, 8.0],\n",
    "                [2.0, 0.0, 1.0, 1.0],\n",
    "                [1.5, 2.5, 1.0, 0.0]])\n",
    "n = 4\n",
    "M = np.logical_and.reduce(np.mod(X, 1) == 0, axis=-1)\n",
    "M &= (X.sum(axis=-1) == n)\n",
    "print(X[M])"
   ]
  },
  {
   "cell_type": "markdown",
   "id": "59ab5516",
   "metadata": {},
   "source": [
    "#### 100. Compute bootstrapped 95% confidence intervals for the mean of a 1D array X (i.e., resample the elements of an array with replacement N times, compute the mean of each sample, and then compute percentiles over the means)."
   ]
  },
  {
   "cell_type": "code",
   "execution_count": 11,
   "id": "450877d8",
   "metadata": {},
   "outputs": [
    {
     "name": "stdout",
     "output_type": "stream",
     "text": [
      "[-0.23496607  0.16733919]\n"
     ]
    }
   ],
   "source": [
    "X = np.random.randn(100) # random 1D array\n",
    "N = 1000 # number of bootstrap samples\n",
    "idx = np.random.randint(0, X.size, (N, X.size))\n",
    "means = X[idx].mean(axis=1)\n",
    "confint = np.percentile(means, [2.5, 97.5])\n",
    "print(confint)"
   ]
  },
  {
   "cell_type": "code",
   "execution_count": null,
   "id": "584eeb9c-da8d-4f16-ae7e-5af11908cc11",
   "metadata": {},
   "outputs": [],
   "source": []
  }
 ],
 "metadata": {
  "kernelspec": {
   "display_name": "Python 3 (ipykernel)",
   "language": "python",
   "name": "python3"
  },
  "language_info": {
   "codemirror_mode": {
    "name": "ipython",
    "version": 3
   },
   "file_extension": ".py",
   "mimetype": "text/x-python",
   "name": "python",
   "nbconvert_exporter": "python",
   "pygments_lexer": "ipython3",
   "version": "3.12.4"
  }
 },
 "nbformat": 4,
 "nbformat_minor": 5
}
